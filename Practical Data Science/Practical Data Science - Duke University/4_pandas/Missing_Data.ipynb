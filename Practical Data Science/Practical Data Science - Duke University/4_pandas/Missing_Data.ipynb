{
 "cells": [
  {
   "cell_type": "markdown",
   "id": "5e5cfc65-b59f-4cb0-89a7-e546918b755f",
   "metadata": {},
   "source": [
    "Source: https://www.practicaldatascience.org/html/exercises/Exercise_missing.html"
   ]
  },
  {
   "cell_type": "markdown",
   "id": "d323cbf6-5aa3-469e-b0e4-3089a831243c",
   "metadata": {},
   "source": [
    "# Exercise 1\n",
    "Today, we will be using the ACS data we used during out first pandas exercise to examine the US income distribution, and how it varies by race. Note that because the US income distribution has a very small number of people with extremely high incomes, and the ACS is just a sample of Americans, the far right tail of the distribution will not be very well estimated. However, this data should suffice for helping to understand wealth inequality in the United States.\n",
    "\n",
    "To begin, load the ACS Data we used in our first pandas exercise. That data can be found here. We’ll be working with US_ACS_2017_10pct_sample.dta."
   ]
  },
  {
   "cell_type": "code",
   "execution_count": 1,
   "id": "0b800b14-cc32-46a5-87ae-4e8555d30d5a",
   "metadata": {},
   "outputs": [
    {
     "name": "stdout",
     "output_type": "stream",
     "text": [
      "DataFrames.ipynb             Series.ipynb\n",
      "Index.ipynb                  US_ACS_2017_10pct_sample.dta\n",
      "Missing_Data.ipynb\n"
     ]
    }
   ],
   "source": [
    "!ls"
   ]
  },
  {
   "cell_type": "code",
   "execution_count": 3,
   "id": "acf00548-4561-4615-8b0e-e2ecbb015207",
   "metadata": {},
   "outputs": [],
   "source": [
    "import pandas as pd\n",
    "df = pd.read_stata('US_ACS_2017_10pct_sample.dta')"
   ]
  },
  {
   "cell_type": "markdown",
   "id": "50ae1938-5c1d-4a98-a892-1dec07bbb10a",
   "metadata": {},
   "source": [
    "# Exercise 2\n",
    "Let’s begin by calculating the mean US incomes from this data (recall that income is stored in the inctot variable)."
   ]
  },
  {
   "cell_type": "code",
   "execution_count": 5,
   "id": "e0483c74-75fb-48ea-bb14-44622d78faf3",
   "metadata": {},
   "outputs": [
    {
     "data": {
      "text/plain": [
       "1723646.2703978634"
      ]
     },
     "execution_count": 5,
     "metadata": {},
     "output_type": "execute_result"
    }
   ],
   "source": [
    "df['inctot'].mean()"
   ]
  },
  {
   "cell_type": "code",
   "execution_count": 6,
   "id": "f1a0781d-67ce-4f07-8e72-4c22f4939eaf",
   "metadata": {},
   "outputs": [
    {
     "data": {
      "text/plain": [
       "9999999"
      ]
     },
     "execution_count": 6,
     "metadata": {},
     "output_type": "execute_result"
    }
   ],
   "source": [
    "df['inctot'].max()"
   ]
  },
  {
   "cell_type": "markdown",
   "id": "b09d16e8-5da8-4919-b789-49f6d6390b98",
   "metadata": {},
   "source": [
    "It looks very high because they use the 9999999 for NA values"
   ]
  },
  {
   "cell_type": "markdown",
   "id": "3165d62e-b963-446b-bfcc-2f67a019686b",
   "metadata": {},
   "source": [
    "# Exercise 3\n",
    "Hmmm… That doesn’t look right. The average American is definitely not earning 1.7 million dollars a year. Let’s look at the values of inctot using value_counts(). Do you see a problem?\n",
    "\n",
    "Now use value_counts() with the argument normalize=True to see proportions of the sample that report each value instead of the count of people in each category. What percentage of our sample has an income of 9,999,999? What percentage has an income of 0?"
   ]
  },
  {
   "cell_type": "code",
   "execution_count": 7,
   "id": "e21a56c6-c1f9-42c7-b2fa-59c9f26bc467",
   "metadata": {},
   "outputs": [
    {
     "data": {
      "text/plain": [
       "9999999    53901\n",
       "0          33679\n",
       "30000       4778\n",
       "50000       4414\n",
       "40000       4413\n",
       "           ...  \n",
       "70520          1\n",
       "76680          1\n",
       "57760          1\n",
       "200310         1\n",
       "505400         1\n",
       "Name: inctot, Length: 8471, dtype: int64"
      ]
     },
     "execution_count": 7,
     "metadata": {},
     "output_type": "execute_result"
    }
   ],
   "source": [
    "df['inctot'].value_counts()"
   ]
  },
  {
   "cell_type": "code",
   "execution_count": 8,
   "id": "79ba796e-8faa-4c8d-a5e1-4ea658952d3b",
   "metadata": {},
   "outputs": [
    {
     "data": {
      "text/plain": [
       "9999999    0.168967\n",
       "0          0.105575\n",
       "30000      0.014978\n",
       "50000      0.013837\n",
       "40000      0.013834\n",
       "             ...   \n",
       "70520      0.000003\n",
       "76680      0.000003\n",
       "57760      0.000003\n",
       "200310     0.000003\n",
       "505400     0.000003\n",
       "Name: inctot, Length: 8471, dtype: float64"
      ]
     },
     "execution_count": 8,
     "metadata": {},
     "output_type": "execute_result"
    }
   ],
   "source": [
    "df['inctot'].value_counts(normalize=True)"
   ]
  },
  {
   "cell_type": "markdown",
   "id": "3ff4f213-57a0-45ea-baba-c69d9dbf9de3",
   "metadata": {},
   "source": [
    "# Exercise 4\n",
    "As we discussed before, the ACS uses a value of 9999999 to denote that income information is not available for someone. The problem with using this kind of “sentinel value” is that pandas doesn’t understand that this is supposed to denote missing data, and so when it averages the variable, it doesn’t know to ignore 9999999.\n",
    "\n",
    "To help out pandas, use the replace command to replace all values of 9999999 with np.nan."
   ]
  },
  {
   "cell_type": "code",
   "execution_count": 10,
   "id": "ed24cd19-1a19-48c5-8246-7f3e5ecbdd57",
   "metadata": {},
   "outputs": [],
   "source": [
    "import numpy as np"
   ]
  },
  {
   "cell_type": "code",
   "execution_count": 12,
   "id": "719125c9-163f-4756-83c5-bced31797445",
   "metadata": {},
   "outputs": [],
   "source": [
    "df['inctot'] = df['inctot'].replace(9999999, np.nan)"
   ]
  },
  {
   "cell_type": "markdown",
   "id": "ba8c9a25-12a6-4a74-9238-e00c466e638f",
   "metadata": {},
   "source": [
    "# Exercise 5\n",
    "Now that we’ve properly labeled our missing data as np.nan, let’s calculate the average US income once more."
   ]
  },
  {
   "cell_type": "code",
   "execution_count": 13,
   "id": "6b6a8732-5efe-47e7-b5e1-6731dee949b4",
   "metadata": {},
   "outputs": [
    {
     "data": {
      "text/plain": [
       "40890.177564946454"
      ]
     },
     "execution_count": 13,
     "metadata": {},
     "output_type": "execute_result"
    }
   ],
   "source": [
    "df['inctot'].mean()"
   ]
  },
  {
   "cell_type": "markdown",
   "id": "5d430c54-dad9-4ca4-9d30-3637ed3fa226",
   "metadata": {},
   "source": [
    "# Exercise 6\n",
    "OK, now we’ve been able to get a reasonable average income number. As we can see, a major advantage of using np.nan is that pandas knows that np.nan observations should just be ignored when we are calculating means.\n",
    "\n",
    "But it’s not enough to just get rid of the people who had inctot values of 9999999. We also need to know why those values were missing. Suppose, for example, that the value of 9999999 was used for anyone who made more than 100,000 dollars: if we just dropped those people, then our estimate of average income wouldn’t mean much, would it?\n",
    "\n",
    "So let’s make sure we understand why data is missing for some people. If you recall from our last exercise, it seemed to be the case that most of the people who had incomes of 9999999 were children. Let’s make sure that’s true by looking at the distribution of the variable age for people for whom inctot is missing (i.e. subset the data to people with inctot missing, then look at the values of age with value_counts()).\n",
    "\n",
    "Then do the opposite: look at the distribution of the age variable for people who whom inctot is not missing.\n",
    "\n",
    "Can you determine when 9999999 was being used? Is it ok we’re excluding those people from our analysis?\n",
    "\n",
    "Note: In this data, Python doesn’t understand age is a number; it thinks it is a string because the original data has categories like “90 (90+ in 1980 and 1990)” and “less than 1 year old”. So you can’t just use min() or max(). We’ll discuss converting string variables into numbers in a future class."
   ]
  },
  {
   "cell_type": "code",
   "execution_count": 19,
   "id": "bf05bb70-d482-40ea-9c5a-cf31e85aadde",
   "metadata": {},
   "outputs": [
    {
     "name": "stdout",
     "output_type": "stream",
     "text": [
      "less than 1 year old\n",
      "14\n"
     ]
    }
   ],
   "source": [
    "cond1 = df['inctot'].isna()\n",
    "print(df[cond1]['age'].min())\n",
    "print(df[cond1]['age'].max())"
   ]
  },
  {
   "cell_type": "code",
   "execution_count": 20,
   "id": "b4dbbaf9-439e-4302-be9a-32522a6306ac",
   "metadata": {},
   "outputs": [
    {
     "name": "stdout",
     "output_type": "stream",
     "text": [
      "15\n",
      "96\n"
     ]
    }
   ],
   "source": [
    "print(df[~cond1]['age'].min())\n",
    "print(df[~cond1]['age'].max())"
   ]
  },
  {
   "cell_type": "markdown",
   "id": "052db777-8152-4042-a89d-1114fa51934f",
   "metadata": {},
   "source": [
    "# Exercise 7\n",
    "Great, so now we know why those people had missing data, and we’re ok with excluding them.\n",
    "\n",
    "But as we previously noted, there are also a lot of observations of zero income in our data, and it’s not clear that we want everyone with a zero-income should be included in this average, since those may be people who are retired, or in school.\n",
    "\n",
    "Let’s limit our attention to people who are currently working. We can do this using empstat. Remember you can use value_counts() to see what values of empstat are in the data!"
   ]
  },
  {
   "cell_type": "code",
   "execution_count": 22,
   "id": "b2e70c80-3b5c-41ba-8409-6c6613cc5e73",
   "metadata": {},
   "outputs": [
    {
     "data": {
      "text/plain": [
       "employed              148758\n",
       "not in labor force    104676\n",
       "n/a                    57843\n",
       "unemployed              7727\n",
       "Name: empstat, dtype: int64"
      ]
     },
     "execution_count": 22,
     "metadata": {},
     "output_type": "execute_result"
    }
   ],
   "source": [
    "df['empstat'].value_counts()"
   ]
  },
  {
   "cell_type": "code",
   "execution_count": 28,
   "id": "56b6584f-fd0a-41e6-931b-4f19538a9fb7",
   "metadata": {},
   "outputs": [
    {
     "data": {
      "text/plain": [
       "57854.723914007984"
      ]
     },
     "execution_count": 28,
     "metadata": {},
     "output_type": "execute_result"
    }
   ],
   "source": [
    "cond1 = df['empstat'] == 'employed'\n",
    "df[cond1]['inctot'].mean()"
   ]
  },
  {
   "cell_type": "markdown",
   "id": "0195ae86-5a40-42de-ba54-cd710938b088",
   "metadata": {},
   "source": [
    "# Exercise 8\n",
    "Now let’s estimate the racial income gap in the United States. What is the average salary for employed Black Americans, and what is the average salary for employed White Americans? In percentage terms, how much more does the average White American make than the average Black American?"
   ]
  },
  {
   "cell_type": "code",
   "execution_count": 38,
   "id": "3921d103-9dff-469c-8b5f-5cd20a51ec5f",
   "metadata": {},
   "outputs": [
    {
     "data": {
      "text/plain": [
       "white                               243751\n",
       "black/african american/negro         31691\n",
       "other asian or pacific islander      12508\n",
       "other race, nec                      12304\n",
       "two major races                       8826\n",
       "chinese                               4313\n",
       "american indian or alaska native      3595\n",
       "three or more major races             1207\n",
       "japanese                               809\n",
       "Name: race, dtype: int64"
      ]
     },
     "execution_count": 38,
     "metadata": {},
     "output_type": "execute_result"
    }
   ],
   "source": [
    "df['race'].value_counts()"
   ]
  },
  {
   "cell_type": "code",
   "execution_count": 39,
   "id": "caa0d3bd-8b79-4490-9b51-ee6ea7ab1334",
   "metadata": {},
   "outputs": [
    {
     "data": {
      "text/plain": [
       "race\n",
       "white                               60473.153727\n",
       "black/african american/negro        41747.949905\n",
       "american indian or alaska native    37996.522481\n",
       "chinese                             72804.918567\n",
       "japanese                            78906.744186\n",
       "other asian or pacific islander     66647.736613\n",
       "other race, nec                     34989.400521\n",
       "two major races                     49021.151515\n",
       "three or more major races           49787.183099\n",
       "Name: inctot, dtype: float64"
      ]
     },
     "execution_count": 39,
     "metadata": {},
     "output_type": "execute_result"
    }
   ],
   "source": [
    "cond1 = df['empstat'] == 'employed'\n",
    "df[cond1].groupby('race').mean()['inctot']"
   ]
  },
  {
   "cell_type": "code",
   "execution_count": 40,
   "id": "78dd4aba-104a-4a9c-8ed7-e2ace9c5e19a",
   "metadata": {},
   "outputs": [
    {
     "data": {
      "text/plain": [
       "race                              hispan      \n",
       "white                             not hispanic     63049.444348\n",
       "                                  mexican          37490.119250\n",
       "                                  puerto rican     46674.033838\n",
       "                                  cuban            48149.635922\n",
       "                                  other            44690.357210\n",
       "black/african american/negro      not hispanic     41969.817312\n",
       "                                  mexican          25981.224490\n",
       "                                  puerto rican     36056.916667\n",
       "                                  cuban            36912.121212\n",
       "                                  other            39147.647059\n",
       "american indian or alaska native  not hispanic     38021.568816\n",
       "                                  mexican          39143.406593\n",
       "                                  puerto rican     27366.666667\n",
       "                                  cuban            14500.000000\n",
       "                                  other            37018.943396\n",
       "chinese                           not hispanic     73062.210230\n",
       "                                  mexican          45000.000000\n",
       "                                  puerto rican              NaN\n",
       "                                  cuban            70000.000000\n",
       "                                  other            36911.111111\n",
       "japanese                          not hispanic     79841.187335\n",
       "                                  mexican          31350.000000\n",
       "                                  puerto rican              NaN\n",
       "                                  cuban                     NaN\n",
       "                                  other            44500.000000\n",
       "other asian or pacific islander   not hispanic     66993.965327\n",
       "                                  mexican          45681.351351\n",
       "                                  puerto rican     35958.461538\n",
       "                                  cuban             9000.000000\n",
       "                                  other            33062.222222\n",
       "other race, nec                   not hispanic     53473.470790\n",
       "                                  mexican          33255.931133\n",
       "                                  puerto rican     37577.830688\n",
       "                                  cuban            34658.490566\n",
       "                                  other            34796.498708\n",
       "two major races                   not hispanic     52584.554707\n",
       "                                  mexican          36490.846995\n",
       "                                  puerto rican     37640.267857\n",
       "                                  cuban            36150.000000\n",
       "                                  other            40783.758865\n",
       "three or more major races         not hispanic     52499.744409\n",
       "                                  mexican          36671.081081\n",
       "                                  puerto rican     38873.076923\n",
       "                                  cuban           110455.000000\n",
       "                                  other            36327.380952\n",
       "Name: inctot, dtype: float64"
      ]
     },
     "execution_count": 40,
     "metadata": {},
     "output_type": "execute_result"
    }
   ],
   "source": [
    "cond1 = df['empstat'] == 'employed'\n",
    "df[cond1].groupby(['race','hispan']).mean()['inctot']"
   ]
  },
  {
   "cell_type": "markdown",
   "id": "5d5ac92a-18ca-4c6b-8c5c-6a6fb4d45b79",
   "metadata": {},
   "source": [
    "# Want more practice?\n",
    "(1) As noted above, these estimates are not actually quite correct because we aren’t using survey weights. To calculate a weighted average that takes into account survey weights, you need to use the following formula:\n",
    "\n",
    " \n",
    "(As you can see, when  is constant for all observations, this just simplifies to our normal formula for mean values. It is only when weights vary across individuals that weights must be explicitly addressed).\n",
    "\n",
    "In this data, weights are stored in the variable perwt, which is the number of people for which each observation is a stand-in (the inverse of that observations sampling probability).\n",
    "\n",
    "Using the formula, re-calculate the weighted average income for both populations."
   ]
  },
  {
   "cell_type": "code",
   "execution_count": 44,
   "id": "cd2e0817-8358-4ced-8dbe-436c7984c71e",
   "metadata": {},
   "outputs": [
    {
     "data": {
      "text/plain": [
       "55050.47746086801"
      ]
     },
     "execution_count": 44,
     "metadata": {},
     "output_type": "execute_result"
    }
   ],
   "source": [
    "cond1 = df['empstat'] == 'employed'\n",
    "filtered_df = df[cond1].copy()\n",
    "\n",
    "(filtered_df['inctot']*filtered_df['perwt']).sum()/filtered_df['perwt'].sum()"
   ]
  },
  {
   "cell_type": "code",
   "execution_count": 48,
   "id": "eaaddb04-6eb9-4b12-bdf3-18fb475a1ca3",
   "metadata": {},
   "outputs": [
    {
     "data": {
      "text/plain": [
       "race\n",
       "white                               58361.481961\n",
       "black/african american/negro        40430.953355\n",
       "american indian or alaska native    36982.665676\n",
       "chinese                             71139.573781\n",
       "japanese                            73385.636287\n",
       "other asian or pacific islander     63954.682574\n",
       "other race, nec                     33696.658180\n",
       "two major races                     47724.446956\n",
       "three or more major races           47127.188928\n",
       "dtype: float64"
      ]
     },
     "execution_count": 48,
     "metadata": {},
     "output_type": "execute_result"
    }
   ],
   "source": [
    "f = lambda x: (x['inctot']*filtered_df['perwt']).sum()/x['perwt'].sum()\n",
    "filtered_df.groupby('race').apply(f)"
   ]
  },
  {
   "cell_type": "code",
   "execution_count": null,
   "id": "ce4ccbd3-b8c4-4ae2-be74-911cbd5d2e51",
   "metadata": {},
   "outputs": [],
   "source": []
  }
 ],
 "metadata": {
  "kernelspec": {
   "display_name": "Python 3 (ipykernel)",
   "language": "python",
   "name": "python3"
  },
  "language_info": {
   "codemirror_mode": {
    "name": "ipython",
    "version": 3
   },
   "file_extension": ".py",
   "mimetype": "text/x-python",
   "name": "python",
   "nbconvert_exporter": "python",
   "pygments_lexer": "ipython3",
   "version": "3.9.2"
  }
 },
 "nbformat": 4,
 "nbformat_minor": 5
}

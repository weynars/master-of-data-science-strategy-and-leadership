{
 "cells": [
  {
   "cell_type": "markdown",
   "id": "566a7102-9480-4e0a-bbdb-0162f9a72c4c",
   "metadata": {},
   "source": [
    "Source: https://www.practicaldatascience.org/html/exercises/Exercise_cleaning.html"
   ]
  },
  {
   "cell_type": "markdown",
   "id": "0904815b-e9b5-4961-8986-b02845b45c1d",
   "metadata": {},
   "source": [
    "__1. For our data cleaning exercises, we will return one last time to our ACS data here. Download and import the 10percent ACS sample.__\n",
    "\n",
    "__2. For our exercises today, we’ll focus on age, gender, sex, and inctot. Subset your data to those variables, and quickly look at a sample of 10 rows.__"
   ]
  },
  {
   "cell_type": "code",
   "execution_count": 1,
   "id": "c1b05c22-cd67-44b0-a36e-3c900a7f8205",
   "metadata": {},
   "outputs": [],
   "source": [
    "import pandas as pd\n",
    "df = pd.read_stata('US_ACS_2017_10pct_sample.dta')"
   ]
  },
  {
   "cell_type": "code",
   "execution_count": 40,
   "id": "f8eb8c00-940f-46db-9563-96e41e41c151",
   "metadata": {},
   "outputs": [],
   "source": [
    "cols = ['age', 'sex', 'inctot','empstat','educ']\n",
    "sub_df = df[cols].copy()"
   ]
  },
  {
   "cell_type": "code",
   "execution_count": 41,
   "id": "9e48de32-2e4f-415a-b6a8-c3b0eaa6e2ad",
   "metadata": {},
   "outputs": [
    {
     "data": {
      "text/html": [
       "<div>\n",
       "<style scoped>\n",
       "    .dataframe tbody tr th:only-of-type {\n",
       "        vertical-align: middle;\n",
       "    }\n",
       "\n",
       "    .dataframe tbody tr th {\n",
       "        vertical-align: top;\n",
       "    }\n",
       "\n",
       "    .dataframe thead th {\n",
       "        text-align: right;\n",
       "    }\n",
       "</style>\n",
       "<table border=\"1\" class=\"dataframe\">\n",
       "  <thead>\n",
       "    <tr style=\"text-align: right;\">\n",
       "      <th></th>\n",
       "      <th>age</th>\n",
       "      <th>sex</th>\n",
       "      <th>inctot</th>\n",
       "      <th>empstat</th>\n",
       "      <th>educ</th>\n",
       "    </tr>\n",
       "  </thead>\n",
       "  <tbody>\n",
       "    <tr>\n",
       "      <th>161046</th>\n",
       "      <td>48</td>\n",
       "      <td>male</td>\n",
       "      <td>87100</td>\n",
       "      <td>employed</td>\n",
       "      <td>1 year of college</td>\n",
       "    </tr>\n",
       "    <tr>\n",
       "      <th>109696</th>\n",
       "      <td>49</td>\n",
       "      <td>female</td>\n",
       "      <td>30000</td>\n",
       "      <td>employed</td>\n",
       "      <td>2 years of college</td>\n",
       "    </tr>\n",
       "    <tr>\n",
       "      <th>198174</th>\n",
       "      <td>54</td>\n",
       "      <td>male</td>\n",
       "      <td>7000</td>\n",
       "      <td>employed</td>\n",
       "      <td>4 years of college</td>\n",
       "    </tr>\n",
       "    <tr>\n",
       "      <th>35805</th>\n",
       "      <td>8</td>\n",
       "      <td>female</td>\n",
       "      <td>9999999</td>\n",
       "      <td>n/a</td>\n",
       "      <td>nursery school to grade 4</td>\n",
       "    </tr>\n",
       "    <tr>\n",
       "      <th>136659</th>\n",
       "      <td>12</td>\n",
       "      <td>male</td>\n",
       "      <td>9999999</td>\n",
       "      <td>n/a</td>\n",
       "      <td>grade 5, 6, 7, or 8</td>\n",
       "    </tr>\n",
       "    <tr>\n",
       "      <th>109329</th>\n",
       "      <td>16</td>\n",
       "      <td>female</td>\n",
       "      <td>0</td>\n",
       "      <td>not in labor force</td>\n",
       "      <td>grade 9</td>\n",
       "    </tr>\n",
       "    <tr>\n",
       "      <th>224144</th>\n",
       "      <td>68</td>\n",
       "      <td>male</td>\n",
       "      <td>13200</td>\n",
       "      <td>not in labor force</td>\n",
       "      <td>grade 12</td>\n",
       "    </tr>\n",
       "    <tr>\n",
       "      <th>126252</th>\n",
       "      <td>41</td>\n",
       "      <td>male</td>\n",
       "      <td>24000</td>\n",
       "      <td>employed</td>\n",
       "      <td>grade 12</td>\n",
       "    </tr>\n",
       "    <tr>\n",
       "      <th>21499</th>\n",
       "      <td>49</td>\n",
       "      <td>female</td>\n",
       "      <td>0</td>\n",
       "      <td>not in labor force</td>\n",
       "      <td>4 years of college</td>\n",
       "    </tr>\n",
       "    <tr>\n",
       "      <th>147745</th>\n",
       "      <td>17</td>\n",
       "      <td>female</td>\n",
       "      <td>0</td>\n",
       "      <td>not in labor force</td>\n",
       "      <td>grade 9</td>\n",
       "    </tr>\n",
       "  </tbody>\n",
       "</table>\n",
       "</div>"
      ],
      "text/plain": [
       "       age     sex   inctot             empstat                       educ\n",
       "161046  48    male    87100            employed          1 year of college\n",
       "109696  49  female    30000            employed         2 years of college\n",
       "198174  54    male     7000            employed         4 years of college\n",
       "35805    8  female  9999999                 n/a  nursery school to grade 4\n",
       "136659  12    male  9999999                 n/a        grade 5, 6, 7, or 8\n",
       "109329  16  female        0  not in labor force                    grade 9\n",
       "224144  68    male    13200  not in labor force                   grade 12\n",
       "126252  41    male    24000            employed                   grade 12\n",
       "21499   49  female        0  not in labor force         4 years of college\n",
       "147745  17  female        0  not in labor force                    grade 9"
      ]
     },
     "execution_count": 41,
     "metadata": {},
     "output_type": "execute_result"
    }
   ],
   "source": [
    "sub_df.sample(10)"
   ]
  },
  {
   "cell_type": "markdown",
   "id": "f57d1708-71df-4455-b5fb-5aef1d920298",
   "metadata": {},
   "source": [
    "__3) First, replace all the values of inctot that are 9999999 with np.nan.__"
   ]
  },
  {
   "cell_type": "code",
   "execution_count": 42,
   "id": "1efc9a70-c664-4b5f-86a3-8204abec9642",
   "metadata": {},
   "outputs": [],
   "source": [
    "import numpy as np\n",
    "sub_df['inctot'] = sub_df['inctot'].replace(9999999, np.nan)"
   ]
  },
  {
   "cell_type": "markdown",
   "id": "7e548425-407d-463c-8c19-ed3286a8819e",
   "metadata": {},
   "source": [
    "__4) Calculate the average age of people in our data. What do you get?__"
   ]
  },
  {
   "cell_type": "code",
   "execution_count": 49,
   "id": "cc82f549-586d-4262-b93f-5a54e802c94c",
   "metadata": {
    "tags": []
   },
   "outputs": [],
   "source": [
    "# sub_df['age'].mean()"
   ]
  },
  {
   "cell_type": "markdown",
   "id": "ed7b60b1-fdc5-4e8c-9cb0-f1402e5cbe14",
   "metadata": {},
   "source": [
    "__5) We want to be able to calculate things using age, so we need it to be a numeric type. Check all the values of age to figure out why it’s categorical and not numeric. You should find two problematic categories.__"
   ]
  },
  {
   "cell_type": "code",
   "execution_count": 44,
   "id": "10299582-704f-426e-b10f-9ad8defd379e",
   "metadata": {},
   "outputs": [
    {
     "name": "stdout",
     "output_type": "stream",
     "text": [
      "4\n",
      "17\n",
      "63\n",
      "66\n",
      "1\n",
      "50\n",
      "82\n",
      "8\n",
      "14\n",
      "47\n",
      "13\n",
      "27\n",
      "15\n",
      "67\n",
      "92\n",
      "37\n",
      "59\n",
      "11\n",
      "28\n",
      "48\n",
      "39\n",
      "70\n",
      "10\n",
      "80\n",
      "75\n",
      "7\n",
      "9\n",
      "34\n",
      "88\n",
      "49\n",
      "73\n",
      "less than 1 year old\n",
      "76\n",
      "20\n",
      "40\n",
      "22\n",
      "12\n",
      "25\n",
      "52\n",
      "43\n",
      "51\n",
      "53\n",
      "35\n",
      "69\n",
      "30\n",
      "38\n",
      "81\n",
      "64\n",
      "36\n",
      "57\n",
      "21\n",
      "72\n",
      "79\n",
      "71\n",
      "46\n",
      "78\n",
      "26\n",
      "45\n",
      "56\n",
      "93\n",
      "19\n",
      "18\n",
      "58\n",
      "5\n",
      "29\n",
      "54\n",
      "44\n",
      "31\n",
      "68\n",
      "42\n",
      "62\n",
      "74\n",
      "60\n",
      "65\n",
      "61\n",
      "41\n",
      "32\n",
      "3\n",
      "6\n",
      "55\n",
      "2\n",
      "33\n",
      "77\n",
      "16\n",
      "23\n",
      "94\n",
      "24\n",
      "83\n",
      "90 (90+ in 1980 and 1990)\n",
      "85\n",
      "84\n",
      "87\n",
      "86\n",
      "95\n",
      "89\n",
      "91\n",
      "96\n"
     ]
    }
   ],
   "source": [
    "for val in sub_df['age'].unique():\n",
    "    print(val)"
   ]
  },
  {
   "cell_type": "markdown",
   "id": "ec0bc07d-2ad7-440d-87d6-cedfdde86e72",
   "metadata": {},
   "source": [
    "__6) In order to convert age into a numeric variable, we need to replace those problematic entries with values that pandas can later convert into numbers. Pick appropriate substitutions for the existing values and replace the current values. Hint 1: Categorical variables act like strings, so you might want to use string methods! Hint 2: Remember that characters like parentheses, pluses, asterices, etc. are special in Python strings, and you have to escape them if you want them to be interpreted literally!__"
   ]
  },
  {
   "cell_type": "code",
   "execution_count": 45,
   "id": "04ec3a43-4aa6-46ec-8fe3-3c4711ea15a1",
   "metadata": {},
   "outputs": [],
   "source": [
    "sub_df['age'] = sub_df['age'].replace('less than 1 year old', '1')\n",
    "sub_df['age'] = sub_df['age'].replace('90 (90+ in 1980 and 1990)', '90')"
   ]
  },
  {
   "cell_type": "code",
   "execution_count": 46,
   "id": "57b9ed65-37e6-46eb-bf14-89feee91a194",
   "metadata": {},
   "outputs": [],
   "source": [
    "# for val in sub_df['age'].unique():\n",
    "#     print(val)"
   ]
  },
  {
   "cell_type": "markdown",
   "id": "0a372884-1e38-48d1-b488-3320e07acae8",
   "metadata": {},
   "source": [
    "__7) Now convert age from a categorical to numeric.__"
   ]
  },
  {
   "cell_type": "code",
   "execution_count": 47,
   "id": "735a940f-817c-466e-988f-ec0ffcd27232",
   "metadata": {},
   "outputs": [],
   "source": [
    "sub_df['age'] = sub_df['age'].astype(float)"
   ]
  },
  {
   "cell_type": "markdown",
   "id": "510b0b88-2440-4720-be54-d383c54114f6",
   "metadata": {},
   "source": [
    "__8) Let’s now filter out anyone in our data whose age is less than than 18. Note that before made age a numeric variable, we couldn’t do this!__"
   ]
  },
  {
   "cell_type": "code",
   "execution_count": 48,
   "id": "c36eede2-3e02-462a-88f9-7b021b1cc180",
   "metadata": {},
   "outputs": [
    {
     "data": {
      "text/html": [
       "<div>\n",
       "<style scoped>\n",
       "    .dataframe tbody tr th:only-of-type {\n",
       "        vertical-align: middle;\n",
       "    }\n",
       "\n",
       "    .dataframe tbody tr th {\n",
       "        vertical-align: top;\n",
       "    }\n",
       "\n",
       "    .dataframe thead th {\n",
       "        text-align: right;\n",
       "    }\n",
       "</style>\n",
       "<table border=\"1\" class=\"dataframe\">\n",
       "  <thead>\n",
       "    <tr style=\"text-align: right;\">\n",
       "      <th></th>\n",
       "      <th>age</th>\n",
       "      <th>sex</th>\n",
       "      <th>inctot</th>\n",
       "      <th>empstat</th>\n",
       "      <th>educ</th>\n",
       "    </tr>\n",
       "  </thead>\n",
       "  <tbody>\n",
       "    <tr>\n",
       "      <th>178142</th>\n",
       "      <td>7.0</td>\n",
       "      <td>female</td>\n",
       "      <td>NaN</td>\n",
       "      <td>n/a</td>\n",
       "      <td>nursery school to grade 4</td>\n",
       "    </tr>\n",
       "    <tr>\n",
       "      <th>26295</th>\n",
       "      <td>16.0</td>\n",
       "      <td>male</td>\n",
       "      <td>0.0</td>\n",
       "      <td>not in labor force</td>\n",
       "      <td>grade 9</td>\n",
       "    </tr>\n",
       "    <tr>\n",
       "      <th>209377</th>\n",
       "      <td>6.0</td>\n",
       "      <td>male</td>\n",
       "      <td>NaN</td>\n",
       "      <td>n/a</td>\n",
       "      <td>nursery school to grade 4</td>\n",
       "    </tr>\n",
       "    <tr>\n",
       "      <th>96364</th>\n",
       "      <td>1.0</td>\n",
       "      <td>male</td>\n",
       "      <td>NaN</td>\n",
       "      <td>n/a</td>\n",
       "      <td>n/a or no schooling</td>\n",
       "    </tr>\n",
       "    <tr>\n",
       "      <th>118724</th>\n",
       "      <td>1.0</td>\n",
       "      <td>female</td>\n",
       "      <td>NaN</td>\n",
       "      <td>n/a</td>\n",
       "      <td>n/a or no schooling</td>\n",
       "    </tr>\n",
       "    <tr>\n",
       "      <th>86242</th>\n",
       "      <td>9.0</td>\n",
       "      <td>male</td>\n",
       "      <td>NaN</td>\n",
       "      <td>n/a</td>\n",
       "      <td>nursery school to grade 4</td>\n",
       "    </tr>\n",
       "    <tr>\n",
       "      <th>12886</th>\n",
       "      <td>13.0</td>\n",
       "      <td>female</td>\n",
       "      <td>NaN</td>\n",
       "      <td>n/a</td>\n",
       "      <td>grade 5, 6, 7, or 8</td>\n",
       "    </tr>\n",
       "    <tr>\n",
       "      <th>125556</th>\n",
       "      <td>9.0</td>\n",
       "      <td>male</td>\n",
       "      <td>NaN</td>\n",
       "      <td>n/a</td>\n",
       "      <td>nursery school to grade 4</td>\n",
       "    </tr>\n",
       "    <tr>\n",
       "      <th>211530</th>\n",
       "      <td>1.0</td>\n",
       "      <td>male</td>\n",
       "      <td>NaN</td>\n",
       "      <td>n/a</td>\n",
       "      <td>n/a or no schooling</td>\n",
       "    </tr>\n",
       "    <tr>\n",
       "      <th>297720</th>\n",
       "      <td>10.0</td>\n",
       "      <td>male</td>\n",
       "      <td>NaN</td>\n",
       "      <td>n/a</td>\n",
       "      <td>nursery school to grade 4</td>\n",
       "    </tr>\n",
       "  </tbody>\n",
       "</table>\n",
       "</div>"
      ],
      "text/plain": [
       "         age     sex  inctot             empstat                       educ\n",
       "178142   7.0  female     NaN                 n/a  nursery school to grade 4\n",
       "26295   16.0    male     0.0  not in labor force                    grade 9\n",
       "209377   6.0    male     NaN                 n/a  nursery school to grade 4\n",
       "96364    1.0    male     NaN                 n/a        n/a or no schooling\n",
       "118724   1.0  female     NaN                 n/a        n/a or no schooling\n",
       "86242    9.0    male     NaN                 n/a  nursery school to grade 4\n",
       "12886   13.0  female     NaN                 n/a        grade 5, 6, 7, or 8\n",
       "125556   9.0    male     NaN                 n/a  nursery school to grade 4\n",
       "211530   1.0    male     NaN                 n/a        n/a or no schooling\n",
       "297720  10.0    male     NaN                 n/a  nursery school to grade 4"
      ]
     },
     "execution_count": 48,
     "metadata": {},
     "output_type": "execute_result"
    }
   ],
   "source": [
    "cond1 = sub_df['age'] < 18\n",
    "sub_df[cond1].sample(10)"
   ]
  },
  {
   "cell_type": "markdown",
   "id": "0351fc18-a14b-47e0-91e9-a86b628f7467",
   "metadata": {},
   "source": [
    "__9) Create an indicator variable for whether each person has at least a college degree called college_degree.__"
   ]
  },
  {
   "cell_type": "code",
   "execution_count": 53,
   "id": "480f17ef-bb17-4dcf-9c66-1afdc69acb3c",
   "metadata": {},
   "outputs": [
    {
     "data": {
      "text/plain": [
       "grade 12                     93133\n",
       "4 years of college           47212\n",
       "1 year of college            38779\n",
       "5+ years of college          29801\n",
       "nursery school to grade 4    24514\n",
       "grade 5, 6, 7, or 8          21535\n",
       "2 years of college           20757\n",
       "n/a or no schooling          19562\n",
       "grade 11                      8758\n",
       "grade 10                      7818\n",
       "grade 9                       7135\n",
       "Name: educ, dtype: int64"
      ]
     },
     "execution_count": 53,
     "metadata": {},
     "output_type": "execute_result"
    }
   ],
   "source": [
    "sub_df['educ'].value_counts()"
   ]
  },
  {
   "cell_type": "code",
   "execution_count": 54,
   "id": "89107603-37ec-449c-a1a7-0a9a9c61132b",
   "metadata": {},
   "outputs": [],
   "source": [
    "sub_df['college_degree'] = sub_df['educ'] > 'grade 12'"
   ]
  },
  {
   "cell_type": "markdown",
   "id": "97427f2f-e24b-4d57-9f63-c968ea6378b9",
   "metadata": {},
   "source": [
    "__10) Let’s examine how the educational gender gap. Use pd.crosstab to create a cross-tabulation of sex and college_degree. pd.crosstab will give you the number of people who have each combination of sex and college_degree (so in this case, it will give us a 2x2 table with Male and Female as rows, and college_degree True and False as columns, or vice versa.__"
   ]
  },
  {
   "cell_type": "code",
   "execution_count": 55,
   "id": "d6521f7d-8367-4f98-a14d-491c807eb2b1",
   "metadata": {},
   "outputs": [
    {
     "data": {
      "text/html": [
       "<div>\n",
       "<style scoped>\n",
       "    .dataframe tbody tr th:only-of-type {\n",
       "        vertical-align: middle;\n",
       "    }\n",
       "\n",
       "    .dataframe tbody tr th {\n",
       "        vertical-align: top;\n",
       "    }\n",
       "\n",
       "    .dataframe thead th {\n",
       "        text-align: right;\n",
       "    }\n",
       "</style>\n",
       "<table border=\"1\" class=\"dataframe\">\n",
       "  <thead>\n",
       "    <tr style=\"text-align: right;\">\n",
       "      <th>college_degree</th>\n",
       "      <th>False</th>\n",
       "      <th>True</th>\n",
       "    </tr>\n",
       "    <tr>\n",
       "      <th>sex</th>\n",
       "      <th></th>\n",
       "      <th></th>\n",
       "    </tr>\n",
       "  </thead>\n",
       "  <tbody>\n",
       "    <tr>\n",
       "      <th>male</th>\n",
       "      <td>92134</td>\n",
       "      <td>63731</td>\n",
       "    </tr>\n",
       "    <tr>\n",
       "      <th>female</th>\n",
       "      <td>90321</td>\n",
       "      <td>72818</td>\n",
       "    </tr>\n",
       "  </tbody>\n",
       "</table>\n",
       "</div>"
      ],
      "text/plain": [
       "college_degree  False   True\n",
       "sex                         \n",
       "male            92134  63731\n",
       "female          90321  72818"
      ]
     },
     "execution_count": 55,
     "metadata": {},
     "output_type": "execute_result"
    }
   ],
   "source": [
    "pd.crosstab(sub_df['sex'],sub_df['college_degree'])"
   ]
  },
  {
   "cell_type": "markdown",
   "id": "afcd62bb-d0e5-4965-8927-76763b1cc9d8",
   "metadata": {},
   "source": [
    "__11) Counts are kind of hard to interpret. pd.crosstab can also normalize values to give percentages. Look at the pd.crosstab help file to figure out how to normalize the values in the table. Normalize them so that you get the share of men with and without college degree, and the share of women with and without college degrees.__"
   ]
  },
  {
   "cell_type": "code",
   "execution_count": 61,
   "id": "ca49f210-4656-4dfe-8597-c83e14418159",
   "metadata": {},
   "outputs": [
    {
     "data": {
      "text/html": [
       "<div>\n",
       "<style scoped>\n",
       "    .dataframe tbody tr th:only-of-type {\n",
       "        vertical-align: middle;\n",
       "    }\n",
       "\n",
       "    .dataframe tbody tr th {\n",
       "        vertical-align: top;\n",
       "    }\n",
       "\n",
       "    .dataframe thead th {\n",
       "        text-align: right;\n",
       "    }\n",
       "</style>\n",
       "<table border=\"1\" class=\"dataframe\">\n",
       "  <thead>\n",
       "    <tr style=\"text-align: right;\">\n",
       "      <th>college_degree</th>\n",
       "      <th>False</th>\n",
       "      <th>True</th>\n",
       "    </tr>\n",
       "    <tr>\n",
       "      <th>sex</th>\n",
       "      <th></th>\n",
       "      <th></th>\n",
       "    </tr>\n",
       "  </thead>\n",
       "  <tbody>\n",
       "    <tr>\n",
       "      <th>male</th>\n",
       "      <td>0.591114</td>\n",
       "      <td>0.408886</td>\n",
       "    </tr>\n",
       "    <tr>\n",
       "      <th>female</th>\n",
       "      <td>0.553644</td>\n",
       "      <td>0.446356</td>\n",
       "    </tr>\n",
       "  </tbody>\n",
       "</table>\n",
       "</div>"
      ],
      "text/plain": [
       "college_degree     False      True\n",
       "sex                               \n",
       "male            0.591114  0.408886\n",
       "female          0.553644  0.446356"
      ]
     },
     "execution_count": 61,
     "metadata": {},
     "output_type": "execute_result"
    }
   ],
   "source": [
    "pd.crosstab(sub_df['sex'],sub_df['college_degree'], normalize='index')"
   ]
  },
  {
   "cell_type": "markdown",
   "id": "a0bfab52-ccc6-4c61-aec4-adff1714d7f1",
   "metadata": {},
   "source": [
    "__12) Now, let’s recreate that table for people over 40 and people under 40. Has the difference between men and women in terms of getting a college degree impoved, stayed the same, or worsened?__"
   ]
  },
  {
   "cell_type": "code",
   "execution_count": 62,
   "id": "9987da0f-cca0-4696-b447-426443809602",
   "metadata": {},
   "outputs": [
    {
     "data": {
      "text/html": [
       "<div>\n",
       "<style scoped>\n",
       "    .dataframe tbody tr th:only-of-type {\n",
       "        vertical-align: middle;\n",
       "    }\n",
       "\n",
       "    .dataframe tbody tr th {\n",
       "        vertical-align: top;\n",
       "    }\n",
       "\n",
       "    .dataframe thead th {\n",
       "        text-align: right;\n",
       "    }\n",
       "</style>\n",
       "<table border=\"1\" class=\"dataframe\">\n",
       "  <thead>\n",
       "    <tr style=\"text-align: right;\">\n",
       "      <th>college_degree</th>\n",
       "      <th>False</th>\n",
       "      <th>True</th>\n",
       "    </tr>\n",
       "    <tr>\n",
       "      <th>sex</th>\n",
       "      <th></th>\n",
       "      <th></th>\n",
       "    </tr>\n",
       "  </thead>\n",
       "  <tbody>\n",
       "    <tr>\n",
       "      <th>male</th>\n",
       "      <td>0.476536</td>\n",
       "      <td>0.523464</td>\n",
       "    </tr>\n",
       "    <tr>\n",
       "      <th>female</th>\n",
       "      <td>0.479776</td>\n",
       "      <td>0.520224</td>\n",
       "    </tr>\n",
       "  </tbody>\n",
       "</table>\n",
       "</div>"
      ],
      "text/plain": [
       "college_degree     False      True\n",
       "sex                               \n",
       "male            0.476536  0.523464\n",
       "female          0.479776  0.520224"
      ]
     },
     "execution_count": 62,
     "metadata": {},
     "output_type": "execute_result"
    }
   ],
   "source": [
    "# Above 40\n",
    "cond1 = sub_df['age'] > 40\n",
    "filtered_df = sub_df[cond1].copy()\n",
    "\n",
    "pd.crosstab(filtered_df['sex'],filtered_df['college_degree'], normalize='index')"
   ]
  },
  {
   "cell_type": "code",
   "execution_count": 63,
   "id": "79a6f6d6-85c5-4c8f-8982-d78ba2f63e7d",
   "metadata": {},
   "outputs": [
    {
     "data": {
      "text/html": [
       "<div>\n",
       "<style scoped>\n",
       "    .dataframe tbody tr th:only-of-type {\n",
       "        vertical-align: middle;\n",
       "    }\n",
       "\n",
       "    .dataframe tbody tr th {\n",
       "        vertical-align: top;\n",
       "    }\n",
       "\n",
       "    .dataframe thead th {\n",
       "        text-align: right;\n",
       "    }\n",
       "</style>\n",
       "<table border=\"1\" class=\"dataframe\">\n",
       "  <thead>\n",
       "    <tr style=\"text-align: right;\">\n",
       "      <th>college_degree</th>\n",
       "      <th>False</th>\n",
       "      <th>True</th>\n",
       "    </tr>\n",
       "    <tr>\n",
       "      <th>sex</th>\n",
       "      <th></th>\n",
       "      <th></th>\n",
       "    </tr>\n",
       "  </thead>\n",
       "  <tbody>\n",
       "    <tr>\n",
       "      <th>male</th>\n",
       "      <td>0.704431</td>\n",
       "      <td>0.295569</td>\n",
       "    </tr>\n",
       "    <tr>\n",
       "      <th>female</th>\n",
       "      <td>0.637741</td>\n",
       "      <td>0.362259</td>\n",
       "    </tr>\n",
       "  </tbody>\n",
       "</table>\n",
       "</div>"
      ],
      "text/plain": [
       "college_degree     False      True\n",
       "sex                               \n",
       "male            0.704431  0.295569\n",
       "female          0.637741  0.362259"
      ]
     },
     "execution_count": 63,
     "metadata": {},
     "output_type": "execute_result"
    }
   ],
   "source": [
    "# Below 40\n",
    "cond1 = sub_df['age'] <= 40\n",
    "filtered_df = sub_df[cond1].copy()\n",
    "\n",
    "pd.crosstab(filtered_df['sex'],filtered_df['college_degree'], normalize='index')"
   ]
  },
  {
   "cell_type": "code",
   "execution_count": null,
   "id": "13b98855-4288-44a8-978c-9c043daf395c",
   "metadata": {},
   "outputs": [],
   "source": []
  }
 ],
 "metadata": {
  "kernelspec": {
   "display_name": "Python 3 (ipykernel)",
   "language": "python",
   "name": "python3"
  },
  "language_info": {
   "codemirror_mode": {
    "name": "ipython",
    "version": 3
   },
   "file_extension": ".py",
   "mimetype": "text/x-python",
   "name": "python",
   "nbconvert_exporter": "python",
   "pygments_lexer": "ipython3",
   "version": "3.9.2"
  }
 },
 "nbformat": 4,
 "nbformat_minor": 5
}

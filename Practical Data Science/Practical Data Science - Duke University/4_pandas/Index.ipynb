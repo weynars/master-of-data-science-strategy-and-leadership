{
 "cells": [
  {
   "cell_type": "markdown",
   "id": "a72d8fc0-f508-4e2f-b1ba-11a57059ebde",
   "metadata": {},
   "source": [
    "Source: https://www.practicaldatascience.org/html/exercises/Exercise_indices.html"
   ]
  },
  {
   "cell_type": "markdown",
   "id": "21874678-870e-4505-886f-bbaac07ccf9a",
   "metadata": {},
   "source": [
    "# Exercise 1"
   ]
  },
  {
   "cell_type": "code",
   "execution_count": 13,
   "id": "063684ca-c8c5-41a9-94a5-577312f5c9a8",
   "metadata": {},
   "outputs": [],
   "source": [
    "import pandas as pd\n",
    "attendees = pd.DataFrame({'names': [\"Jill\", \"Kumar\", \"Zaira\"],\n",
    "                          'prizes': [0, 0, 0],\n",
    "                          'arrival_order': [2, 1, 3]})\n",
    "arrival_prizes = pd.Series([20, 10, 0])"
   ]
  },
  {
   "cell_type": "markdown",
   "id": "b9f1cda0-c010-4630-a1f9-1b2eee32b1dd",
   "metadata": {},
   "source": [
    "# Exercise 2\n",
    "Now let’s sort our attendees list by `arrival_order` so that the first row is the person who arrived first, the second is the person who arrived second, etc. to match how we’ve organized `arrival_prizes`."
   ]
  },
  {
   "cell_type": "code",
   "execution_count": 5,
   "id": "1cf728dc-8e77-46ac-b737-b97f7d5c25ac",
   "metadata": {},
   "outputs": [
    {
     "data": {
      "text/html": [
       "<div>\n",
       "<style scoped>\n",
       "    .dataframe tbody tr th:only-of-type {\n",
       "        vertical-align: middle;\n",
       "    }\n",
       "\n",
       "    .dataframe tbody tr th {\n",
       "        vertical-align: top;\n",
       "    }\n",
       "\n",
       "    .dataframe thead th {\n",
       "        text-align: right;\n",
       "    }\n",
       "</style>\n",
       "<table border=\"1\" class=\"dataframe\">\n",
       "  <thead>\n",
       "    <tr style=\"text-align: right;\">\n",
       "      <th></th>\n",
       "      <th>names</th>\n",
       "      <th>prizes</th>\n",
       "      <th>arrival_order</th>\n",
       "    </tr>\n",
       "  </thead>\n",
       "  <tbody>\n",
       "    <tr>\n",
       "      <th>1</th>\n",
       "      <td>Kumar</td>\n",
       "      <td>0</td>\n",
       "      <td>1</td>\n",
       "    </tr>\n",
       "    <tr>\n",
       "      <th>0</th>\n",
       "      <td>Jill</td>\n",
       "      <td>0</td>\n",
       "      <td>2</td>\n",
       "    </tr>\n",
       "    <tr>\n",
       "      <th>2</th>\n",
       "      <td>Zaira</td>\n",
       "      <td>0</td>\n",
       "      <td>3</td>\n",
       "    </tr>\n",
       "  </tbody>\n",
       "</table>\n",
       "</div>"
      ],
      "text/plain": [
       "   names  prizes  arrival_order\n",
       "1  Kumar       0              1\n",
       "0   Jill       0              2\n",
       "2  Zaira       0              3"
      ]
     },
     "execution_count": 5,
     "metadata": {},
     "output_type": "execute_result"
    }
   ],
   "source": [
    "attendees.sort_values('arrival_order')"
   ]
  },
  {
   "cell_type": "code",
   "execution_count": 7,
   "id": "27a923a4-9580-402c-85b0-4fcbf504bd7e",
   "metadata": {},
   "outputs": [
    {
     "data": {
      "text/html": [
       "<div>\n",
       "<style scoped>\n",
       "    .dataframe tbody tr th:only-of-type {\n",
       "        vertical-align: middle;\n",
       "    }\n",
       "\n",
       "    .dataframe tbody tr th {\n",
       "        vertical-align: top;\n",
       "    }\n",
       "\n",
       "    .dataframe thead th {\n",
       "        text-align: right;\n",
       "    }\n",
       "</style>\n",
       "<table border=\"1\" class=\"dataframe\">\n",
       "  <thead>\n",
       "    <tr style=\"text-align: right;\">\n",
       "      <th></th>\n",
       "      <th>names</th>\n",
       "      <th>prizes</th>\n",
       "      <th>arrival_order</th>\n",
       "      <th>0</th>\n",
       "    </tr>\n",
       "  </thead>\n",
       "  <tbody>\n",
       "    <tr>\n",
       "      <th>0</th>\n",
       "      <td>Kumar</td>\n",
       "      <td>0</td>\n",
       "      <td>1</td>\n",
       "      <td>20</td>\n",
       "    </tr>\n",
       "    <tr>\n",
       "      <th>1</th>\n",
       "      <td>Jill</td>\n",
       "      <td>0</td>\n",
       "      <td>2</td>\n",
       "      <td>10</td>\n",
       "    </tr>\n",
       "    <tr>\n",
       "      <th>2</th>\n",
       "      <td>Zaira</td>\n",
       "      <td>0</td>\n",
       "      <td>3</td>\n",
       "      <td>0</td>\n",
       "    </tr>\n",
       "  </tbody>\n",
       "</table>\n",
       "</div>"
      ],
      "text/plain": [
       "   names  prizes  arrival_order   0\n",
       "0  Kumar       0              1  20\n",
       "1   Jill       0              2  10\n",
       "2  Zaira       0              3   0"
      ]
     },
     "execution_count": 7,
     "metadata": {},
     "output_type": "execute_result"
    }
   ],
   "source": [
    "pd.concat([attendees.sort_values('arrival_order').reset_index(drop=True),arrival_prizes], axis=1)"
   ]
  },
  {
   "cell_type": "markdown",
   "id": "8044c384-46d4-4d1d-841b-7b018968b59a",
   "metadata": {},
   "source": [
    "# Exercise 3\n",
    "Now let’s “give” everyone their arrival prizes by adding arrival prizes to people’s prize column:"
   ]
  },
  {
   "cell_type": "code",
   "execution_count": 14,
   "id": "cf875560-4cc5-4cf4-ac7a-fdfaabcd06af",
   "metadata": {},
   "outputs": [],
   "source": [
    "attendees['prizes'] = attendees['prizes'] + arrival_prizes"
   ]
  },
  {
   "cell_type": "code",
   "execution_count": 15,
   "id": "864153d6-f090-4817-8ebe-a06fbf532d3e",
   "metadata": {},
   "outputs": [
    {
     "data": {
      "text/html": [
       "<div>\n",
       "<style scoped>\n",
       "    .dataframe tbody tr th:only-of-type {\n",
       "        vertical-align: middle;\n",
       "    }\n",
       "\n",
       "    .dataframe tbody tr th {\n",
       "        vertical-align: top;\n",
       "    }\n",
       "\n",
       "    .dataframe thead th {\n",
       "        text-align: right;\n",
       "    }\n",
       "</style>\n",
       "<table border=\"1\" class=\"dataframe\">\n",
       "  <thead>\n",
       "    <tr style=\"text-align: right;\">\n",
       "      <th></th>\n",
       "      <th>names</th>\n",
       "      <th>prizes</th>\n",
       "      <th>arrival_order</th>\n",
       "    </tr>\n",
       "  </thead>\n",
       "  <tbody>\n",
       "    <tr>\n",
       "      <th>0</th>\n",
       "      <td>Jill</td>\n",
       "      <td>20</td>\n",
       "      <td>2</td>\n",
       "    </tr>\n",
       "    <tr>\n",
       "      <th>1</th>\n",
       "      <td>Kumar</td>\n",
       "      <td>10</td>\n",
       "      <td>1</td>\n",
       "    </tr>\n",
       "    <tr>\n",
       "      <th>2</th>\n",
       "      <td>Zaira</td>\n",
       "      <td>0</td>\n",
       "      <td>3</td>\n",
       "    </tr>\n",
       "  </tbody>\n",
       "</table>\n",
       "</div>"
      ],
      "text/plain": [
       "   names  prizes  arrival_order\n",
       "0   Jill      20              2\n",
       "1  Kumar      10              1\n",
       "2  Zaira       0              3"
      ]
     },
     "execution_count": 15,
     "metadata": {},
     "output_type": "execute_result"
    }
   ],
   "source": [
    "attendees"
   ]
  },
  {
   "cell_type": "markdown",
   "id": "962e010d-6fc6-4dba-8c0d-7f84acdb0626",
   "metadata": {},
   "source": [
    "# Exercise 4\n",
    "Now let’s look at the result. Does it look like what you expected? Do you know what went wrong?"
   ]
  },
  {
   "cell_type": "markdown",
   "id": "60c501fa-49f5-477b-947b-cee5cebd99b4",
   "metadata": {},
   "source": [
    "The operation uses the index order"
   ]
  },
  {
   "cell_type": "markdown",
   "id": "f7e73d96-dcdd-4401-9618-84f420441a1b",
   "metadata": {},
   "source": [
    "# Exercise 5\n",
    "If you ever want to get alignment on row numbers, the easiest way to achieve that is to reset the indices on both objects you want to merge. When one re-sets indices without specifying a column to become the new index, the new index will just be row-numbers.\n",
    "\n",
    "So reset prizes to 0, do what you need to do to get the order right, reset the index, and try again.\n",
    "\n",
    "Note: When you reset the index on a Series, the Series is converted to a DataFrame, and the old index is added as a column. To avoid this behavior and just drop the old index when re-setting indices (in either a Series or a DataFrame), use the drop=True argument when resetting the index."
   ]
  },
  {
   "cell_type": "code",
   "execution_count": 16,
   "id": "ac220c58-de37-430d-ae7c-89bffe897bde",
   "metadata": {},
   "outputs": [],
   "source": [
    "attendees['prizes'] = 0"
   ]
  },
  {
   "cell_type": "code",
   "execution_count": 17,
   "id": "6c039da5-e11a-4570-afd3-57b6a7c9c9ec",
   "metadata": {},
   "outputs": [],
   "source": [
    "attendees = attendees.sort_values('arrival_order').reset_index(drop=True)"
   ]
  },
  {
   "cell_type": "code",
   "execution_count": 18,
   "id": "128360e5-2443-4098-89f6-2de6243e5d0b",
   "metadata": {},
   "outputs": [],
   "source": [
    "attendees['prizes'] = attendees['prizes'] + arrival_prizes"
   ]
  },
  {
   "cell_type": "code",
   "execution_count": 19,
   "id": "e83b3fc8-79f0-4f20-9ea5-215686b7ffa5",
   "metadata": {},
   "outputs": [
    {
     "data": {
      "text/html": [
       "<div>\n",
       "<style scoped>\n",
       "    .dataframe tbody tr th:only-of-type {\n",
       "        vertical-align: middle;\n",
       "    }\n",
       "\n",
       "    .dataframe tbody tr th {\n",
       "        vertical-align: top;\n",
       "    }\n",
       "\n",
       "    .dataframe thead th {\n",
       "        text-align: right;\n",
       "    }\n",
       "</style>\n",
       "<table border=\"1\" class=\"dataframe\">\n",
       "  <thead>\n",
       "    <tr style=\"text-align: right;\">\n",
       "      <th></th>\n",
       "      <th>names</th>\n",
       "      <th>prizes</th>\n",
       "      <th>arrival_order</th>\n",
       "    </tr>\n",
       "  </thead>\n",
       "  <tbody>\n",
       "    <tr>\n",
       "      <th>0</th>\n",
       "      <td>Kumar</td>\n",
       "      <td>20</td>\n",
       "      <td>1</td>\n",
       "    </tr>\n",
       "    <tr>\n",
       "      <th>1</th>\n",
       "      <td>Jill</td>\n",
       "      <td>10</td>\n",
       "      <td>2</td>\n",
       "    </tr>\n",
       "    <tr>\n",
       "      <th>2</th>\n",
       "      <td>Zaira</td>\n",
       "      <td>0</td>\n",
       "      <td>3</td>\n",
       "    </tr>\n",
       "  </tbody>\n",
       "</table>\n",
       "</div>"
      ],
      "text/plain": [
       "   names  prizes  arrival_order\n",
       "0  Kumar      20              1\n",
       "1   Jill      10              2\n",
       "2  Zaira       0              3"
      ]
     },
     "execution_count": 19,
     "metadata": {},
     "output_type": "execute_result"
    }
   ],
   "source": [
    "attendees"
   ]
  },
  {
   "cell_type": "markdown",
   "id": "22f69b24-fbf9-4b85-bd02-8ee8337a4d01",
   "metadata": {},
   "source": [
    "# Exercise 6\n",
    "OK, so besides doing automatic alignment, is there a reason to use indices?\n",
    "\n",
    "Let’s find out. Create the following fake dataset of social security numbers and some “names” (random strings). Warning: this will take a little time to run."
   ]
  },
  {
   "cell_type": "code",
   "execution_count": 20,
   "id": "7d1b55e2-b2ac-49e3-9c50-537d5dedb5f9",
   "metadata": {},
   "outputs": [],
   "source": [
    "import numpy.random as npr\n",
    "import string\n",
    "import random\n",
    "npr.seed(42)\n",
    "random.seed(42)\n",
    "\n",
    "size=1000000 # 1,000,000\n",
    "people = pd.DataFrame({'social_security_numbers': npr.randint(low=10000000, high=99999999, size=size),\n",
    "                       'names': [''.join(random.choices(string.ascii_uppercase, k=10))\n",
    "                                 for i in range(size)]})"
   ]
  },
  {
   "cell_type": "markdown",
   "id": "76858ec7-c119-4add-ba72-97ace65bbcdb",
   "metadata": {},
   "source": [
    "# Exercise 7\n",
    "Now subset your data to get the social security number associated with the name of “TPKSMSLREI”. (Yes, there are ways to get real random names, but they take a while to run because they query websites that generate fake names, so we’re just doing this!)."
   ]
  },
  {
   "cell_type": "code",
   "execution_count": 29,
   "id": "4f96fcfa-a58a-4972-b224-979c9c0f9c4b",
   "metadata": {},
   "outputs": [
    {
     "name": "stdout",
     "output_type": "stream",
     "text": [
      "47.6 ms ± 2.4 ms per loop (mean ± std. dev. of 7 runs, 10 loops each)\n"
     ]
    }
   ],
   "source": [
    "%%timeit\n",
    "\n",
    "cond1 = people['names'] == 'TPKSMSLREI'\n",
    "people[cond1]"
   ]
  },
  {
   "cell_type": "markdown",
   "id": "8f89bc3d-b861-4b35-be67-04e43391a73f",
   "metadata": {},
   "source": [
    "# Exercise 9\n",
    "Now make names your index for this data. Then try subsetting using loc[] to get all the observations with the name of “TPKSMSLREI” and time the operation."
   ]
  },
  {
   "cell_type": "code",
   "execution_count": 32,
   "id": "1f402e43-fea2-4305-9cc1-4177a42cfd3f",
   "metadata": {},
   "outputs": [],
   "source": [
    "people = people.set_index('names')"
   ]
  },
  {
   "cell_type": "code",
   "execution_count": 34,
   "id": "c410bee2-df1e-4ecd-bf98-fb28ca7e2632",
   "metadata": {},
   "outputs": [
    {
     "name": "stdout",
     "output_type": "stream",
     "text": [
      "57 µs ± 2.77 µs per loop (mean ± std. dev. of 7 runs, 10000 loops each)\n"
     ]
    }
   ],
   "source": [
    "%%timeit\n",
    "people.loc['TPKSMSLREI']"
   ]
  },
  {
   "cell_type": "markdown",
   "id": "b9f3a110-8b22-4ff2-bb82-b18b0cdab5b2",
   "metadata": {},
   "source": [
    "Much faster :)"
   ]
  },
  {
   "cell_type": "markdown",
   "id": "d1b40bd1-7f82-4ada-aad5-d01ff15704b0",
   "metadata": {},
   "source": [
    "# Take-away\n",
    "So in short: indices can be nice in that they do automatic alignment, provided you’re expecting it. Moreover, if you want to pull random rows out of your dataset, it is often much faster than a regular query!"
   ]
  },
  {
   "cell_type": "code",
   "execution_count": null,
   "id": "bc285dcc-ecc0-4fcf-b857-5a2fcb1c5b0b",
   "metadata": {},
   "outputs": [],
   "source": []
  }
 ],
 "metadata": {
  "kernelspec": {
   "display_name": "Python 3 (ipykernel)",
   "language": "python",
   "name": "python3"
  },
  "language_info": {
   "codemirror_mode": {
    "name": "ipython",
    "version": 3
   },
   "file_extension": ".py",
   "mimetype": "text/x-python",
   "name": "python",
   "nbconvert_exporter": "python",
   "pygments_lexer": "ipython3",
   "version": "3.9.2"
  }
 },
 "nbformat": 4,
 "nbformat_minor": 5
}

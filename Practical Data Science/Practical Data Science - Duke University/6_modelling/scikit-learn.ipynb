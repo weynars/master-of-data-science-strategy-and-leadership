{
 "cells": [
  {
   "cell_type": "markdown",
   "id": "bf762e1f-654c-415f-b448-daf25f191c32",
   "metadata": {},
   "source": [
    "Source: https://www.practicaldatascience.org/html/exercises/Exercise_scikit_learn.html"
   ]
  },
  {
   "cell_type": "markdown",
   "id": "85cf7293-6a40-4603-a654-4b273ad6b32e",
   "metadata": {},
   "source": [
    "__(1) Load the data “smoking.csv”, which includes information on both biometrics of infants at birth, and information on mothers (variables prefixed with the letter “m”), from this MIDS repo. We’ll be working with this data in this exercise.__"
   ]
  },
  {
   "cell_type": "code",
   "execution_count": 1,
   "id": "12b49d76-1c48-494f-aec8-f4df54f0bd76",
   "metadata": {},
   "outputs": [],
   "source": [
    "import pandas as pd\n",
    "df = pd.read_csv('smoking.csv')"
   ]
  },
  {
   "cell_type": "code",
   "execution_count": 2,
   "id": "fb611ef4-2be5-4aed-90cc-2913999ebc26",
   "metadata": {},
   "outputs": [
    {
     "name": "stderr",
     "output_type": "stream",
     "text": [
      "/var/folders/n2/h57ccp9s4tzd1gmfrt4ml03m0000gn/T/ipykernel_98947/4191729450.py:2: FutureWarning: The default value of regex will change from True to False in a future version. In addition, single character regular expressions will *not* be treated as literal strings when regex=True.\n",
      "  df.columns = df.columns.str.replace('.','_')\n"
     ]
    }
   ],
   "source": [
    "# Replace . for _ in column names\n",
    "df.columns = df.columns.str.replace('.','_')"
   ]
  },
  {
   "cell_type": "code",
   "execution_count": 3,
   "id": "bf7b2678-fb3f-494a-92b8-6d99bf1ce7e4",
   "metadata": {},
   "outputs": [],
   "source": [
    "df['is_white'] = (df['mrace'] <= 5).astype(int)"
   ]
  },
  {
   "cell_type": "markdown",
   "id": "ca8dc7a8-8b3f-41d8-9c41-03f5b6106786",
   "metadata": {},
   "source": [
    "__(2) Begin by using patsy.dmatrices() to create two datasets (y, which is the birth weights, and X, which is a matrix with all your “features” in a nice numpy array).__"
   ]
  },
  {
   "cell_type": "markdown",
   "id": "0a10cc55-b4ef-4eb4-ba0f-122306788989",
   "metadata": {},
   "source": [
    "- whether the mother is white, black, hispanic or of another ethnicity, (you have to code from mrace – make sure you treat this as categorical!).\n",
    "\n",
    "- whether the mother smokes (smoke)\n",
    "\n",
    "- Mother’s age (mage)\n",
    "\n",
    "- Mother’s weight (mpregwt)\n",
    "\n",
    "- Mother’s height (mht)"
   ]
  },
  {
   "cell_type": "code",
   "execution_count": 9,
   "id": "43f36285-ca97-4eaf-8184-8f817add0f87",
   "metadata": {},
   "outputs": [],
   "source": [
    "# Not a fan of using string to represent the model input, so I will just do it using pandas\n",
    "X = df[['is_white','smoke','mage','mpregwt','mht']]\n",
    "y = df['bwt_oz']"
   ]
  },
  {
   "cell_type": "markdown",
   "id": "82d1450f-348a-408b-a96f-f92a7118a5f3",
   "metadata": {},
   "source": [
    "__(3) Look at your features matrix X. How many columns does it have? How does that compare to the number of variables you used as inputs? (if they’re the same, you probably did something wrong…). Can you explain the difference?__"
   ]
  },
  {
   "cell_type": "code",
   "execution_count": 10,
   "id": "4aed064c-2799-4a8e-b9be-361e7b9d5ec9",
   "metadata": {},
   "outputs": [
    {
     "data": {
      "text/plain": [
       "(869, 5)"
      ]
     },
     "execution_count": 10,
     "metadata": {},
     "output_type": "execute_result"
    }
   ],
   "source": [
    "X.shape"
   ]
  },
  {
   "cell_type": "markdown",
   "id": "a02bc0cf-e9f3-4e9c-ad8e-c73514d388de",
   "metadata": {},
   "source": [
    "__(4) So start by splitting YOUR data.__"
   ]
  },
  {
   "cell_type": "code",
   "execution_count": 13,
   "id": "194fdb6e-6176-4b23-b740-a98029719861",
   "metadata": {},
   "outputs": [],
   "source": [
    "# %pip install sklearn"
   ]
  },
  {
   "cell_type": "code",
   "execution_count": 21,
   "id": "7d2b6fa6-b9a0-4a3c-b30d-cfaca3ac2b1a",
   "metadata": {},
   "outputs": [],
   "source": [
    "from sklearn.model_selection import train_test_split\n",
    "\n",
    "X_train, X_test, y_train, y_test = train_test_split(X, y,\n",
    "                                                    test_size=0.5,\n",
    "                                                    train_size=0.5,\n",
    "                                                    random_state=42)"
   ]
  },
  {
   "cell_type": "markdown",
   "id": "d4ecf1af-4f65-41fc-8fd7-0a3d5aa9d4a9",
   "metadata": {},
   "source": [
    "__(5) Import the Linear Regression model and instantiate it with code like:__"
   ]
  },
  {
   "cell_type": "code",
   "execution_count": 22,
   "id": "6d48c759-3a8d-49d6-a6ce-8c573aeb370a",
   "metadata": {},
   "outputs": [],
   "source": [
    "from sklearn.linear_model import LinearRegression\n",
    "my_model = LinearRegression()"
   ]
  },
  {
   "cell_type": "markdown",
   "id": "a26912d3-2ece-4483-bce9-7226cc2696c2",
   "metadata": {},
   "source": [
    "__(6) Now fit your model against X and y. (If you’re unsure how to do this, read the docs for the model and look at the examples at the bottom!__"
   ]
  },
  {
   "cell_type": "code",
   "execution_count": 23,
   "id": "59ed5ec5-b38f-48ed-970b-2f4595b9ca58",
   "metadata": {},
   "outputs": [
    {
     "data": {
      "text/plain": [
       "array([ 7.84272833, -8.54803371,  0.02328433,  0.11865323,  0.92938991])"
      ]
     },
     "execution_count": 23,
     "metadata": {},
     "output_type": "execute_result"
    }
   ],
   "source": [
    "my_model.fit(X_train, y_train)\n",
    "my_model.coef_"
   ]
  },
  {
   "cell_type": "markdown",
   "id": "54123e5a-2f04-4d90-9529-8e24ce8b22d8",
   "metadata": {},
   "source": [
    "__(7) OK, but we’re in the world of sklearn, so let’s do some prediction! Now that you’ve fit your model, use the predict method your data to create a set of predictions.__"
   ]
  },
  {
   "cell_type": "code",
   "execution_count": 24,
   "id": "1cfecd79-c863-4583-9edb-5bd0b6559b1d",
   "metadata": {},
   "outputs": [],
   "source": [
    "Y_pred = my_model.predict(X_test)"
   ]
  },
  {
   "cell_type": "markdown",
   "id": "fe65421e-c323-4c33-a26f-64368cca2e54",
   "metadata": {},
   "source": [
    "__(8) What is the score of your model?__"
   ]
  },
  {
   "cell_type": "code",
   "execution_count": 25,
   "id": "2b12291b-4a5d-4e0f-8aae-889d3a87e840",
   "metadata": {},
   "outputs": [
    {
     "data": {
      "text/plain": [
       "0.1113567058682583"
      ]
     },
     "execution_count": 25,
     "metadata": {},
     "output_type": "execute_result"
    }
   ],
   "source": [
    "my_model.score(X_test, y_test)"
   ]
  },
  {
   "cell_type": "code",
   "execution_count": null,
   "id": "815be6b8-c146-4640-a096-52abf7bec946",
   "metadata": {},
   "outputs": [],
   "source": []
  }
 ],
 "metadata": {
  "kernelspec": {
   "display_name": "Python 3 (ipykernel)",
   "language": "python",
   "name": "python3"
  },
  "language_info": {
   "codemirror_mode": {
    "name": "ipython",
    "version": 3
   },
   "file_extension": ".py",
   "mimetype": "text/x-python",
   "name": "python",
   "nbconvert_exporter": "python",
   "pygments_lexer": "ipython3",
   "version": "3.9.2"
  }
 },
 "nbformat": 4,
 "nbformat_minor": 5
}

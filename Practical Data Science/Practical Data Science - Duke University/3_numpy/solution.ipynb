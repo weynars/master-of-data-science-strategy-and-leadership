{
 "cells": [
  {
   "cell_type": "markdown",
   "id": "f5a5be3b-c0e6-477a-8ceb-124d42069bc7",
   "metadata": {},
   "source": [
    "Source: https://www.practicaldatascience.org/html/exercises/Exercise_numpy.html"
   ]
  },
  {
   "cell_type": "markdown",
   "id": "2fcbf0ff-c299-43e2-bd57-da513de2c486",
   "metadata": {},
   "source": [
    "Cheat Sheet: https://datacamp-community-prod.s3.amazonaws.com/e9f83f72-a81b-42c7-af44-4e35b48b20b7"
   ]
  },
  {
   "cell_type": "markdown",
   "id": "dc50e739-120a-4dbe-975b-12ee69f04e43",
   "metadata": {},
   "source": [
    "# Exercise 1"
   ]
  },
  {
   "cell_type": "code",
   "execution_count": 1,
   "id": "ba168ac1-07ff-4b61-ab85-b6df88b6370d",
   "metadata": {},
   "outputs": [
    {
     "data": {
      "text/plain": [
       "array([[ 80842, 333008, 202553, 140037,  81969],\n",
       "       [ 63857,  42105, 261540, 481981, 176739],\n",
       "       [489984, 326386, 110795, 394863,  25024],\n",
       "       [ 38317,  49982, 408830, 485118,  16119],\n",
       "       [407675, 231729, 265455, 109413, 103399],\n",
       "       [174677, 343356, 301717, 224120, 401101],\n",
       "       [140473, 254634, 112262,  25063, 108262],\n",
       "       [375059, 406983, 208947, 115641, 296685],\n",
       "       [444899, 129585, 171318, 313094, 425041],\n",
       "       [188411, 335140, 141681,  59641, 211420],\n",
       "       [287650,   8973, 477425, 382803, 465168],\n",
       "       [  3975,  32213, 160603, 275485, 388234],\n",
       "       [246225,  56174, 244097,   9350, 496966],\n",
       "       [225516, 273338,  73335, 283013, 212813],\n",
       "       [ 38175, 282399, 318413, 337639, 379802],\n",
       "       [198049, 101115, 419547, 260219, 325793],\n",
       "       [148593, 425024, 348570, 117968, 107007],\n",
       "       [ 52547, 180346, 178760, 305186, 262153],\n",
       "       [ 11835, 449971, 494184, 472031, 353049],\n",
       "       [476442,  35455, 191553, 384154,  29917]])"
      ]
     },
     "execution_count": 1,
     "metadata": {},
     "output_type": "execute_result"
    }
   ],
   "source": [
    "import numpy as np\n",
    "np.random.seed(21) # This guarantees the code will generate the same set of random numbers whenever executed\n",
    "random_integers = np.random.randint(1,high=500000, size=(20, 5))\n",
    "random_integers"
   ]
  },
  {
   "cell_type": "markdown",
   "id": "d530671b-563e-49a7-b9eb-16181c727a39",
   "metadata": {},
   "source": [
    "# Exercise 2\n",
    "What is the average value of the second column (to two decimal places)"
   ]
  },
  {
   "cell_type": "code",
   "execution_count": 6,
   "id": "c0cb1a69-5aab-4099-a4a2-b9617aeed0fd",
   "metadata": {},
   "outputs": [
    {
     "data": {
      "text/plain": [
       "214895.8"
      ]
     },
     "execution_count": 6,
     "metadata": {},
     "output_type": "execute_result"
    }
   ],
   "source": [
    "random_integers[:,1].mean()"
   ]
  },
  {
   "cell_type": "markdown",
   "id": "71f804f6-e33e-43ea-ad73-486b12ee9b2b",
   "metadata": {},
   "source": [
    "# Exercise 3\n",
    "What is the average value of the first 5 rows of the third and fourth columns?"
   ]
  },
  {
   "cell_type": "code",
   "execution_count": 14,
   "id": "0759fcae-80b7-4724-b0d9-658bc7e23608",
   "metadata": {},
   "outputs": [
    {
     "data": {
      "text/plain": [
       "286058.5"
      ]
     },
     "execution_count": 14,
     "metadata": {},
     "output_type": "execute_result"
    }
   ],
   "source": [
    "random_integers[:5,2:4].mean()"
   ]
  },
  {
   "cell_type": "markdown",
   "id": "a509fce6-aaad-4749-94ff-b633288ee5a4",
   "metadata": {},
   "source": [
    "# Exercise 4\n",
    "Close Python. On a piece of paper, write down the final result of the following code: <br>\n",
    "`Expected result is [[2 4 6], [5 7 9]]`"
   ]
  },
  {
   "cell_type": "code",
   "execution_count": 15,
   "id": "9115a625-c08e-4bbc-a929-203a8746733b",
   "metadata": {},
   "outputs": [
    {
     "name": "stdout",
     "output_type": "stream",
     "text": [
      "[[1 2 3]\n",
      " [4 5 6]]\n"
     ]
    }
   ],
   "source": [
    "import numpy as np\n",
    "first_matrix = np.array([[1, 2, 3], [4, 5, 6]])\n",
    "print(first_matrix)"
   ]
  },
  {
   "cell_type": "code",
   "execution_count": 17,
   "id": "cfc17005-1523-4344-b461-a3dca5aa79e8",
   "metadata": {},
   "outputs": [
    {
     "name": "stdout",
     "output_type": "stream",
     "text": [
      "[1 2 3]\n"
     ]
    }
   ],
   "source": [
    "second_matrix = np.array([1, 2, 3])\n",
    "print(second_matrix)"
   ]
  },
  {
   "cell_type": "code",
   "execution_count": 18,
   "id": "2c9b2b69-7b0b-4aa3-b426-3481d8fd3158",
   "metadata": {},
   "outputs": [
    {
     "data": {
      "text/plain": [
       "array([[2, 4, 6],\n",
       "       [5, 7, 9]])"
      ]
     },
     "execution_count": 18,
     "metadata": {},
     "output_type": "execute_result"
    }
   ],
   "source": [
    "first_matrix + second_matrix"
   ]
  },
  {
   "cell_type": "markdown",
   "id": "e4f397f8-b1a6-4012-9386-3c153d7992ee",
   "metadata": {},
   "source": [
    "# Exercise 5\n",
    "Keep Python Closed! Write down the final result of the following code:"
   ]
  },
  {
   "cell_type": "markdown",
   "id": "fa682141-957f-4c40-8594-60038379f446",
   "metadata": {},
   "source": [
    "`Expected result is [2, 4, 6] (even numbers)`"
   ]
  },
  {
   "cell_type": "code",
   "execution_count": 19,
   "id": "f3354b8c-b64c-47dd-8933-b9da49fef9cc",
   "metadata": {},
   "outputs": [
    {
     "data": {
      "text/plain": [
       "array([2, 4, 6])"
      ]
     },
     "execution_count": 19,
     "metadata": {},
     "output_type": "execute_result"
    }
   ],
   "source": [
    "my_vector = np.array([1, 2, 3, 4, 5, 6])\n",
    "selection = my_vector % 2 == 0\n",
    "my_vector[selection]"
   ]
  },
  {
   "cell_type": "markdown",
   "id": "178bb036-b14e-4d72-9473-6a6cabcfe069",
   "metadata": {},
   "source": [
    "# Exercise 6\n",
    "Now open python and check your answers to Exercises 4 and 5."
   ]
  },
  {
   "cell_type": "markdown",
   "id": "ddd3f284-6cef-4bc1-86b9-46b7c1e036f4",
   "metadata": {},
   "source": [
    "# Working with Views"
   ]
  },
  {
   "cell_type": "code",
   "execution_count": 20,
   "id": "6e6249dd-e75e-4ef0-9a8c-82f7e3aca203",
   "metadata": {},
   "outputs": [
    {
     "data": {
      "text/plain": [
       "array([1, 2, 3, 4])"
      ]
     },
     "execution_count": 20,
     "metadata": {},
     "output_type": "execute_result"
    }
   ],
   "source": [
    "import numpy as np\n",
    "my_array = np.array([1, 2, 3, 4])\n",
    "my_array"
   ]
  },
  {
   "cell_type": "code",
   "execution_count": 21,
   "id": "bbbe77b2-598f-4741-9afd-e9772c64b788",
   "metadata": {},
   "outputs": [
    {
     "data": {
      "text/plain": [
       "array([2, 3])"
      ]
     },
     "execution_count": 21,
     "metadata": {},
     "output_type": "execute_result"
    }
   ],
   "source": [
    "my_slice = my_array[1:3]\n",
    "my_slice"
   ]
  },
  {
   "cell_type": "code",
   "execution_count": 22,
   "id": "37b8b035-37cb-4b87-a07e-018b8d3c8c0c",
   "metadata": {},
   "outputs": [
    {
     "data": {
      "text/plain": [
       "array([-1,  3])"
      ]
     },
     "execution_count": 22,
     "metadata": {},
     "output_type": "execute_result"
    }
   ],
   "source": [
    "my_slice[0] = -1\n",
    "my_slice"
   ]
  },
  {
   "cell_type": "code",
   "execution_count": 23,
   "id": "206d71ae-c795-4c5d-85c1-7c00ec928e57",
   "metadata": {},
   "outputs": [
    {
     "data": {
      "text/plain": [
       "array([ 1, -1,  3,  4])"
      ]
     },
     "execution_count": 23,
     "metadata": {},
     "output_type": "execute_result"
    }
   ],
   "source": [
    "my_array"
   ]
  },
  {
   "cell_type": "markdown",
   "id": "5c4416b6-12d8-44ea-a8c3-d53222878407",
   "metadata": {},
   "source": [
    "This “view” behavior is entirely limited to numpy."
   ]
  },
  {
   "cell_type": "code",
   "execution_count": 24,
   "id": "331c18e4-c1d3-4659-88f4-c616279a0207",
   "metadata": {},
   "outputs": [
    {
     "data": {
      "text/plain": [
       "['a change', 2]"
      ]
     },
     "execution_count": 24,
     "metadata": {},
     "output_type": "execute_result"
    }
   ],
   "source": [
    "x = [1, 2, 3]\n",
    "y = x[0:2]\n",
    "y[0] = \"a change\"\n",
    "y"
   ]
  },
  {
   "cell_type": "code",
   "execution_count": 25,
   "id": "962ba7cf-a8d2-4397-a9dc-084f3eab13cc",
   "metadata": {},
   "outputs": [
    {
     "data": {
      "text/plain": [
       "[1, 2, 3]"
      ]
     },
     "execution_count": 25,
     "metadata": {},
     "output_type": "execute_result"
    }
   ],
   "source": [
    "x"
   ]
  },
  {
   "cell_type": "markdown",
   "id": "490a1ead-dec3-4d46-b983-3a77d61bcd26",
   "metadata": {},
   "source": [
    "## When do you get a view, and when do you get a copy?\n",
    "\n",
    "Generally speaking:\n",
    "\n",
    "- **you get a view if you do a plain, basic slice of an array**, and\n",
    "\n",
    "- **the view remains a view if you edit it by modifying it using basic indexing (i.e. you use ``[]`` on the left side of the assignment operator).**\n",
    "\n",
    "Outside of those two behaviors, you will usually get a copy."
   ]
  },
  {
   "cell_type": "code",
   "execution_count": 26,
   "id": "7d527802-5249-4b1d-b097-02613a114907",
   "metadata": {},
   "outputs": [
    {
     "data": {
      "text/plain": [
       "array([ 1, -1,  3])"
      ]
     },
     "execution_count": 26,
     "metadata": {},
     "output_type": "execute_result"
    }
   ],
   "source": [
    "# this slice will get you a view:\n",
    "\n",
    "my_array = np.array([1, 2, 3])\n",
    "my_slice = my_array[1:3]\n",
    "my_slice[0] = -1\n",
    "my_array"
   ]
  },
  {
   "cell_type": "code",
   "execution_count": 29,
   "id": "268c8aed-49cf-455a-a8fa-981e9ae9872e",
   "metadata": {},
   "outputs": [
    {
     "data": {
      "text/plain": [
       "array([1, 2, 3])"
      ]
     },
     "execution_count": 29,
     "metadata": {},
     "output_type": "execute_result"
    }
   ],
   "source": [
    "# But if you use “fancy indexing” (where you pass a list when making your slice), you will NOT get a view:\n",
    "\n",
    "my_array = np.array([1, 2, 3])\n",
    "my_slice = my_array[[1,2]]\n",
    "my_slice[0] = -1\n",
    "my_array"
   ]
  },
  {
   "cell_type": "code",
   "execution_count": 34,
   "id": "511bca63-a5c1-43f9-a8fc-2232bbbb8e6a",
   "metadata": {},
   "outputs": [
    {
     "data": {
      "text/plain": [
       "array([4, 6])"
      ]
     },
     "execution_count": 34,
     "metadata": {},
     "output_type": "execute_result"
    }
   ],
   "source": [
    "# if you modify a slice without using basic indexing, you get a copy, so changes won’t propagate:\n",
    "\n",
    "my_array = np.array([1, 2, 3])\n",
    "my_slice = my_array[1:3]\n",
    "my_slice = my_slice * 2\n",
    "my_slice"
   ]
  },
  {
   "cell_type": "code",
   "execution_count": 31,
   "id": "afee1e83-f704-4cee-aae6-afe6d65b920e",
   "metadata": {},
   "outputs": [
    {
     "data": {
      "text/plain": [
       "array([1, 2, 3])"
      ]
     },
     "execution_count": 31,
     "metadata": {},
     "output_type": "execute_result"
    }
   ],
   "source": [
    "my_array"
   ]
  },
  {
   "cell_type": "code",
   "execution_count": 32,
   "id": "c558687e-226e-447e-b7fb-070c6febaa4c",
   "metadata": {},
   "outputs": [
    {
     "data": {
      "text/plain": [
       "array([4, 6])"
      ]
     },
     "execution_count": 32,
     "metadata": {},
     "output_type": "execute_result"
    }
   ],
   "source": [
    "# (If you want to do a full-array manipulation and preserve your view, always use square brackets on the left side of the assignment operator (=):\n",
    "\n",
    "my_array = np.array([1, 2, 3])\n",
    "my_slice = my_array[1:3]\n",
    "my_slice[:] = my_slice * 2\n",
    "my_slice"
   ]
  },
  {
   "cell_type": "code",
   "execution_count": 33,
   "id": "8922de71-6d9f-4ea2-b521-69f28dfab38d",
   "metadata": {},
   "outputs": [
    {
     "data": {
      "text/plain": [
       "array([1, 4, 6])"
      ]
     },
     "execution_count": 33,
     "metadata": {},
     "output_type": "execute_result"
    }
   ],
   "source": [
    "my_array"
   ]
  },
  {
   "cell_type": "markdown",
   "id": "418f08b4-6deb-417f-bcdf-4c6b56d01f6c",
   "metadata": {},
   "source": [
    "**My advice on copies:** UNLESS YOU REALLY NEED A VIEW AND ARE BEING SUPER CAREFUL: don’t use views for anything but looking at data. If you ever want to modify or work with a sub-array, just make a copy to be safe. Computers are fast enough and ram is plentiful enough that for most applications, it’s almost never a problem."
   ]
  },
  {
   "cell_type": "markdown",
   "id": "01f54a1b-86c6-4c34-8e2d-4573e333de41",
   "metadata": {},
   "source": [
    "# Exercise 7\n",
    "Close your computer / laptop. Let’s try and work out a few problems in our heads to test our understanding of numpy views. Let’s start with the following array:"
   ]
  },
  {
   "cell_type": "code",
   "execution_count": 41,
   "id": "97e7d9e9-efc0-48e4-a318-a0851b5dc6b8",
   "metadata": {},
   "outputs": [
    {
     "name": "stdout",
     "output_type": "stream",
     "text": [
      "[[1 2 3]\n",
      " [4 5 6]]\n"
     ]
    }
   ],
   "source": [
    "my_array = np.array([[1, 2, 3], [4, 5, 6]])\n",
    "print(my_array)"
   ]
  },
  {
   "cell_type": "code",
   "execution_count": 42,
   "id": "08f37b9b-fa26-4e7c-a314-fb6dc5be8e40",
   "metadata": {},
   "outputs": [
    {
     "data": {
      "text/plain": [
       "array([[2, 3],\n",
       "       [5, 6]])"
      ]
     },
     "execution_count": 42,
     "metadata": {},
     "output_type": "execute_result"
    }
   ],
   "source": [
    "my_slice = my_array[:, 1:3]\n",
    "my_slice"
   ]
  },
  {
   "cell_type": "markdown",
   "id": "08e54771-577d-4db9-815c-5956a85823f2",
   "metadata": {},
   "source": [
    "# Exercise 8\n",
    "Now what does my_slice look like?"
   ]
  },
  {
   "cell_type": "code",
   "execution_count": 43,
   "id": "74dd9821-6659-4cd0-a08f-c5f5435e47c0",
   "metadata": {},
   "outputs": [
    {
     "data": {
      "text/plain": [
       "array([[ 4,  6],\n",
       "       [10, 12]])"
      ]
     },
     "execution_count": 43,
     "metadata": {},
     "output_type": "execute_result"
    }
   ],
   "source": [
    "my_array[:, :] = my_array * 2 \n",
    "my_slice"
   ]
  },
  {
   "cell_type": "markdown",
   "id": "df391b88-a064-47cd-a11a-a193a2ac1079",
   "metadata": {},
   "source": [
    "# Exercise 9\n",
    "What does my_slice look like?"
   ]
  },
  {
   "cell_type": "code",
   "execution_count": 44,
   "id": "db33d2f0-1411-427c-a986-7f1d3a9543ae",
   "metadata": {},
   "outputs": [
    {
     "data": {
      "text/plain": [
       "array([[ 4,  6],\n",
       "       [10, 12]])"
      ]
     },
     "execution_count": 44,
     "metadata": {},
     "output_type": "execute_result"
    }
   ],
   "source": [
    "my_array = my_array * 2\n",
    "my_slice"
   ]
  },
  {
   "cell_type": "markdown",
   "id": "11a1660b-4260-4129-9312-b6c51c1e78f6",
   "metadata": {},
   "source": [
    "# Exercise 10\n",
    "Stop, open Python, and try running these examples. Were your predictions correct? If not, why not?"
   ]
  },
  {
   "cell_type": "markdown",
   "id": "32327702-5b9e-42b0-9715-9165960b3d77",
   "metadata": {},
   "source": [
    "# Exercise 11\n",
    "OK, let’s close Python again and go back to pen and paper. Let’s also reset my_array and start over with the following code:"
   ]
  },
  {
   "cell_type": "code",
   "execution_count": 45,
   "id": "ee759dd8-0b45-4563-b038-6d5f6ad3587b",
   "metadata": {},
   "outputs": [
    {
     "name": "stdout",
     "output_type": "stream",
     "text": [
      "[[1 2 3]\n",
      " [4 5 6]]\n"
     ]
    }
   ],
   "source": [
    "my_array = np.array([[1, 2, 3], [4, 5, 6]])\n",
    "print(my_array)"
   ]
  },
  {
   "cell_type": "code",
   "execution_count": 46,
   "id": "beb56cc6-9154-4d00-a1e4-bdcc5170f6c2",
   "metadata": {},
   "outputs": [
    {
     "name": "stdout",
     "output_type": "stream",
     "text": [
      "[[2 3]\n",
      " [5 6]]\n"
     ]
    }
   ],
   "source": [
    "my_slice = my_array[:, 1:3].copy()\n",
    "print(my_slice)"
   ]
  },
  {
   "cell_type": "markdown",
   "id": "aa1d73be-05a3-496e-8c58-fe19cb4beefb",
   "metadata": {},
   "source": [
    "Now suppose we run the following code: `my_array[:, :] = my_array * 2`. What does `my_slice` look like?"
   ]
  },
  {
   "cell_type": "code",
   "execution_count": 47,
   "id": "61150ec7-61bd-46fc-91dc-2bfd959f0e62",
   "metadata": {},
   "outputs": [
    {
     "data": {
      "text/plain": [
       "array([[2, 3],\n",
       "       [5, 6]])"
      ]
     },
     "execution_count": 47,
     "metadata": {},
     "output_type": "execute_result"
    }
   ],
   "source": [
    "my_array[:, :] = my_array * 2\n",
    "my_slice"
   ]
  },
  {
   "cell_type": "markdown",
   "id": "7a034769-5dcf-46fe-93bc-494757d4bb0d",
   "metadata": {},
   "source": [
    "Note: Don’t trust my_array.base¶\n",
    "You will find some tutorials online that suggest you can test if one array is a view of another with the code my_slice.base is my_array. The problem is… this doesn’t always work. It does sometimes but not always.\n",
    "<br>\n",
    "The reason is that the .base property can be defined recursively. In this case, the slicing of my_array made my_array a view on data you can no longer access, so they actually do both point to the same data, but that data is not my_array, it’s my_array.base."
   ]
  },
  {
   "cell_type": "code",
   "execution_count": null,
   "id": "2e92d521-5856-4dcd-8acd-21d162297d33",
   "metadata": {},
   "outputs": [],
   "source": []
  }
 ],
 "metadata": {
  "kernelspec": {
   "display_name": "Python 3 (ipykernel)",
   "language": "python",
   "name": "python3"
  },
  "language_info": {
   "codemirror_mode": {
    "name": "ipython",
    "version": 3
   },
   "file_extension": ".py",
   "mimetype": "text/x-python",
   "name": "python",
   "nbconvert_exporter": "python",
   "pygments_lexer": "ipython3",
   "version": "3.9.2"
  }
 },
 "nbformat": 4,
 "nbformat_minor": 5
}

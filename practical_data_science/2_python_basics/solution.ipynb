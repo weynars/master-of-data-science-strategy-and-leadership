{
 "cells": [
  {
   "cell_type": "markdown",
   "id": "cf253bf3-36f8-4675-9be6-f7c2ea47cff9",
   "metadata": {},
   "source": [
    "# Variables v Objects Exercises"
   ]
  },
  {
   "cell_type": "code",
   "execution_count": 1,
   "id": "88c25004-7f1c-43c5-99f9-a0ab5136fa5a",
   "metadata": {},
   "outputs": [],
   "source": [
    "# Make a new list\n",
    "x = [1, 2, 3]\n",
    "# Make new var Y, and assign it x. In R this would make a copy.\n",
    "y = x\n",
    "# Add to the end of the string\n",
    "x.append(4)"
   ]
  },
  {
   "cell_type": "code",
   "execution_count": 2,
   "id": "55a0ec7f-fca5-4ec0-8f71-49f7eb09cad6",
   "metadata": {},
   "outputs": [
    {
     "data": {
      "text/plain": [
       "[1, 2, 3, 4]"
      ]
     },
     "execution_count": 2,
     "metadata": {},
     "output_type": "execute_result"
    }
   ],
   "source": [
    "x"
   ]
  },
  {
   "cell_type": "code",
   "execution_count": 3,
   "id": "95e5d2db-f40a-4bb0-a0d3-ebde57a7b720",
   "metadata": {},
   "outputs": [
    {
     "data": {
      "text/plain": [
       "[1, 2, 3, 4]"
      ]
     },
     "execution_count": 3,
     "metadata": {},
     "output_type": "execute_result"
    }
   ],
   "source": [
    "y"
   ]
  },
  {
   "cell_type": "markdown",
   "id": "2fa0bef6-3bed-4f75-adbd-131d98f766a6",
   "metadata": {},
   "source": [
    "# Exercise 1"
   ]
  },
  {
   "cell_type": "code",
   "execution_count": 4,
   "id": "fba6d268-2843-4be0-b703-202bee0d6474",
   "metadata": {},
   "outputs": [],
   "source": [
    "animals_in_my_zoo = {'Zebras': ['Stripey', 'Black and White'],\n",
    "                     'Polar Bears': 'Fluffy',\n",
    "                     'Dinosaurs': 'Bitey'}\n",
    "x = animals_in_my_zoo\n",
    "x['Meerkat'] = 'Peeps'"
   ]
  },
  {
   "cell_type": "code",
   "execution_count": 6,
   "id": "f6a1370f-7c5b-40ef-a611-20933a602243",
   "metadata": {},
   "outputs": [
    {
     "data": {
      "text/plain": [
       "{'Zebras': ['Stripey', 'Black and White'],\n",
       " 'Polar Bears': 'Fluffy',\n",
       " 'Dinosaurs': 'Bitey',\n",
       " 'Meerkat': 'Peeps'}"
      ]
     },
     "execution_count": 6,
     "metadata": {},
     "output_type": "execute_result"
    }
   ],
   "source": [
    "animals_in_my_zoo"
   ]
  },
  {
   "cell_type": "markdown",
   "id": "ea941070-4183-4143-859c-7967ac7cd7bf",
   "metadata": {},
   "source": [
    "# Exercise 2"
   ]
  },
  {
   "cell_type": "code",
   "execution_count": 17,
   "id": "1725cebd-2bf6-4f8d-90dd-a44ba1f1f766",
   "metadata": {},
   "outputs": [
    {
     "data": {
      "text/plain": [
       "2"
      ]
     },
     "execution_count": 17,
     "metadata": {},
     "output_type": "execute_result"
    }
   ],
   "source": [
    "x = [1, 2, 3, 4]\n",
    "y = x\n",
    "x.pop(1)"
   ]
  },
  {
   "cell_type": "code",
   "execution_count": 18,
   "id": "857031e3-5314-4478-a77e-1b26e5bb8611",
   "metadata": {},
   "outputs": [
    {
     "data": {
      "text/plain": [
       "[1, 3, 4]"
      ]
     },
     "execution_count": 18,
     "metadata": {},
     "output_type": "execute_result"
    }
   ],
   "source": [
    "x"
   ]
  },
  {
   "cell_type": "markdown",
   "id": "62095429-fa17-459c-9a82-19930a7afe4c",
   "metadata": {},
   "source": [
    "`.pop` mutates object in-place"
   ]
  },
  {
   "cell_type": "markdown",
   "id": "9e6eafec-b284-4b93-b889-9083e10826be",
   "metadata": {},
   "source": [
    "# Exercise 3"
   ]
  },
  {
   "cell_type": "code",
   "execution_count": 19,
   "id": "2ae63696-07b2-422d-88d6-8774761815cb",
   "metadata": {},
   "outputs": [
    {
     "data": {
      "text/plain": [
       "[1, 2, 3, 4]"
      ]
     },
     "execution_count": 19,
     "metadata": {},
     "output_type": "execute_result"
    }
   ],
   "source": [
    "x = [1, 4, 3, 2]\n",
    "y = x\n",
    "sorted(x)"
   ]
  },
  {
   "cell_type": "code",
   "execution_count": 20,
   "id": "2de6f019-404f-42b1-be0a-87409ccf8120",
   "metadata": {},
   "outputs": [
    {
     "data": {
      "text/plain": [
       "[1, 4, 3, 2]"
      ]
     },
     "execution_count": 20,
     "metadata": {},
     "output_type": "execute_result"
    }
   ],
   "source": [
    "y"
   ]
  },
  {
   "cell_type": "markdown",
   "id": "87c82deb-e4db-41cb-ba2c-f416e25385c6",
   "metadata": {},
   "source": [
    "`sorted` does NOT mutate object in-place"
   ]
  },
  {
   "cell_type": "markdown",
   "id": "96ed9ffd-6a19-45e0-903d-ee436544e1f5",
   "metadata": {},
   "source": [
    "# Exercise 4"
   ]
  },
  {
   "cell_type": "code",
   "execution_count": 32,
   "id": "1371757a-a02c-4045-a14e-0422835f7916",
   "metadata": {},
   "outputs": [],
   "source": [
    "x = [1, 4, 3, 2]\n",
    "y = x\n",
    "x.sort()"
   ]
  },
  {
   "cell_type": "code",
   "execution_count": 33,
   "id": "27865b8b-a778-431a-9ba1-a8018ee6f9a9",
   "metadata": {},
   "outputs": [
    {
     "data": {
      "text/plain": [
       "[1, 2, 3, 4]"
      ]
     },
     "execution_count": 33,
     "metadata": {},
     "output_type": "execute_result"
    }
   ],
   "source": [
    "x"
   ]
  },
  {
   "cell_type": "markdown",
   "id": "65a6f6ef-ea96-49c3-a4e8-4e294dc22435",
   "metadata": {},
   "source": [
    "`.sort()` mutates in-place and returns `None`"
   ]
  },
  {
   "cell_type": "markdown",
   "id": "df0ca415-79f1-4bc8-87c4-d3d169daf11e",
   "metadata": {},
   "source": [
    "# Exercise 5"
   ]
  },
  {
   "cell_type": "markdown",
   "id": "54e2f6cd-d7cb-44f3-99cd-5c833d59b74d",
   "metadata": {},
   "source": [
    "What is the value of `z['interesting numbers']`?"
   ]
  },
  {
   "cell_type": "code",
   "execution_count": 34,
   "id": "662512b9-b33b-42d7-956a-25398d675ff6",
   "metadata": {},
   "outputs": [],
   "source": [
    "x = [3.14, 42]\n",
    "z = {'boring numbers': [1, 2, 3],\n",
    "     'interesting numbers': x}\n",
    "y = x\n",
    "y.append(1.618)"
   ]
  },
  {
   "cell_type": "code",
   "execution_count": 35,
   "id": "1273453c-ea7e-4876-acd8-88e29bdaecf1",
   "metadata": {},
   "outputs": [
    {
     "data": {
      "text/plain": [
       "[3.14, 42, 1.618]"
      ]
     },
     "execution_count": 35,
     "metadata": {},
     "output_type": "execute_result"
    }
   ],
   "source": [
    "z['interesting numbers']"
   ]
  },
  {
   "cell_type": "markdown",
   "id": "86cf9b64-986c-4d36-9cd7-655c35c4f9b8",
   "metadata": {},
   "source": [
    "# Exercise 6"
   ]
  },
  {
   "cell_type": "markdown",
   "id": "6fa4ebc7-64f1-4e52-9dda-21d8e15bbf95",
   "metadata": {},
   "source": [
    "What will be the values of x and y?"
   ]
  },
  {
   "cell_type": "code",
   "execution_count": 36,
   "id": "76394f76-e771-4175-8ea5-311915f16fb9",
   "metadata": {},
   "outputs": [],
   "source": [
    "x = [42, -1]\n",
    "y = (1, 2, x)\n",
    "x.append(-2)"
   ]
  },
  {
   "cell_type": "code",
   "execution_count": 37,
   "id": "b6192817-b01f-4ef5-953c-947b31eb8ffe",
   "metadata": {},
   "outputs": [
    {
     "data": {
      "text/plain": [
       "[42, -1, -2]"
      ]
     },
     "execution_count": 37,
     "metadata": {},
     "output_type": "execute_result"
    }
   ],
   "source": [
    "x"
   ]
  },
  {
   "cell_type": "code",
   "execution_count": 38,
   "id": "ebc8caa5-1317-4aed-a13e-66194de503ed",
   "metadata": {},
   "outputs": [
    {
     "data": {
      "text/plain": [
       "(1, 2, [42, -1, -2])"
      ]
     },
     "execution_count": 38,
     "metadata": {},
     "output_type": "execute_result"
    }
   ],
   "source": [
    "y"
   ]
  },
  {
   "cell_type": "markdown",
   "id": "a6406557-d739-4ecb-9a95-469b80a9a4dd",
   "metadata": {},
   "source": [
    "# copy versus deepcopy"
   ]
  },
  {
   "cell_type": "code",
   "execution_count": 39,
   "id": "6a06c365-517c-4584-b0f1-8699dbaed97d",
   "metadata": {},
   "outputs": [],
   "source": [
    "x = [42, 3.14, [1, 2, 3]]\n",
    "y = x.copy()"
   ]
  },
  {
   "cell_type": "code",
   "execution_count": 40,
   "id": "e2283808-1229-4239-a08e-b83ca935b60c",
   "metadata": {},
   "outputs": [
    {
     "data": {
      "text/plain": [
       "[42, 3.14, [1, 2, 3, 'where did this come from?!']]"
      ]
     },
     "execution_count": 40,
     "metadata": {},
     "output_type": "execute_result"
    }
   ],
   "source": [
    "y[2].append(\"where did this come from?!\")\n",
    "x"
   ]
  },
  {
   "cell_type": "code",
   "execution_count": 42,
   "id": "a31dd767-6f3c-4340-87fc-8956031b2a4c",
   "metadata": {},
   "outputs": [],
   "source": [
    "import copy\n",
    "x = [42, 3.14, [1, 2, 3]]\n",
    "y = copy.deepcopy(x)"
   ]
  },
  {
   "cell_type": "code",
   "execution_count": 43,
   "id": "fa161e89-37d2-415a-9d4c-452c4e484191",
   "metadata": {},
   "outputs": [
    {
     "data": {
      "text/plain": [
       "[42, 3.14, [1, 2, 3]]"
      ]
     },
     "execution_count": 43,
     "metadata": {},
     "output_type": "execute_result"
    }
   ],
   "source": [
    "y[2].append(\"where did this come from?!\")\n",
    "x"
   ]
  },
  {
   "cell_type": "markdown",
   "id": "eb6dbb5c-8241-4be9-9abc-9c92f163d56f",
   "metadata": {},
   "source": [
    "# Exercise 7"
   ]
  },
  {
   "cell_type": "code",
   "execution_count": 44,
   "id": "8ffc65ae-c0ad-4bae-aaac-346f5079a721",
   "metadata": {},
   "outputs": [],
   "source": [
    "x = {'dog_names': ['fido', 'woofer'],\n",
    "     'cat_names': ['fluffy', 'bite-y']}\n",
    "y = x.copy()\n",
    "y['dinosaur_names'] = ['big guy', 'super lizard']\n",
    "y['cat_names'].append('tiger')"
   ]
  },
  {
   "cell_type": "markdown",
   "id": "66d77e26-13d9-47d6-8717-d79bf6786e5d",
   "metadata": {},
   "source": [
    "What would you get if you ran `x['dinosaur_names']`?\n",
    "\n",
    "What would you get if you ran `x['cat_names']`?"
   ]
  },
  {
   "cell_type": "code",
   "execution_count": 45,
   "id": "ba6f53d5-f79b-4639-914a-4d6b19996088",
   "metadata": {},
   "outputs": [
    {
     "ename": "KeyError",
     "evalue": "'dinosaur_names'",
     "output_type": "error",
     "traceback": [
      "\u001b[0;31m---------------------------------------------------------------------------\u001b[0m",
      "\u001b[0;31mKeyError\u001b[0m                                  Traceback (most recent call last)",
      "\u001b[0;32m/var/folders/n2/h57ccp9s4tzd1gmfrt4ml03m0000gn/T/ipykernel_76496/1188399946.py\u001b[0m in \u001b[0;36m<module>\u001b[0;34m\u001b[0m\n\u001b[0;32m----> 1\u001b[0;31m \u001b[0mx\u001b[0m\u001b[0;34m[\u001b[0m\u001b[0;34m'dinosaur_names'\u001b[0m\u001b[0;34m]\u001b[0m\u001b[0;34m\u001b[0m\u001b[0;34m\u001b[0m\u001b[0m\n\u001b[0m",
      "\u001b[0;31mKeyError\u001b[0m: 'dinosaur_names'"
     ]
    }
   ],
   "source": [
    "x['dinosaur_names']"
   ]
  },
  {
   "cell_type": "code",
   "execution_count": 46,
   "id": "346876af-826f-4e2f-adf1-13b60c0797d5",
   "metadata": {},
   "outputs": [
    {
     "data": {
      "text/plain": [
       "['fluffy', 'bite-y', 'tiger']"
      ]
     },
     "execution_count": 46,
     "metadata": {},
     "output_type": "execute_result"
    }
   ],
   "source": [
    "x['cat_names']"
   ]
  },
  {
   "cell_type": "code",
   "execution_count": null,
   "id": "ba42323d-0926-4c02-a665-d203eb686e5c",
   "metadata": {},
   "outputs": [],
   "source": []
  }
 ],
 "metadata": {
  "kernelspec": {
   "display_name": "Python 3 (ipykernel)",
   "language": "python",
   "name": "python3"
  },
  "language_info": {
   "codemirror_mode": {
    "name": "ipython",
    "version": 3
   },
   "file_extension": ".py",
   "mimetype": "text/x-python",
   "name": "python",
   "nbconvert_exporter": "python",
   "pygments_lexer": "ipython3",
   "version": "3.9.2"
  }
 },
 "nbformat": 4,
 "nbformat_minor": 5
}

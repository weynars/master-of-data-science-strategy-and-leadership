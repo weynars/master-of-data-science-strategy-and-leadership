{
 "cells": [
  {
   "cell_type": "markdown",
   "id": "d19f1e1d-d91e-443c-849d-e6a7aa0db819",
   "metadata": {},
   "source": [
    "Source: https://www.practicaldatascience.org/html/exercises/Exercise_plotting_part2.html"
   ]
  },
  {
   "cell_type": "markdown",
   "id": "3ef7a4ba-3aee-4c55-9558-638ee87e5ecc",
   "metadata": {},
   "source": [
    "# Wealth and Democracy\n",
    "Let’s now pivot from working with example data to real data. Load the World Development Indicator data you worked with over the summer. This is country-level data that includes information on both countries’ GDP per capita (a measure of wealth) and the Polity IV scores (a measure of how democratic a country is – countries with higher scores are liberal democracies, countries with low scores are autocratic.). Use the code below to download the data."
   ]
  },
  {
   "cell_type": "code",
   "execution_count": 2,
   "id": "ad495d0e-775a-4671-b293-40ad8ef9770e",
   "metadata": {},
   "outputs": [
    {
     "name": "stdout",
     "output_type": "stream",
     "text": [
      "  % Total    % Received % Xferd  Average Speed   Time    Time     Time  Current\n",
      "                                 Dload  Upload   Total   Spent    Left  Speed\n",
      "100  4190  100  4190    0     0   3360      0  0:00:01  0:00:01 --:--:--  3357\n"
     ]
    }
   ],
   "source": [
    "# Reading using pandas didn't work\n",
    "!curl -LJO https://raw.githubusercontent.com/nickeubank/practicaldatascience/master/Example_Data/world-small.csv"
   ]
  },
  {
   "cell_type": "code",
   "execution_count": 3,
   "id": "2f173cc7-e6a8-4467-a158-fe97cee9fc17",
   "metadata": {},
   "outputs": [],
   "source": [
    "import pandas as pd\n",
    "wdi = pd.read_csv('world-small.csv')"
   ]
  },
  {
   "cell_type": "code",
   "execution_count": 4,
   "id": "ad104946-c8fd-4b2f-8f6f-c374de590a28",
   "metadata": {},
   "outputs": [
    {
     "data": {
      "text/html": [
       "<div>\n",
       "<style scoped>\n",
       "    .dataframe tbody tr th:only-of-type {\n",
       "        vertical-align: middle;\n",
       "    }\n",
       "\n",
       "    .dataframe tbody tr th {\n",
       "        vertical-align: top;\n",
       "    }\n",
       "\n",
       "    .dataframe thead th {\n",
       "        text-align: right;\n",
       "    }\n",
       "</style>\n",
       "<table border=\"1\" class=\"dataframe\">\n",
       "  <thead>\n",
       "    <tr style=\"text-align: right;\">\n",
       "      <th></th>\n",
       "      <th>country</th>\n",
       "      <th>region</th>\n",
       "      <th>gdppcap08</th>\n",
       "      <th>polityIV</th>\n",
       "    </tr>\n",
       "  </thead>\n",
       "  <tbody>\n",
       "    <tr>\n",
       "      <th>0</th>\n",
       "      <td>Albania</td>\n",
       "      <td>C&amp;E Europe</td>\n",
       "      <td>7715</td>\n",
       "      <td>17.8</td>\n",
       "    </tr>\n",
       "    <tr>\n",
       "      <th>1</th>\n",
       "      <td>Algeria</td>\n",
       "      <td>Africa</td>\n",
       "      <td>8033</td>\n",
       "      <td>10.0</td>\n",
       "    </tr>\n",
       "    <tr>\n",
       "      <th>2</th>\n",
       "      <td>Angola</td>\n",
       "      <td>Africa</td>\n",
       "      <td>5899</td>\n",
       "      <td>8.0</td>\n",
       "    </tr>\n",
       "    <tr>\n",
       "      <th>3</th>\n",
       "      <td>Argentina</td>\n",
       "      <td>S. America</td>\n",
       "      <td>14333</td>\n",
       "      <td>18.0</td>\n",
       "    </tr>\n",
       "    <tr>\n",
       "      <th>4</th>\n",
       "      <td>Armenia</td>\n",
       "      <td>C&amp;E Europe</td>\n",
       "      <td>6070</td>\n",
       "      <td>15.0</td>\n",
       "    </tr>\n",
       "  </tbody>\n",
       "</table>\n",
       "</div>"
      ],
      "text/plain": [
       "     country      region  gdppcap08  polityIV\n",
       "0    Albania  C&E Europe       7715      17.8\n",
       "1    Algeria      Africa       8033      10.0\n",
       "2     Angola      Africa       5899       8.0\n",
       "3  Argentina  S. America      14333      18.0\n",
       "4    Armenia  C&E Europe       6070      15.0"
      ]
     },
     "execution_count": 4,
     "metadata": {},
     "output_type": "execute_result"
    }
   ],
   "source": [
    "wdi.head()"
   ]
  },
  {
   "cell_type": "markdown",
   "id": "dfa1a7e2-ac8d-4dad-921a-cefe3d2d249e",
   "metadata": {},
   "source": [
    "# Exercise 1"
   ]
  },
  {
   "cell_type": "markdown",
   "id": "bad66874-b72e-43c7-8412-a3704e672c7c",
   "metadata": {},
   "source": [
    "Let’s being analyzing this data by estimating a simple linear model (“ordinary least squares”) of the relationship between GDP per capita (gdppcap08) and democracy scores (polityIV). We will do so using the statsmodel package, which we’ll discuss in detail later is this course. For the momement, just use this code:"
   ]
  },
  {
   "cell_type": "code",
   "execution_count": 5,
   "id": "297ff309-bd0e-423c-b980-8d9159eabd2e",
   "metadata": {},
   "outputs": [
    {
     "name": "stdout",
     "output_type": "stream",
     "text": [
      "                            OLS Regression Results                            \n",
      "==============================================================================\n",
      "Dep. Variable:               polityIV   R-squared:                       0.047\n",
      "Model:                            OLS   Adj. R-squared:                  0.040\n",
      "Method:                 Least Squares   F-statistic:                     6.981\n",
      "Date:                Sat, 07 Aug 2021   Prob (F-statistic):            0.00915\n",
      "Time:                        12:01:08   Log-Likelihood:                -475.14\n",
      "No. Observations:                 145   AIC:                             954.3\n",
      "Df Residuals:                     143   BIC:                             960.2\n",
      "Df Model:                           1                                         \n",
      "Covariance Type:            nonrobust                                         \n",
      "==============================================================================\n",
      "                 coef    std err          t      P>|t|      [0.025      0.975]\n",
      "------------------------------------------------------------------------------\n",
      "Intercept     12.1354      0.721     16.841      0.000      10.711      13.560\n",
      "gdppcap08   9.602e-05   3.63e-05      2.642      0.009    2.42e-05       0.000\n",
      "==============================================================================\n",
      "Omnibus:                       17.820   Durbin-Watson:                   1.939\n",
      "Prob(Omnibus):                  0.000   Jarque-Bera (JB):               20.393\n",
      "Skew:                          -0.887   Prob(JB):                     3.73e-05\n",
      "Kurtosis:                       2.524   Cond. No.                     2.67e+04\n",
      "==============================================================================\n",
      "\n",
      "Notes:\n",
      "[1] Standard Errors assume that the covariance matrix of the errors is correctly specified.\n",
      "[2] The condition number is large, 2.67e+04. This might indicate that there are\n",
      "strong multicollinearity or other numerical problems.\n"
     ]
    }
   ],
   "source": [
    "import statsmodels.formula.api as smf\n",
    "results = smf.ols('polityIV ~ gdppcap08',\n",
    "                   data=wdi).fit()\n",
    "print(results.summary())"
   ]
  },
  {
   "cell_type": "markdown",
   "id": "cd3a9905-435d-4e92-8345-a6a317cb6425",
   "metadata": {},
   "source": [
    "# Exercise 2\n",
    "Based on the results of this analysis, what would you conclude about about the relationship between gdppcap08 and polityIV?\n",
    "\n",
    "(If you aren’t familiar with Linear Models and aren’t sure how to interprete this, you can also just look at the simple correlation between these two variables using wdi[['polityIV', 'gdppcap08']].corr().)\n",
    "\n",
    "Write down your conclusions."
   ]
  },
  {
   "cell_type": "markdown",
   "id": "a7198914-07e8-495a-a515-8bdb198e5835",
   "metadata": {},
   "source": [
    "Small positive correlation"
   ]
  },
  {
   "cell_type": "markdown",
   "id": "348f040e-bd95-47a0-818e-6c57482e06f4",
   "metadata": {},
   "source": [
    "# Exercise 3\n",
    "Now let’s plot the relationship you just estimated statistically. First, use plotnine to create a scatter plot of polityIV and gdppcap08."
   ]
  },
  {
   "cell_type": "code",
   "execution_count": 8,
   "id": "b6eae567-30a1-4bb4-99c8-790902d48e50",
   "metadata": {},
   "outputs": [
    {
     "data": {
      "text/plain": [
       "<seaborn.axisgrid.FacetGrid at 0x13c97cbb0>"
      ]
     },
     "execution_count": 8,
     "metadata": {},
     "output_type": "execute_result"
    },
    {
     "data": {
      "image/png": "[encoded data removed]",
      "text/plain": [
       "<Figure size 360x360 with 1 Axes>"
      ]
     },
     "metadata": {
      "needs_background": "light"
     },
     "output_type": "display_data"
    }
   ],
   "source": [
    "import seaborn as sns\n",
    "import matplotlib.pyplot as plt\n",
    "sns.lmplot(\n",
    "    data=wdi,\n",
    "    x='gdppcap08', y='polityIV'\n",
    ")"
   ]
  },
  {
   "cell_type": "markdown",
   "id": "17f72ac2-8e31-4c5b-be00-3afebe695aca",
   "metadata": {
    "tags": []
   },
   "source": [
    "# Exercise 4\n",
    "Now overlay the linear model you just estimated. You can do this by adding a geom_smooth() layer, where the method argument is set to 'lm' (for linear model)."
   ]
  },
  {
   "cell_type": "markdown",
   "id": "2f9ecd9e-3e34-467d-80d9-5531acf0a3af",
   "metadata": {},
   "source": [
    "Done before"
   ]
  },
  {
   "cell_type": "markdown",
   "id": "100bb528-291f-4380-a803-b38afcd4fcaa",
   "metadata": {},
   "source": [
    "# Exercise 5\n",
    "Does it seem like the linear model you estimated fits the data well?\n",
    "No"
   ]
  },
  {
   "cell_type": "markdown",
   "id": "58189d3a-5848-4f5f-9973-a1890e97d581",
   "metadata": {},
   "source": [
    "# Exercise 6\n",
    "Linear models impose a very strict functional form on the model they use: they try to draw a straight line through the data, no matter what. Let’s consider a more flexible functional form. Change the method in your geom_smooth to \"lowess\". This is a form of local polynomial regression that is designed to be flexible in how it fits the data."
   ]
  },
  {
   "cell_type": "code",
   "execution_count": null,
   "id": "f8a5fbff-830b-4c5c-bcf9-ef11940a99e5",
   "metadata": {},
   "outputs": [],
   "source": []
  }
 ],
 "metadata": {
  "kernelspec": {
   "display_name": "Python 3 (ipykernel)",
   "language": "python",
   "name": "python3"
  },
  "language_info": {
   "codemirror_mode": {
    "name": "ipython",
    "version": 3
   },
   "file_extension": ".py",
   "mimetype": "text/x-python",
   "name": "python",
   "nbconvert_exporter": "python",
   "pygments_lexer": "ipython3",
   "version": "3.9.2"
  }
 },
 "nbformat": 4,
 "nbformat_minor": 5
}

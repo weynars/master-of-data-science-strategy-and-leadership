{
 "cells": [
  {
   "cell_type": "markdown",
   "id": "2e5ec47b-c8bf-4e43-81f5-92104bcd5030",
   "metadata": {},
   "source": [
    "Source: https://www.practicaldatascience.org/html/exercises/Exercise_merging.html"
   ]
  },
  {
   "cell_type": "markdown",
   "id": "135b62a7-504c-4e10-9e78-4579d0ca1ac6",
   "metadata": {},
   "source": [
    "# Pre-Legalization Analysis\n",
    "__(1) We will begin by examining county-level data on arrests from California in 2009, which is derived from data provided by the Office of the California State Attorney General here. Download and import the file ca_arrests_2009.csv from the first link above (the second one is just to show you where it came from).__"
   ]
  },
  {
   "cell_type": "code",
   "execution_count": 6,
   "id": "b6d71abc-666a-48b8-8df9-dfb0ca22af4e",
   "metadata": {},
   "outputs": [
    {
     "name": "stdout",
     "output_type": "stream",
     "text": [
      "  % Total    % Received % Xferd  Average Speed   Time    Time     Time  Current\n",
      "                                 Dload  Upload   Total   Spent    Left  Speed\n",
      "100  3192  100  3192    0     0   9643      0 --:--:-- --:--:-- --:--:--  9672\n"
     ]
    }
   ],
   "source": [
    "!curl -LJO https://raw.githubusercontent.com/nickeubank/practicaldatascience/master/Example_Data/ca/ca_arrests_2009.csv"
   ]
  },
  {
   "cell_type": "code",
   "execution_count": 7,
   "id": "c43421c3-42e3-40df-bf12-354cca485c5b",
   "metadata": {},
   "outputs": [
    {
     "name": "stdout",
     "output_type": "stream",
     "text": [
      "Cleaning_Data.ipynb          Missing_Data.ipynb\n",
      "DataFrames.ipynb             Series.ipynb\n",
      "Data_Merging.ipynb           US_ACS_2017_10pct_sample.dta\n",
      "Index.ipynb                  ca_arrests_2009.csv\n"
     ]
    }
   ],
   "source": [
    "!ls"
   ]
  },
  {
   "cell_type": "markdown",
   "id": "672254f2-56c4-493f-8d45-e0645b6c9246",
   "metadata": {},
   "source": [
    "__(2) Use your data exploration skills to get a feel for this data. If you need to, you can find the original codebook here (This data is similar, but has been collapsed to one observation per county.)__"
   ]
  },
  {
   "cell_type": "code",
   "execution_count": 8,
   "id": "2f1f1f97-adee-4ada-9877-797e1abba4b8",
   "metadata": {},
   "outputs": [],
   "source": [
    "import pandas as pd\n",
    "import numpy as np\n",
    "df = pd.read_csv('ca_arrests_2009.csv')"
   ]
  },
  {
   "cell_type": "code",
   "execution_count": 13,
   "id": "0da88c55-d8eb-40b3-9729-91b9c76173ef",
   "metadata": {},
   "outputs": [
    {
     "data": {
      "text/plain": [
       "(58, 10)"
      ]
     },
     "execution_count": 13,
     "metadata": {},
     "output_type": "execute_result"
    }
   ],
   "source": [
    "df.shape"
   ]
  },
  {
   "cell_type": "code",
   "execution_count": 9,
   "id": "e4eaee98-8a41-41c9-855b-7645ab1201e3",
   "metadata": {},
   "outputs": [
    {
     "data": {
      "text/html": [
       "<div>\n",
       "<style scoped>\n",
       "    .dataframe tbody tr th:only-of-type {\n",
       "        vertical-align: middle;\n",
       "    }\n",
       "\n",
       "    .dataframe tbody tr th {\n",
       "        vertical-align: top;\n",
       "    }\n",
       "\n",
       "    .dataframe thead th {\n",
       "        text-align: right;\n",
       "    }\n",
       "</style>\n",
       "<table border=\"1\" class=\"dataframe\">\n",
       "  <thead>\n",
       "    <tr style=\"text-align: right;\">\n",
       "      <th></th>\n",
       "      <th>Unnamed: 0</th>\n",
       "      <th>COUNTY</th>\n",
       "      <th>VIOLENT</th>\n",
       "      <th>PROPERTY</th>\n",
       "      <th>F_DRUGOFF</th>\n",
       "      <th>F_SEXOFF</th>\n",
       "      <th>F_ALLOTHER</th>\n",
       "      <th>F_TOTAL</th>\n",
       "      <th>M_TOTAL</th>\n",
       "      <th>S_TOTAL</th>\n",
       "    </tr>\n",
       "  </thead>\n",
       "  <tbody>\n",
       "    <tr>\n",
       "      <th>0</th>\n",
       "      <td>1682</td>\n",
       "      <td>Alameda County</td>\n",
       "      <td>4318</td>\n",
       "      <td>4640</td>\n",
       "      <td>5749</td>\n",
       "      <td>260</td>\n",
       "      <td>3502</td>\n",
       "      <td>18469</td>\n",
       "      <td>37247</td>\n",
       "      <td>431</td>\n",
       "    </tr>\n",
       "    <tr>\n",
       "      <th>1</th>\n",
       "      <td>1683</td>\n",
       "      <td>Alpine County</td>\n",
       "      <td>8</td>\n",
       "      <td>4</td>\n",
       "      <td>2</td>\n",
       "      <td>1</td>\n",
       "      <td>1</td>\n",
       "      <td>16</td>\n",
       "      <td>83</td>\n",
       "      <td>0</td>\n",
       "    </tr>\n",
       "    <tr>\n",
       "      <th>2</th>\n",
       "      <td>1684</td>\n",
       "      <td>Amador County</td>\n",
       "      <td>100</td>\n",
       "      <td>59</td>\n",
       "      <td>101</td>\n",
       "      <td>5</td>\n",
       "      <td>199</td>\n",
       "      <td>464</td>\n",
       "      <td>801</td>\n",
       "      <td>2</td>\n",
       "    </tr>\n",
       "    <tr>\n",
       "      <th>3</th>\n",
       "      <td>1685</td>\n",
       "      <td>Butte County</td>\n",
       "      <td>641</td>\n",
       "      <td>602</td>\n",
       "      <td>542</td>\n",
       "      <td>34</td>\n",
       "      <td>429</td>\n",
       "      <td>2248</td>\n",
       "      <td>9026</td>\n",
       "      <td>1</td>\n",
       "    </tr>\n",
       "    <tr>\n",
       "      <th>4</th>\n",
       "      <td>1686</td>\n",
       "      <td>Calaveras County</td>\n",
       "      <td>211</td>\n",
       "      <td>83</td>\n",
       "      <td>123</td>\n",
       "      <td>14</td>\n",
       "      <td>70</td>\n",
       "      <td>501</td>\n",
       "      <td>968</td>\n",
       "      <td>3</td>\n",
       "    </tr>\n",
       "  </tbody>\n",
       "</table>\n",
       "</div>"
      ],
      "text/plain": [
       "   Unnamed: 0            COUNTY  VIOLENT  PROPERTY  F_DRUGOFF  F_SEXOFF  \\\n",
       "0        1682    Alameda County     4318      4640       5749       260   \n",
       "1        1683     Alpine County        8         4          2         1   \n",
       "2        1684     Amador County      100        59        101         5   \n",
       "3        1685      Butte County      641       602        542        34   \n",
       "4        1686  Calaveras County      211        83        123        14   \n",
       "\n",
       "   F_ALLOTHER  F_TOTAL  M_TOTAL  S_TOTAL  \n",
       "0        3502    18469    37247      431  \n",
       "1           1       16       83        0  \n",
       "2         199      464      801        2  \n",
       "3         429     2248     9026        1  \n",
       "4          70      501      968        3  "
      ]
     },
     "execution_count": 9,
     "metadata": {},
     "output_type": "execute_result"
    }
   ],
   "source": [
    "df.head()"
   ]
  },
  {
   "cell_type": "code",
   "execution_count": 10,
   "id": "5c465f4f-94c4-4a4b-b4c7-0f7ddabca728",
   "metadata": {},
   "outputs": [
    {
     "data": {
      "text/html": [
       "<div>\n",
       "<style scoped>\n",
       "    .dataframe tbody tr th:only-of-type {\n",
       "        vertical-align: middle;\n",
       "    }\n",
       "\n",
       "    .dataframe tbody tr th {\n",
       "        vertical-align: top;\n",
       "    }\n",
       "\n",
       "    .dataframe thead th {\n",
       "        text-align: right;\n",
       "    }\n",
       "</style>\n",
       "<table border=\"1\" class=\"dataframe\">\n",
       "  <thead>\n",
       "    <tr style=\"text-align: right;\">\n",
       "      <th></th>\n",
       "      <th>Unnamed: 0</th>\n",
       "      <th>VIOLENT</th>\n",
       "      <th>PROPERTY</th>\n",
       "      <th>F_DRUGOFF</th>\n",
       "      <th>F_SEXOFF</th>\n",
       "      <th>F_ALLOTHER</th>\n",
       "      <th>F_TOTAL</th>\n",
       "      <th>M_TOTAL</th>\n",
       "      <th>S_TOTAL</th>\n",
       "    </tr>\n",
       "  </thead>\n",
       "  <tbody>\n",
       "    <tr>\n",
       "      <th>count</th>\n",
       "      <td>58.000000</td>\n",
       "      <td>58.000000</td>\n",
       "      <td>58.000000</td>\n",
       "      <td>58.000000</td>\n",
       "      <td>58.000000</td>\n",
       "      <td>58.000000</td>\n",
       "      <td>58.000000</td>\n",
       "      <td>58.000000</td>\n",
       "      <td>58.000000</td>\n",
       "    </tr>\n",
       "    <tr>\n",
       "      <th>mean</th>\n",
       "      <td>1710.500000</td>\n",
       "      <td>2133.827586</td>\n",
       "      <td>2187.775862</td>\n",
       "      <td>2046.275862</td>\n",
       "      <td>142.913793</td>\n",
       "      <td>1531.293103</td>\n",
       "      <td>8042.086207</td>\n",
       "      <td>16727.948276</td>\n",
       "      <td>520.517241</td>\n",
       "    </tr>\n",
       "    <tr>\n",
       "      <th>std</th>\n",
       "      <td>16.886879</td>\n",
       "      <td>4937.729079</td>\n",
       "      <td>4949.115636</td>\n",
       "      <td>4591.867960</td>\n",
       "      <td>303.184460</td>\n",
       "      <td>3270.993593</td>\n",
       "      <td>17992.225337</td>\n",
       "      <td>34113.762098</td>\n",
       "      <td>1562.044019</td>\n",
       "    </tr>\n",
       "    <tr>\n",
       "      <th>min</th>\n",
       "      <td>1682.000000</td>\n",
       "      <td>8.000000</td>\n",
       "      <td>4.000000</td>\n",
       "      <td>2.000000</td>\n",
       "      <td>1.000000</td>\n",
       "      <td>1.000000</td>\n",
       "      <td>16.000000</td>\n",
       "      <td>83.000000</td>\n",
       "      <td>0.000000</td>\n",
       "    </tr>\n",
       "    <tr>\n",
       "      <th>25%</th>\n",
       "      <td>1696.250000</td>\n",
       "      <td>194.000000</td>\n",
       "      <td>141.250000</td>\n",
       "      <td>135.500000</td>\n",
       "      <td>14.000000</td>\n",
       "      <td>146.500000</td>\n",
       "      <td>637.250000</td>\n",
       "      <td>1541.500000</td>\n",
       "      <td>10.500000</td>\n",
       "    </tr>\n",
       "    <tr>\n",
       "      <th>50%</th>\n",
       "      <td>1710.500000</td>\n",
       "      <td>536.500000</td>\n",
       "      <td>518.500000</td>\n",
       "      <td>532.000000</td>\n",
       "      <td>39.000000</td>\n",
       "      <td>474.000000</td>\n",
       "      <td>2084.500000</td>\n",
       "      <td>6267.000000</td>\n",
       "      <td>73.000000</td>\n",
       "    </tr>\n",
       "    <tr>\n",
       "      <th>75%</th>\n",
       "      <td>1724.750000</td>\n",
       "      <td>2204.000000</td>\n",
       "      <td>2338.750000</td>\n",
       "      <td>1860.500000</td>\n",
       "      <td>117.750000</td>\n",
       "      <td>1993.500000</td>\n",
       "      <td>8677.500000</td>\n",
       "      <td>16417.250000</td>\n",
       "      <td>386.000000</td>\n",
       "    </tr>\n",
       "    <tr>\n",
       "      <th>max</th>\n",
       "      <td>1739.000000</td>\n",
       "      <td>35319.000000</td>\n",
       "      <td>34630.000000</td>\n",
       "      <td>32193.000000</td>\n",
       "      <td>2041.000000</td>\n",
       "      <td>23524.000000</td>\n",
       "      <td>127707.000000</td>\n",
       "      <td>238608.000000</td>\n",
       "      <td>11049.000000</td>\n",
       "    </tr>\n",
       "  </tbody>\n",
       "</table>\n",
       "</div>"
      ],
      "text/plain": [
       "        Unnamed: 0       VIOLENT      PROPERTY     F_DRUGOFF     F_SEXOFF  \\\n",
       "count    58.000000     58.000000     58.000000     58.000000    58.000000   \n",
       "mean   1710.500000   2133.827586   2187.775862   2046.275862   142.913793   \n",
       "std      16.886879   4937.729079   4949.115636   4591.867960   303.184460   \n",
       "min    1682.000000      8.000000      4.000000      2.000000     1.000000   \n",
       "25%    1696.250000    194.000000    141.250000    135.500000    14.000000   \n",
       "50%    1710.500000    536.500000    518.500000    532.000000    39.000000   \n",
       "75%    1724.750000   2204.000000   2338.750000   1860.500000   117.750000   \n",
       "max    1739.000000  35319.000000  34630.000000  32193.000000  2041.000000   \n",
       "\n",
       "         F_ALLOTHER        F_TOTAL        M_TOTAL       S_TOTAL  \n",
       "count     58.000000      58.000000      58.000000     58.000000  \n",
       "mean    1531.293103    8042.086207   16727.948276    520.517241  \n",
       "std     3270.993593   17992.225337   34113.762098   1562.044019  \n",
       "min        1.000000      16.000000      83.000000      0.000000  \n",
       "25%      146.500000     637.250000    1541.500000     10.500000  \n",
       "50%      474.000000    2084.500000    6267.000000     73.000000  \n",
       "75%     1993.500000    8677.500000   16417.250000    386.000000  \n",
       "max    23524.000000  127707.000000  238608.000000  11049.000000  "
      ]
     },
     "execution_count": 10,
     "metadata": {},
     "output_type": "execute_result"
    }
   ],
   "source": [
    "df.describe()"
   ]
  },
  {
   "cell_type": "code",
   "execution_count": 12,
   "id": "c65320d4-6ae0-4039-85f5-758e3c55e2c0",
   "metadata": {},
   "outputs": [
    {
     "data": {
      "text/plain": [
       "Unnamed: 0    0\n",
       "COUNTY        0\n",
       "VIOLENT       0\n",
       "PROPERTY      0\n",
       "F_DRUGOFF     0\n",
       "F_SEXOFF      0\n",
       "F_ALLOTHER    0\n",
       "F_TOTAL       0\n",
       "M_TOTAL       0\n",
       "S_TOTAL       0\n",
       "dtype: int64"
      ]
     },
     "execution_count": 12,
     "metadata": {},
     "output_type": "execute_result"
    }
   ],
   "source": [
    "df.isna().sum()"
   ]
  },
  {
   "cell_type": "markdown",
   "id": "c61fa454-3ffe-47d9-8a28-27270f95c711",
   "metadata": {},
   "source": [
    "__(3) Figuring out what county has the most violent arrests isn’t very meaningful if we don’t normalize for size. A county with 10 people and 10 arrests for violent crimes is obviously worse than a county with 1,000,000 people an 11 arrests for violent crime.__\n",
    "\n",
    "To address this, also import nhgis_county_populations.csv from the directory we’re working from."
   ]
  },
  {
   "cell_type": "code",
   "execution_count": 14,
   "id": "9a2d7c92-898b-4c17-a630-0e39b795582f",
   "metadata": {},
   "outputs": [
    {
     "name": "stdout",
     "output_type": "stream",
     "text": [
      "  % Total    % Received % Xferd  Average Speed   Time    Time     Time  Current\n",
      "                                 Dload  Upload   Total   Spent    Left  Speed\n",
      "100  288k  100  288k    0     0   449k      0 --:--:-- --:--:-- --:--:--  448k\n"
     ]
    }
   ],
   "source": [
    "!curl -LJO https://raw.githubusercontent.com/nickeubank/practicaldatascience/master/Example_Data/ca/nhgis_county_populations.csv"
   ]
  },
  {
   "cell_type": "code",
   "execution_count": 15,
   "id": "74a6f899-e361-4ff4-b33e-a2f80bd75600",
   "metadata": {},
   "outputs": [],
   "source": [
    "population_df = pd.read_csv('nhgis_county_populations.csv')"
   ]
  },
  {
   "cell_type": "markdown",
   "id": "d387e493-a691-4ea7-86a2-76568880bef6",
   "metadata": {},
   "source": [
    "__(4) Use your data exploration skills to get used to this data, and figure out how it relates to your 2009 arrest data.__"
   ]
  },
  {
   "cell_type": "code",
   "execution_count": 16,
   "id": "6aed1844-e7e7-4ebc-a650-7d5ba40fc0bc",
   "metadata": {},
   "outputs": [
    {
     "data": {
      "text/plain": [
       "(6441, 5)"
      ]
     },
     "execution_count": 16,
     "metadata": {},
     "output_type": "execute_result"
    }
   ],
   "source": [
    "population_df.shape"
   ]
  },
  {
   "cell_type": "code",
   "execution_count": 17,
   "id": "17a61483-969a-481f-8c4b-9109ec339f29",
   "metadata": {},
   "outputs": [
    {
     "data": {
      "text/html": [
       "<div>\n",
       "<style scoped>\n",
       "    .dataframe tbody tr th:only-of-type {\n",
       "        vertical-align: middle;\n",
       "    }\n",
       "\n",
       "    .dataframe tbody tr th {\n",
       "        vertical-align: top;\n",
       "    }\n",
       "\n",
       "    .dataframe thead th {\n",
       "        text-align: right;\n",
       "    }\n",
       "</style>\n",
       "<table border=\"1\" class=\"dataframe\">\n",
       "  <thead>\n",
       "    <tr style=\"text-align: right;\">\n",
       "      <th></th>\n",
       "      <th>Unnamed: 0</th>\n",
       "      <th>YEAR</th>\n",
       "      <th>STATE</th>\n",
       "      <th>COUNTY</th>\n",
       "      <th>total_population</th>\n",
       "    </tr>\n",
       "  </thead>\n",
       "  <tbody>\n",
       "    <tr>\n",
       "      <th>0</th>\n",
       "      <td>0</td>\n",
       "      <td>2005-2009</td>\n",
       "      <td>Alabama</td>\n",
       "      <td>Autauga County</td>\n",
       "      <td>49584</td>\n",
       "    </tr>\n",
       "    <tr>\n",
       "      <th>1</th>\n",
       "      <td>1</td>\n",
       "      <td>2005-2009</td>\n",
       "      <td>Alabama</td>\n",
       "      <td>Baldwin County</td>\n",
       "      <td>171997</td>\n",
       "    </tr>\n",
       "    <tr>\n",
       "      <th>2</th>\n",
       "      <td>2</td>\n",
       "      <td>2005-2009</td>\n",
       "      <td>Alabama</td>\n",
       "      <td>Barbour County</td>\n",
       "      <td>29663</td>\n",
       "    </tr>\n",
       "    <tr>\n",
       "      <th>3</th>\n",
       "      <td>3</td>\n",
       "      <td>2005-2009</td>\n",
       "      <td>Alabama</td>\n",
       "      <td>Bibb County</td>\n",
       "      <td>21464</td>\n",
       "    </tr>\n",
       "    <tr>\n",
       "      <th>4</th>\n",
       "      <td>4</td>\n",
       "      <td>2005-2009</td>\n",
       "      <td>Alabama</td>\n",
       "      <td>Blount County</td>\n",
       "      <td>56804</td>\n",
       "    </tr>\n",
       "  </tbody>\n",
       "</table>\n",
       "</div>"
      ],
      "text/plain": [
       "   Unnamed: 0       YEAR    STATE          COUNTY  total_population\n",
       "0           0  2005-2009  Alabama  Autauga County             49584\n",
       "1           1  2005-2009  Alabama  Baldwin County            171997\n",
       "2           2  2005-2009  Alabama  Barbour County             29663\n",
       "3           3  2005-2009  Alabama     Bibb County             21464\n",
       "4           4  2005-2009  Alabama   Blount County             56804"
      ]
     },
     "execution_count": 17,
     "metadata": {},
     "output_type": "execute_result"
    }
   ],
   "source": [
    "population_df.head()"
   ]
  },
  {
   "cell_type": "code",
   "execution_count": 21,
   "id": "56a64026-e662-42f6-ac84-60b964f0b39a",
   "metadata": {},
   "outputs": [
    {
     "data": {
      "text/html": [
       "<div>\n",
       "<style scoped>\n",
       "    .dataframe tbody tr th:only-of-type {\n",
       "        vertical-align: middle;\n",
       "    }\n",
       "\n",
       "    .dataframe tbody tr th {\n",
       "        vertical-align: top;\n",
       "    }\n",
       "\n",
       "    .dataframe thead th {\n",
       "        text-align: right;\n",
       "    }\n",
       "</style>\n",
       "<table border=\"1\" class=\"dataframe\">\n",
       "  <thead>\n",
       "    <tr style=\"text-align: right;\">\n",
       "      <th></th>\n",
       "      <th>Unnamed: 0</th>\n",
       "      <th>YEAR</th>\n",
       "      <th>STATE</th>\n",
       "      <th>COUNTY</th>\n",
       "      <th>total_population</th>\n",
       "    </tr>\n",
       "  </thead>\n",
       "  <tbody>\n",
       "    <tr>\n",
       "      <th>186</th>\n",
       "      <td>186</td>\n",
       "      <td>2005-2009</td>\n",
       "      <td>California</td>\n",
       "      <td>Alameda County</td>\n",
       "      <td>1457095</td>\n",
       "    </tr>\n",
       "  </tbody>\n",
       "</table>\n",
       "</div>"
      ],
      "text/plain": [
       "     Unnamed: 0       YEAR       STATE          COUNTY  total_population\n",
       "186         186  2005-2009  California  Alameda County           1457095"
      ]
     },
     "execution_count": 21,
     "metadata": {},
     "output_type": "execute_result"
    }
   ],
   "source": [
    "cond1 = population_df['YEAR'] == '2005-2009'\n",
    "cond2 = population_df['COUNTY'] == 'Alameda County'\n",
    "population_df[cond1&cond2].sort_values('COUNTY').head(10)"
   ]
  },
  {
   "cell_type": "markdown",
   "id": "59cf9f07-4082-46e0-91f9-44a3ae8dd4ed",
   "metadata": {},
   "source": [
    "__(5) Once you feel like you have a good sense of the relation between our arrest and population data, merge the two datasets.__"
   ]
  },
  {
   "cell_type": "code",
   "execution_count": 22,
   "id": "c4f440b6-a393-4240-8951-a6ed3a4d3aa9",
   "metadata": {},
   "outputs": [],
   "source": [
    "cond1 = population_df['YEAR'] == '2005-2009'\n",
    "grouped_population_df = population_df[cond1].groupby('COUNTY')['total_population'].sum().reset_index()"
   ]
  },
  {
   "cell_type": "code",
   "execution_count": 37,
   "id": "4a0750e9-a96d-45b3-baf4-f84a214a09dd",
   "metadata": {},
   "outputs": [
    {
     "data": {
      "text/plain": [
       "(58, 11)"
      ]
     },
     "execution_count": 37,
     "metadata": {},
     "output_type": "execute_result"
    }
   ],
   "source": [
    "merged_df = pd.merge(df, grouped_population_df, on='COUNTY', how='left', validate='one_to_one')\n",
    "merged_df.shape"
   ]
  },
  {
   "cell_type": "code",
   "execution_count": 30,
   "id": "e22e0d3f-8f1c-415c-b207-808f5e88cae8",
   "metadata": {},
   "outputs": [
    {
     "data": {
      "text/html": [
       "<div>\n",
       "<style scoped>\n",
       "    .dataframe tbody tr th:only-of-type {\n",
       "        vertical-align: middle;\n",
       "    }\n",
       "\n",
       "    .dataframe tbody tr th {\n",
       "        vertical-align: top;\n",
       "    }\n",
       "\n",
       "    .dataframe thead th {\n",
       "        text-align: right;\n",
       "    }\n",
       "</style>\n",
       "<table border=\"1\" class=\"dataframe\">\n",
       "  <thead>\n",
       "    <tr style=\"text-align: right;\">\n",
       "      <th></th>\n",
       "      <th>Unnamed: 0</th>\n",
       "      <th>COUNTY</th>\n",
       "      <th>VIOLENT</th>\n",
       "      <th>PROPERTY</th>\n",
       "      <th>F_DRUGOFF</th>\n",
       "      <th>F_SEXOFF</th>\n",
       "      <th>F_ALLOTHER</th>\n",
       "      <th>F_TOTAL</th>\n",
       "      <th>M_TOTAL</th>\n",
       "      <th>S_TOTAL</th>\n",
       "      <th>total_population</th>\n",
       "    </tr>\n",
       "  </thead>\n",
       "  <tbody>\n",
       "    <tr>\n",
       "      <th>7</th>\n",
       "      <td>1689</td>\n",
       "      <td>Del Norte County</td>\n",
       "      <td>144</td>\n",
       "      <td>104</td>\n",
       "      <td>79</td>\n",
       "      <td>13</td>\n",
       "      <td>97</td>\n",
       "      <td>437</td>\n",
       "      <td>1268</td>\n",
       "      <td>5</td>\n",
       "      <td>NaN</td>\n",
       "    </tr>\n",
       "    <tr>\n",
       "      <th>13</th>\n",
       "      <td>1695</td>\n",
       "      <td>Inyo County</td>\n",
       "      <td>81</td>\n",
       "      <td>44</td>\n",
       "      <td>39</td>\n",
       "      <td>3</td>\n",
       "      <td>38</td>\n",
       "      <td>205</td>\n",
       "      <td>851</td>\n",
       "      <td>1</td>\n",
       "      <td>NaN</td>\n",
       "    </tr>\n",
       "  </tbody>\n",
       "</table>\n",
       "</div>"
      ],
      "text/plain": [
       "    Unnamed: 0            COUNTY  VIOLENT  PROPERTY  F_DRUGOFF  F_SEXOFF  \\\n",
       "7         1689  Del Norte County      144       104         79        13   \n",
       "13        1695       Inyo County       81        44         39         3   \n",
       "\n",
       "    F_ALLOTHER  F_TOTAL  M_TOTAL  S_TOTAL  total_population  \n",
       "7           97      437     1268        5               NaN  \n",
       "13          38      205      851        1               NaN  "
      ]
     },
     "execution_count": 30,
     "metadata": {},
     "output_type": "execute_result"
    }
   ],
   "source": [
    "# Missing population data\n",
    "cond = merged_df['total_population'].isna()\n",
    "merged_df[cond]"
   ]
  },
  {
   "cell_type": "code",
   "execution_count": 34,
   "id": "745cac01-6a15-4565-a906-6682e9eb2ca9",
   "metadata": {},
   "outputs": [
    {
     "data": {
      "text/plain": [
       "(56, 11)"
      ]
     },
     "execution_count": 34,
     "metadata": {},
     "output_type": "execute_result"
    }
   ],
   "source": [
    "cond = merged_df['total_population'].isna()\n",
    "merged_df = merged_df[~cond].copy()\n",
    "merged_df.shape"
   ]
  },
  {
   "cell_type": "markdown",
   "id": "7087b0b2-a48a-4b6b-b4dd-3996253ccfc0",
   "metadata": {},
   "source": [
    "Skipping steps 6 to 9 as it is looking good already"
   ]
  },
  {
   "cell_type": "markdown",
   "id": "e3c50751-cdd0-415a-9363-acff5571da85",
   "metadata": {},
   "source": [
    "# Comparing Arrest Rates"
   ]
  },
  {
   "cell_type": "markdown",
   "id": "bba940c5-d347-437b-82a1-6a05e052382e",
   "metadata": {},
   "source": [
    "__(10) Now that we have arrest counts and population data, we can calculate arrest rates. For each county, create a new variable called violent_arrest_rate_2009 that is the number of violent arrests for 2009 divided by the population of the county from 2005-2009, and an analogous variable for drug offenses (F_DRUGOFF).__"
   ]
  },
  {
   "cell_type": "code",
   "execution_count": 38,
   "id": "42640128-78c5-46ba-8a2d-1a122ca199a4",
   "metadata": {},
   "outputs": [],
   "source": [
    "merged_df['violent_arrest_rate_2009'] = merged_df['VIOLENT']/merged_df['total_population']\n",
    "merged_df['drugoff_arrest_rate_2009'] = merged_df['F_DRUGOFF']/merged_df['total_population']"
   ]
  },
  {
   "cell_type": "markdown",
   "id": "edf5ab1f-ee1b-46d4-9141-c9fdc9b231cd",
   "metadata": {},
   "source": [
    "__(11) Make a scatter plot that shows the relationship between each county’s violent arrest rate and it’s drug arrest rate.__"
   ]
  },
  {
   "cell_type": "code",
   "execution_count": 41,
   "id": "0021322a-8fa1-493c-b53f-2bd521f87640",
   "metadata": {},
   "outputs": [
    {
     "data": {
      "text/plain": [
       "<matplotlib.collections.PathCollection at 0x1254eac70>"
      ]
     },
     "execution_count": 41,
     "metadata": {},
     "output_type": "execute_result"
    },
    {
     "data": {
      "image/png": "[encoded data removed]",
      "text/plain": [
       "<Figure size 432x288 with 1 Axes>"
      ]
     },
     "metadata": {
      "needs_background": "light"
     },
     "output_type": "display_data"
    }
   ],
   "source": [
    "import matplotlib.pyplot as plt\n",
    "plt.scatter(merged_df['violent_arrest_rate_2009'], merged_df['drugoff_arrest_rate_2009'])"
   ]
  },
  {
   "cell_type": "code",
   "execution_count": null,
   "id": "224f01aa-713d-42e9-8c76-274b5149ae9e",
   "metadata": {},
   "outputs": [],
   "source": []
  }
 ],
 "metadata": {
  "kernelspec": {
   "display_name": "Python 3 (ipykernel)",
   "language": "python",
   "name": "python3"
  },
  "language_info": {
   "codemirror_mode": {
    "name": "ipython",
    "version": 3
   },
   "file_extension": ".py",
   "mimetype": "text/x-python",
   "name": "python",
   "nbconvert_exporter": "python",
   "pygments_lexer": "ipython3",
   "version": "3.9.2"
  }
 },
 "nbformat": 4,
 "nbformat_minor": 5
}

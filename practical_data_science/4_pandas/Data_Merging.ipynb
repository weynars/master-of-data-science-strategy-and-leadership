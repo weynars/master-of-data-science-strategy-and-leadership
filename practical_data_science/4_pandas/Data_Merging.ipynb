{
 "cells": [
  {
   "cell_type": "markdown",
   "id": "2e5ec47b-c8bf-4e43-81f5-92104bcd5030",
   "metadata": {},
   "source": [
    "Source: https://www.practicaldatascience.org/html/exercises/Exercise_merging.html"
   ]
  },
  {
   "cell_type": "markdown",
   "id": "135b62a7-504c-4e10-9e78-4579d0ca1ac6",
   "metadata": {},
   "source": [
    "# Pre-Legalization Analysis\n",
    "__(1) We will begin by examining county-level data on arrests from California in 2009, which is derived from data provided by the Office of the California State Attorney General here. Download and import the file ca_arrests_2009.csv from the first link above (the second one is just to show you where it came from).__"
   ]
  },
  {
   "cell_type": "code",
   "execution_count": 2,
   "id": "b6d71abc-666a-48b8-8df9-dfb0ca22af4e",
   "metadata": {},
   "outputs": [
    {
     "name": "stdout",
     "output_type": "stream",
     "text": [
      "  % Total    % Received % Xferd  Average Speed   Time    Time     Time  Current\n",
      "                                 Dload  Upload   Total   Spent    Left  Speed\n",
      "100  145k    0  145k    0     0   140k      0 --:--:--  0:00:01 --:--:--  140k\n"
     ]
    }
   ],
   "source": [
    "!curl -LJO https://github.com/nickeubank/practicaldatascience/blob/master/Example_Data/ca/ca_arrests_2009.csv"
   ]
  },
  {
   "cell_type": "code",
   "execution_count": 3,
   "id": "c43421c3-42e3-40df-bf12-354cca485c5b",
   "metadata": {},
   "outputs": [
    {
     "name": "stdout",
     "output_type": "stream",
     "text": [
      "Cleaning_Data.ipynb          Missing_Data.ipynb\n",
      "DataFrames.ipynb             Series.ipynb\n",
      "Data_Merging.ipynb           US_ACS_2017_10pct_sample.dta\n",
      "Index.ipynb                  ca_arrests_2009.csv\n"
     ]
    }
   ],
   "source": [
    "!ls"
   ]
  },
  {
   "cell_type": "markdown",
   "id": "672254f2-56c4-493f-8d45-e0645b6c9246",
   "metadata": {},
   "source": [
    "__(2) Use your data exploration skills to get a feel for this data. If you need to, you can find the original codebook here (This data is similar, but has been collapsed to one observation per county.)__"
   ]
  },
  {
   "cell_type": "code",
   "execution_count": null,
   "id": "2f1f1f97-adee-4ada-9877-797e1abba4b8",
   "metadata": {},
   "outputs": [],
   "source": []
  }
 ],
 "metadata": {
  "kernelspec": {
   "display_name": "Python 3 (ipykernel)",
   "language": "python",
   "name": "python3"
  },
  "language_info": {
   "codemirror_mode": {
    "name": "ipython",
    "version": 3
   },
   "file_extension": ".py",
   "mimetype": "text/x-python",
   "name": "python",
   "nbconvert_exporter": "python",
   "pygments_lexer": "ipython3",
   "version": "3.9.2"
  }
 },
 "nbformat": 4,
 "nbformat_minor": 5
}

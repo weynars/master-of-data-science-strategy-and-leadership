{
 "cells": [
  {
   "cell_type": "markdown",
   "id": "0ec6ecd7-f73b-4fa6-9f1f-6213b7bd6164",
   "metadata": {},
   "source": [
    "Source: https://www.practicaldatascience.org/html/exercises/Exercise_groupby.html"
   ]
  },
  {
   "cell_type": "markdown",
   "id": "f9ce0796-fc8b-4621-8b06-6d978f2f800c",
   "metadata": {},
   "source": [
    "Can't download the data"
   ]
  },
  {
   "cell_type": "code",
   "execution_count": null,
   "id": "eb194416-ce01-43fe-b605-61ebc7955962",
   "metadata": {},
   "outputs": [],
   "source": []
  }
 ],
 "metadata": {
  "kernelspec": {
   "display_name": "Python 3 (ipykernel)",
   "language": "python",
   "name": "python3"
  },
  "language_info": {
   "codemirror_mode": {
    "name": "ipython",
    "version": 3
   },
   "file_extension": ".py",
   "mimetype": "text/x-python",
   "name": "python",
   "nbconvert_exporter": "python",
   "pygments_lexer": "ipython3",
   "version": "3.9.2"
  }
 },
 "nbformat": 4,
 "nbformat_minor": 5
}

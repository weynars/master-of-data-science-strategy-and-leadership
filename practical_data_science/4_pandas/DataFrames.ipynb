{
 "cells": [
  {
   "cell_type": "markdown",
   "id": "28d71d84-8ef9-41db-94d8-3dd8cbf4a798",
   "metadata": {},
   "source": [
    "Source: https://www.practicaldatascience.org/html/exercises/Exercise_dataframe.html <br>\n",
    "Cheat Sheet: https://github.com/pandas-dev/pandas/blob/master/doc/cheatsheet/Pandas_Cheat_Sheet.pdf"
   ]
  },
  {
   "cell_type": "markdown",
   "id": "6913a53c-76ed-456b-9d4e-fae9153485fd",
   "metadata": {},
   "source": [
    "In this exercise, we’re going to use data from the American Communities Survey (ACS) to study the relationship betwen educational attainment and wages. The ACS is a survey conducted by the United States Census Bureau (though it is not “The Census,” which is a counting of every person in the United States that takes place every 10 years) to measure numerous features of the US population. The data we will be working with includes about 100 variables from the 2017 ACS survey, and is a 10% sample of the ACS (which itself is a 1% sample of the US population, so we’re working with about a 0.1% sample of the United States).\n",
    "\n",
    "This data comes from IPUMS, which provides a very useful tool for getting subsets of major survey datasets, not just from the US, but from government statistical agencies the world over.\n",
    "\n",
    "This is real data, meaning that you are being provided the data as it is provided by IPUMS. Documentation for all variables used in this data can be found here (you can either search by variable name to figure out the meaning of a variable in this data, or search for something you want to see if a variable with the right name is in this data).\n",
    "\n",
    "Within this data is information on both the educational background and current earnings of a representative sample of Americans. We will now use this data to estimate the labor-market returns to graduating high school and college, and to learn something about the meaning of an educational degree.\n",
    "\n",
    "1) Data for these exercises can be found here. First, download US_ACS_2017_10pct_sample.dta.\n",
    "\n",
    "2) Now import US_ACS_2017_10pct_sample.dta into a pandas DataFrame. This can be done with the command pd.read_stata, which will read in files created in the program Stata (and which uses the file suffix .dta). This is a format commonly used by social scientists."
   ]
  },
  {
   "cell_type": "markdown",
   "id": "8b2ea74d-37d7-4edb-ad93-69e14988601b",
   "metadata": {},
   "source": [
    "\n",
    "# Download data"
   ]
  },
  {
   "cell_type": "code",
   "execution_count": 4,
   "id": "b6ceb2dc-0129-4f56-920e-41ca0c07f7e7",
   "metadata": {},
   "outputs": [
    {
     "name": "stdout",
     "output_type": "stream",
     "text": [
      "  % Total    % Received % Xferd  Average Speed   Time    Time     Time  Current\n",
      "                                 Dload  Upload   Total   Spent    Left  Speed\n",
      "100   191  100   191    0     0     66      0  0:00:02  0:00:02 --:--:--    66\n",
      "100 62.1M  100 62.1M    0     0  1020k      0  0:01:02  0:01:02 --:--:--  999k 6 62.1M    6 3862k    0     0   338k      0  0:03:08  0:00:11  0:02:57  925k.1M    8 5318k    0     0   428k      0  0:02:28  0:00:12  0:02:16 1105k5 62.1M   15 9846k    0     0   599k      0  0:01:46  0:00:16  0:01:30 1194k62.1M   17 10.5M    0     0   621k      0  0:01:42  0:00:17  0:01:25 1102k 62.1M   25 15.8M    0     0   658k      0  0:01:36  0:00:24  0:01:12  717k 23.6M    0     0   771k      0  0:01:22  0:00:31  0:00:51 1300k62.1M   93 58.2M    0     0  1017k      0  0:01:02  0:00:58  0:00:04  947k\n"
     ]
    }
   ],
   "source": [
    "!curl -LJO https://github.com/nickeubank/MIDS_Data/raw/master/US_AmericanCommunitySurvey/US_ACS_2017_10pct_sample.dta"
   ]
  },
  {
   "cell_type": "code",
   "execution_count": 5,
   "id": "5344e76d-5cdb-4528-be2e-dedab7a8ad26",
   "metadata": {},
   "outputs": [
    {
     "name": "stdout",
     "output_type": "stream",
     "text": [
      "DataFrames.ipynb             US_ACS_2017_10pct_sample.dta\n",
      "Series.ipynb\n"
     ]
    }
   ],
   "source": [
    "!ls"
   ]
  },
  {
   "cell_type": "markdown",
   "id": "ef384ac4-b808-433c-83fe-9ee019a4f7db",
   "metadata": {},
   "source": [
    "# Load data to Pandas"
   ]
  },
  {
   "cell_type": "code",
   "execution_count": 12,
   "id": "bfc00d67-aa88-4cae-8b1d-404e601d4dbe",
   "metadata": {},
   "outputs": [
    {
     "data": {
      "text/plain": [
       "(319004, 104)"
      ]
     },
     "execution_count": 12,
     "metadata": {},
     "output_type": "execute_result"
    }
   ],
   "source": [
    "import pandas as pd\n",
    "df = pd.read_stata('US_ACS_2017_10pct_sample.dta')\n",
    "df.shape"
   ]
  },
  {
   "cell_type": "code",
   "execution_count": 11,
   "id": "1bb4da5d-7c27-43f2-a14f-a2ebbc6cfdf4",
   "metadata": {},
   "outputs": [
    {
     "data": {
      "text/html": [
       "<div>\n",
       "<style scoped>\n",
       "    .dataframe tbody tr th:only-of-type {\n",
       "        vertical-align: middle;\n",
       "    }\n",
       "\n",
       "    .dataframe tbody tr th {\n",
       "        vertical-align: top;\n",
       "    }\n",
       "\n",
       "    .dataframe thead th {\n",
       "        text-align: right;\n",
       "    }\n",
       "</style>\n",
       "<table border=\"1\" class=\"dataframe\">\n",
       "  <thead>\n",
       "    <tr style=\"text-align: right;\">\n",
       "      <th></th>\n",
       "      <th>year</th>\n",
       "      <th>datanum</th>\n",
       "      <th>serial</th>\n",
       "      <th>cbserial</th>\n",
       "      <th>numprec</th>\n",
       "      <th>subsamp</th>\n",
       "      <th>hhwt</th>\n",
       "      <th>hhtype</th>\n",
       "      <th>cluster</th>\n",
       "      <th>adjust</th>\n",
       "      <th>...</th>\n",
       "      <th>migcounty1</th>\n",
       "      <th>migmet131</th>\n",
       "      <th>vetdisab</th>\n",
       "      <th>diffrem</th>\n",
       "      <th>diffphys</th>\n",
       "      <th>diffmob</th>\n",
       "      <th>diffcare</th>\n",
       "      <th>diffsens</th>\n",
       "      <th>diffeye</th>\n",
       "      <th>diffhear</th>\n",
       "    </tr>\n",
       "  </thead>\n",
       "  <tbody>\n",
       "    <tr>\n",
       "      <th>0</th>\n",
       "      <td>2017</td>\n",
       "      <td>1</td>\n",
       "      <td>177686</td>\n",
       "      <td>2.017001e+12</td>\n",
       "      <td>9</td>\n",
       "      <td>64</td>\n",
       "      <td>55</td>\n",
       "      <td>female householder, no husband present</td>\n",
       "      <td>2.017002e+12</td>\n",
       "      <td>1.011189</td>\n",
       "      <td>...</td>\n",
       "      <td>0</td>\n",
       "      <td>not in identifiable area</td>\n",
       "      <td>n/a</td>\n",
       "      <td>n/a</td>\n",
       "      <td>n/a</td>\n",
       "      <td>n/a</td>\n",
       "      <td>n/a</td>\n",
       "      <td>no vision or hearing difficulty</td>\n",
       "      <td>no</td>\n",
       "      <td>no</td>\n",
       "    </tr>\n",
       "    <tr>\n",
       "      <th>1</th>\n",
       "      <td>2017</td>\n",
       "      <td>1</td>\n",
       "      <td>1200045</td>\n",
       "      <td>2.017001e+12</td>\n",
       "      <td>6</td>\n",
       "      <td>79</td>\n",
       "      <td>25</td>\n",
       "      <td>male householder, no wife present</td>\n",
       "      <td>2.017012e+12</td>\n",
       "      <td>1.011189</td>\n",
       "      <td>...</td>\n",
       "      <td>0</td>\n",
       "      <td>not in identifiable area</td>\n",
       "      <td>n/a</td>\n",
       "      <td>no cognitive difficulty</td>\n",
       "      <td>no ambulatory difficulty</td>\n",
       "      <td>no independent living difficulty</td>\n",
       "      <td>no</td>\n",
       "      <td>no vision or hearing difficulty</td>\n",
       "      <td>no</td>\n",
       "      <td>no</td>\n",
       "    </tr>\n",
       "    <tr>\n",
       "      <th>2</th>\n",
       "      <td>2017</td>\n",
       "      <td>1</td>\n",
       "      <td>70831</td>\n",
       "      <td>2.017000e+12</td>\n",
       "      <td>1 person record</td>\n",
       "      <td>36</td>\n",
       "      <td>57</td>\n",
       "      <td>male householder, living alone</td>\n",
       "      <td>2.017001e+12</td>\n",
       "      <td>1.011189</td>\n",
       "      <td>...</td>\n",
       "      <td>0</td>\n",
       "      <td>not in identifiable area</td>\n",
       "      <td>n/a</td>\n",
       "      <td>has cognitive difficulty</td>\n",
       "      <td>no ambulatory difficulty</td>\n",
       "      <td>no independent living difficulty</td>\n",
       "      <td>no</td>\n",
       "      <td>no vision or hearing difficulty</td>\n",
       "      <td>no</td>\n",
       "      <td>no</td>\n",
       "    </tr>\n",
       "    <tr>\n",
       "      <th>3</th>\n",
       "      <td>2017</td>\n",
       "      <td>1</td>\n",
       "      <td>557128</td>\n",
       "      <td>2.017001e+12</td>\n",
       "      <td>2</td>\n",
       "      <td>10</td>\n",
       "      <td>98</td>\n",
       "      <td>married-couple family household</td>\n",
       "      <td>2.017006e+12</td>\n",
       "      <td>1.011189</td>\n",
       "      <td>...</td>\n",
       "      <td>0</td>\n",
       "      <td>not in identifiable area</td>\n",
       "      <td>n/a</td>\n",
       "      <td>no cognitive difficulty</td>\n",
       "      <td>no ambulatory difficulty</td>\n",
       "      <td>no independent living difficulty</td>\n",
       "      <td>no</td>\n",
       "      <td>no vision or hearing difficulty</td>\n",
       "      <td>no</td>\n",
       "      <td>no</td>\n",
       "    </tr>\n",
       "    <tr>\n",
       "      <th>4</th>\n",
       "      <td>2017</td>\n",
       "      <td>1</td>\n",
       "      <td>614890</td>\n",
       "      <td>2.017001e+12</td>\n",
       "      <td>4</td>\n",
       "      <td>96</td>\n",
       "      <td>54</td>\n",
       "      <td>married-couple family household</td>\n",
       "      <td>2.017006e+12</td>\n",
       "      <td>1.011189</td>\n",
       "      <td>...</td>\n",
       "      <td>0</td>\n",
       "      <td>not in identifiable area</td>\n",
       "      <td>n/a</td>\n",
       "      <td>n/a</td>\n",
       "      <td>n/a</td>\n",
       "      <td>n/a</td>\n",
       "      <td>n/a</td>\n",
       "      <td>no vision or hearing difficulty</td>\n",
       "      <td>no</td>\n",
       "      <td>no</td>\n",
       "    </tr>\n",
       "  </tbody>\n",
       "</table>\n",
       "<p>5 rows × 104 columns</p>\n",
       "</div>"
      ],
      "text/plain": [
       "   year  datanum   serial      cbserial          numprec subsamp  hhwt  \\\n",
       "0  2017        1   177686  2.017001e+12                9      64    55   \n",
       "1  2017        1  1200045  2.017001e+12                6      79    25   \n",
       "2  2017        1    70831  2.017000e+12  1 person record      36    57   \n",
       "3  2017        1   557128  2.017001e+12                2      10    98   \n",
       "4  2017        1   614890  2.017001e+12                4      96    54   \n",
       "\n",
       "                                   hhtype       cluster    adjust  ...  \\\n",
       "0  female householder, no husband present  2.017002e+12  1.011189  ...   \n",
       "1       male householder, no wife present  2.017012e+12  1.011189  ...   \n",
       "2          male householder, living alone  2.017001e+12  1.011189  ...   \n",
       "3         married-couple family household  2.017006e+12  1.011189  ...   \n",
       "4         married-couple family household  2.017006e+12  1.011189  ...   \n",
       "\n",
       "   migcounty1                 migmet131 vetdisab                   diffrem  \\\n",
       "0           0  not in identifiable area      n/a                       n/a   \n",
       "1           0  not in identifiable area      n/a   no cognitive difficulty   \n",
       "2           0  not in identifiable area      n/a  has cognitive difficulty   \n",
       "3           0  not in identifiable area      n/a   no cognitive difficulty   \n",
       "4           0  not in identifiable area      n/a                       n/a   \n",
       "\n",
       "                   diffphys                           diffmob diffcare  \\\n",
       "0                       n/a                               n/a      n/a   \n",
       "1  no ambulatory difficulty  no independent living difficulty       no   \n",
       "2  no ambulatory difficulty  no independent living difficulty       no   \n",
       "3  no ambulatory difficulty  no independent living difficulty       no   \n",
       "4                       n/a                               n/a      n/a   \n",
       "\n",
       "                          diffsens  diffeye  diffhear  \n",
       "0  no vision or hearing difficulty       no        no  \n",
       "1  no vision or hearing difficulty       no        no  \n",
       "2  no vision or hearing difficulty       no        no  \n",
       "3  no vision or hearing difficulty       no        no  \n",
       "4  no vision or hearing difficulty       no        no  \n",
       "\n",
       "[5 rows x 104 columns]"
      ]
     },
     "execution_count": 11,
     "metadata": {},
     "output_type": "execute_result"
    }
   ],
   "source": [
    "df.head()"
   ]
  },
  {
   "cell_type": "code",
   "execution_count": 13,
   "id": "8cf12af0-9b6c-4636-9803-c1e1a59e70a1",
   "metadata": {
    "collapsed": true,
    "jupyter": {
     "outputs_hidden": true
    },
    "tags": []
   },
   "outputs": [
    {
     "name": "stdout",
     "output_type": "stream",
     "text": [
      "year\n",
      "datanum\n",
      "serial\n",
      "cbserial\n",
      "numprec\n",
      "subsamp\n",
      "hhwt\n",
      "hhtype\n",
      "cluster\n",
      "adjust\n",
      "cpi99\n",
      "region\n",
      "stateicp\n",
      "statefip\n",
      "countyicp\n",
      "countyfip\n",
      "metro\n",
      "city\n",
      "citypop\n",
      "strata\n",
      "gq\n",
      "farm\n",
      "ownershp\n",
      "ownershpd\n",
      "mortgage\n",
      "mortgag2\n",
      "mortamt1\n",
      "mortamt2\n",
      "respmode\n",
      "pernum\n",
      "cbpernum\n",
      "perwt\n",
      "slwt\n",
      "famunit\n",
      "sex\n",
      "age\n",
      "marst\n",
      "birthyr\n",
      "race\n",
      "raced\n",
      "hispan\n",
      "hispand\n",
      "bpl\n",
      "bpld\n",
      "citizen\n",
      "yrnatur\n",
      "yrimmig\n",
      "language\n",
      "languaged\n",
      "speakeng\n",
      "hcovany\n",
      "hcovpriv\n",
      "hinsemp\n",
      "hinspur\n",
      "hinstri\n",
      "hcovpub\n",
      "hinscaid\n",
      "hinscare\n",
      "hinsva\n",
      "hinsihs\n",
      "school\n",
      "educ\n",
      "educd\n",
      "gradeatt\n",
      "gradeattd\n",
      "schltype\n",
      "degfield\n",
      "degfieldd\n",
      "degfield2\n",
      "degfield2d\n",
      "empstat\n",
      "empstatd\n",
      "labforce\n",
      "occ\n",
      "ind\n",
      "classwkr\n",
      "classwkrd\n",
      "looking\n",
      "availble\n",
      "inctot\n",
      "ftotinc\n",
      "incwage\n",
      "incbus00\n",
      "incss\n",
      "incwelfr\n",
      "incinvst\n",
      "incretir\n",
      "incsupp\n",
      "incother\n",
      "incearn\n",
      "poverty\n",
      "migrate1\n",
      "migrate1d\n",
      "migplac1\n",
      "migcounty1\n",
      "migmet131\n",
      "vetdisab\n",
      "diffrem\n",
      "diffphys\n",
      "diffmob\n",
      "diffcare\n",
      "diffsens\n",
      "diffeye\n",
      "diffhear\n"
     ]
    }
   ],
   "source": [
    "for c in df.columns: print(c)"
   ]
  },
  {
   "cell_type": "markdown",
   "id": "6bdb41c8-08b1-474e-85f0-2b93b0a3531b",
   "metadata": {},
   "source": [
    "# Select columns we are interested to look at"
   ]
  },
  {
   "cell_type": "code",
   "execution_count": 17,
   "id": "4090ec69-cae8-4d9d-89aa-28da2ae41554",
   "metadata": {
    "tags": []
   },
   "outputs": [],
   "source": [
    "sub_df = df[['age', 'inctot', 'educ', 'empstat']].copy()"
   ]
  },
  {
   "cell_type": "code",
   "execution_count": 19,
   "id": "4ee232dd-f67f-4afc-b884-a503147ef703",
   "metadata": {},
   "outputs": [
    {
     "data": {
      "text/html": [
       "<div>\n",
       "<style scoped>\n",
       "    .dataframe tbody tr th:only-of-type {\n",
       "        vertical-align: middle;\n",
       "    }\n",
       "\n",
       "    .dataframe tbody tr th {\n",
       "        vertical-align: top;\n",
       "    }\n",
       "\n",
       "    .dataframe thead th {\n",
       "        text-align: right;\n",
       "    }\n",
       "</style>\n",
       "<table border=\"1\" class=\"dataframe\">\n",
       "  <thead>\n",
       "    <tr style=\"text-align: right;\">\n",
       "      <th></th>\n",
       "      <th>age</th>\n",
       "      <th>inctot</th>\n",
       "      <th>educ</th>\n",
       "      <th>empstat</th>\n",
       "    </tr>\n",
       "  </thead>\n",
       "  <tbody>\n",
       "    <tr>\n",
       "      <th>119103</th>\n",
       "      <td>68</td>\n",
       "      <td>37200</td>\n",
       "      <td>4 years of college</td>\n",
       "      <td>employed</td>\n",
       "    </tr>\n",
       "    <tr>\n",
       "      <th>147984</th>\n",
       "      <td>7</td>\n",
       "      <td>9999999</td>\n",
       "      <td>nursery school to grade 4</td>\n",
       "      <td>n/a</td>\n",
       "    </tr>\n",
       "    <tr>\n",
       "      <th>225893</th>\n",
       "      <td>46</td>\n",
       "      <td>52000</td>\n",
       "      <td>5+ years of college</td>\n",
       "      <td>employed</td>\n",
       "    </tr>\n",
       "    <tr>\n",
       "      <th>117260</th>\n",
       "      <td>30</td>\n",
       "      <td>20000</td>\n",
       "      <td>2 years of college</td>\n",
       "      <td>employed</td>\n",
       "    </tr>\n",
       "    <tr>\n",
       "      <th>311339</th>\n",
       "      <td>54</td>\n",
       "      <td>30000</td>\n",
       "      <td>grade 12</td>\n",
       "      <td>employed</td>\n",
       "    </tr>\n",
       "  </tbody>\n",
       "</table>\n",
       "</div>"
      ],
      "text/plain": [
       "       age   inctot                       educ   empstat\n",
       "119103  68    37200         4 years of college  employed\n",
       "147984   7  9999999  nursery school to grade 4       n/a\n",
       "225893  46    52000        5+ years of college  employed\n",
       "117260  30    20000         2 years of college  employed\n",
       "311339  54    30000                   grade 12  employed"
      ]
     },
     "execution_count": 19,
     "metadata": {},
     "output_type": "execute_result"
    }
   ],
   "source": [
    "sub_df.sample(5)"
   ]
  },
  {
   "cell_type": "markdown",
   "id": "ad372f17-e412-4001-ab70-d4a66b93e35e",
   "metadata": {},
   "source": [
    "# Any problems with the data?"
   ]
  },
  {
   "cell_type": "code",
   "execution_count": 21,
   "id": "82d96abb-1da3-4178-86a7-7f5c3823a206",
   "metadata": {},
   "outputs": [
    {
     "data": {
      "text/plain": [
       "age        category\n",
       "inctot        int32\n",
       "educ       category\n",
       "empstat    category\n",
       "dtype: object"
      ]
     },
     "execution_count": 21,
     "metadata": {},
     "output_type": "execute_result"
    }
   ],
   "source": [
    "sub_df.dtypes"
   ]
  },
  {
   "cell_type": "code",
   "execution_count": 20,
   "id": "b7fad3d9-74dc-4d96-8f43-747d9ab8d489",
   "metadata": {},
   "outputs": [
    {
     "data": {
      "text/html": [
       "<div>\n",
       "<style scoped>\n",
       "    .dataframe tbody tr th:only-of-type {\n",
       "        vertical-align: middle;\n",
       "    }\n",
       "\n",
       "    .dataframe tbody tr th {\n",
       "        vertical-align: top;\n",
       "    }\n",
       "\n",
       "    .dataframe thead th {\n",
       "        text-align: right;\n",
       "    }\n",
       "</style>\n",
       "<table border=\"1\" class=\"dataframe\">\n",
       "  <thead>\n",
       "    <tr style=\"text-align: right;\">\n",
       "      <th></th>\n",
       "      <th>inctot</th>\n",
       "    </tr>\n",
       "  </thead>\n",
       "  <tbody>\n",
       "    <tr>\n",
       "      <th>count</th>\n",
       "      <td>3.190040e+05</td>\n",
       "    </tr>\n",
       "    <tr>\n",
       "      <th>mean</th>\n",
       "      <td>1.723646e+06</td>\n",
       "    </tr>\n",
       "    <tr>\n",
       "      <th>std</th>\n",
       "      <td>3.732326e+06</td>\n",
       "    </tr>\n",
       "    <tr>\n",
       "      <th>min</th>\n",
       "      <td>-9.000000e+03</td>\n",
       "    </tr>\n",
       "    <tr>\n",
       "      <th>25%</th>\n",
       "      <td>1.050000e+04</td>\n",
       "    </tr>\n",
       "    <tr>\n",
       "      <th>50%</th>\n",
       "      <td>3.370000e+04</td>\n",
       "    </tr>\n",
       "    <tr>\n",
       "      <th>75%</th>\n",
       "      <td>9.140000e+04</td>\n",
       "    </tr>\n",
       "    <tr>\n",
       "      <th>max</th>\n",
       "      <td>9.999999e+06</td>\n",
       "    </tr>\n",
       "  </tbody>\n",
       "</table>\n",
       "</div>"
      ],
      "text/plain": [
       "             inctot\n",
       "count  3.190040e+05\n",
       "mean   1.723646e+06\n",
       "std    3.732326e+06\n",
       "min   -9.000000e+03\n",
       "25%    1.050000e+04\n",
       "50%    3.370000e+04\n",
       "75%    9.140000e+04\n",
       "max    9.999999e+06"
      ]
     },
     "execution_count": 20,
     "metadata": {},
     "output_type": "execute_result"
    }
   ],
   "source": [
    "sub_df.describe()"
   ]
  },
  {
   "cell_type": "code",
   "execution_count": 33,
   "id": "39de2789-8146-4824-a9e8-f497c0bf022f",
   "metadata": {},
   "outputs": [
    {
     "data": {
      "text/plain": [
       "-9000"
      ]
     },
     "execution_count": 33,
     "metadata": {},
     "output_type": "execute_result"
    }
   ],
   "source": [
    "sub_df['inctot'].min()"
   ]
  },
  {
   "cell_type": "code",
   "execution_count": 34,
   "id": "023b1498-1484-4598-9dc6-8ecf8150fa03",
   "metadata": {},
   "outputs": [
    {
     "data": {
      "text/plain": [
       "9999999"
      ]
     },
     "execution_count": 34,
     "metadata": {},
     "output_type": "execute_result"
    }
   ],
   "source": [
    "sub_df['inctot'].max()"
   ]
  },
  {
   "cell_type": "code",
   "execution_count": 30,
   "id": "9b1d73d0-c3ed-45b9-83ed-2977613ff0ad",
   "metadata": {
    "collapsed": true,
    "jupyter": {
     "outputs_hidden": true
    },
    "tags": []
   },
   "outputs": [
    {
     "data": {
      "text/plain": [
       "['less than 1 year old',\n",
       " '1',\n",
       " '2',\n",
       " '3',\n",
       " '4',\n",
       " '5',\n",
       " '6',\n",
       " '7',\n",
       " '8',\n",
       " '9',\n",
       " '10',\n",
       " '11',\n",
       " '12',\n",
       " '13',\n",
       " '14',\n",
       " '15',\n",
       " '16',\n",
       " '17',\n",
       " '18',\n",
       " '19',\n",
       " '20',\n",
       " '21',\n",
       " '22',\n",
       " '23',\n",
       " '24',\n",
       " '25',\n",
       " '26',\n",
       " '27',\n",
       " '28',\n",
       " '29',\n",
       " '30',\n",
       " '31',\n",
       " '32',\n",
       " '33',\n",
       " '34',\n",
       " '35',\n",
       " '36',\n",
       " '37',\n",
       " '38',\n",
       " '39',\n",
       " '40',\n",
       " '41',\n",
       " '42',\n",
       " '43',\n",
       " '44',\n",
       " '45',\n",
       " '46',\n",
       " '47',\n",
       " '48',\n",
       " '49',\n",
       " '50',\n",
       " '51',\n",
       " '52',\n",
       " '53',\n",
       " '54',\n",
       " '55',\n",
       " '56',\n",
       " '57',\n",
       " '58',\n",
       " '59',\n",
       " '60',\n",
       " '61',\n",
       " '62',\n",
       " '63',\n",
       " '64',\n",
       " '65',\n",
       " '66',\n",
       " '67',\n",
       " '68',\n",
       " '69',\n",
       " '70',\n",
       " '71',\n",
       " '72',\n",
       " '73',\n",
       " '74',\n",
       " '75',\n",
       " '76',\n",
       " '77',\n",
       " '78',\n",
       " '79',\n",
       " '80',\n",
       " '81',\n",
       " '82',\n",
       " '83',\n",
       " '84',\n",
       " '85',\n",
       " '86',\n",
       " '87',\n",
       " '88',\n",
       " '89',\n",
       " '90 (90+ in 1980 and 1990)',\n",
       " '91',\n",
       " '92',\n",
       " '93',\n",
       " '94',\n",
       " '95',\n",
       " '96']"
      ]
     },
     "execution_count": 30,
     "metadata": {},
     "output_type": "execute_result"
    }
   ],
   "source": [
    "list(sub_df['age'].unique().sort_values())"
   ]
  },
  {
   "cell_type": "code",
   "execution_count": 31,
   "id": "192eaae4-a9d3-43d2-93dd-a755ba945aa7",
   "metadata": {},
   "outputs": [
    {
     "data": {
      "text/plain": [
       "['n/a or no schooling',\n",
       " 'nursery school to grade 4',\n",
       " 'grade 5, 6, 7, or 8',\n",
       " 'grade 9',\n",
       " 'grade 10',\n",
       " 'grade 11',\n",
       " 'grade 12',\n",
       " '1 year of college',\n",
       " '2 years of college',\n",
       " '4 years of college',\n",
       " '5+ years of college']"
      ]
     },
     "execution_count": 31,
     "metadata": {},
     "output_type": "execute_result"
    }
   ],
   "source": [
    "list(sub_df['educ'].unique().sort_values())"
   ]
  },
  {
   "cell_type": "code",
   "execution_count": 32,
   "id": "039bdaa3-a04c-4b40-af13-f7bc34fefc91",
   "metadata": {},
   "outputs": [
    {
     "data": {
      "text/plain": [
       "['n/a', 'employed', 'unemployed', 'not in labor force']"
      ]
     },
     "execution_count": 32,
     "metadata": {},
     "output_type": "execute_result"
    }
   ],
   "source": [
    "list(sub_df['empstat'].unique().sort_values())"
   ]
  },
  {
   "cell_type": "code",
   "execution_count": 35,
   "id": "0f561972-cff3-4227-be74-eb0a200ba2f9",
   "metadata": {},
   "outputs": [
    {
     "data": {
      "text/html": [
       "<div>\n",
       "<style scoped>\n",
       "    .dataframe tbody tr th:only-of-type {\n",
       "        vertical-align: middle;\n",
       "    }\n",
       "\n",
       "    .dataframe tbody tr th {\n",
       "        vertical-align: top;\n",
       "    }\n",
       "\n",
       "    .dataframe thead tr th {\n",
       "        text-align: left;\n",
       "    }\n",
       "\n",
       "    .dataframe thead tr:last-of-type th {\n",
       "        text-align: right;\n",
       "    }\n",
       "</style>\n",
       "<table border=\"1\" class=\"dataframe\">\n",
       "  <thead>\n",
       "    <tr>\n",
       "      <th></th>\n",
       "      <th colspan=\"2\" halign=\"left\">inctot</th>\n",
       "    </tr>\n",
       "    <tr>\n",
       "      <th></th>\n",
       "      <th>min</th>\n",
       "      <th>max</th>\n",
       "    </tr>\n",
       "    <tr>\n",
       "      <th>empstat</th>\n",
       "      <th></th>\n",
       "      <th></th>\n",
       "    </tr>\n",
       "  </thead>\n",
       "  <tbody>\n",
       "    <tr>\n",
       "      <th>n/a</th>\n",
       "      <td>-2300</td>\n",
       "      <td>9999999</td>\n",
       "    </tr>\n",
       "    <tr>\n",
       "      <th>employed</th>\n",
       "      <td>-9000</td>\n",
       "      <td>1563000</td>\n",
       "    </tr>\n",
       "    <tr>\n",
       "      <th>unemployed</th>\n",
       "      <td>-7900</td>\n",
       "      <td>566000</td>\n",
       "    </tr>\n",
       "    <tr>\n",
       "      <th>not in labor force</th>\n",
       "      <td>-6900</td>\n",
       "      <td>814000</td>\n",
       "    </tr>\n",
       "  </tbody>\n",
       "</table>\n",
       "</div>"
      ],
      "text/plain": [
       "                   inctot         \n",
       "                      min      max\n",
       "empstat                           \n",
       "n/a                 -2300  9999999\n",
       "employed            -9000  1563000\n",
       "unemployed          -7900   566000\n",
       "not in labor force  -6900   814000"
      ]
     },
     "execution_count": 35,
     "metadata": {},
     "output_type": "execute_result"
    }
   ],
   "source": [
    "agg = {'inctot': [min, max]}\n",
    "sub_df.groupby(['empstat']).agg(agg)"
   ]
  },
  {
   "cell_type": "markdown",
   "id": "9c468aec-eb90-4a12-9577-94135c1a92aa",
   "metadata": {},
   "source": [
    "Issues:\n",
    "- Negative income\n",
    "- Max income is 9999999, looks to be NA\n",
    "- Age is represented as categorical, not numerical\n",
    "- People where empstat is different then employed still have an income value populated"
   ]
  },
  {
   "cell_type": "markdown",
   "id": "2e06b39e-4633-4742-914f-bf798607edb7",
   "metadata": {},
   "source": [
    "# Clear data"
   ]
  },
  {
   "cell_type": "code",
   "execution_count": 72,
   "id": "59456ad5-6ba1-4146-8104-ba6d1cddfd4c",
   "metadata": {},
   "outputs": [],
   "source": [
    "# Let's look only for employed people\n",
    "cond1 = sub_df['empstat'] == 'employed'\n",
    "# Let's remove people with negative income\n",
    "cond2 = sub_df['inctot'] >= 0\n",
    "\n",
    "filtered_df = sub_df[cond1&cond2].copy()"
   ]
  },
  {
   "cell_type": "markdown",
   "id": "a5246426-8d59-4a55-9f55-10fe670fa6ad",
   "metadata": {},
   "source": [
    "# Check the data"
   ]
  },
  {
   "cell_type": "markdown",
   "id": "2cd0fd08-2bd3-4749-a181-31c9d140b57a",
   "metadata": {},
   "source": [
    "## Count of categorical variables"
   ]
  },
  {
   "cell_type": "code",
   "execution_count": 46,
   "id": "93b86993-d60b-4ec8-afa1-40ad3cee8035",
   "metadata": {},
   "outputs": [
    {
     "data": {
      "text/plain": [
       "54                      3589\n",
       "53                      3442\n",
       "56                      3418\n",
       "55                      3412\n",
       "47                      3374\n",
       "                        ... \n",
       "5                          0\n",
       "4                          0\n",
       "3                          0\n",
       "2                          0\n",
       "less than 1 year old       0\n",
       "Name: age, Length: 97, dtype: int64"
      ]
     },
     "execution_count": 46,
     "metadata": {},
     "output_type": "execute_result"
    }
   ],
   "source": [
    "filtered_df['age'].value_counts()"
   ]
  },
  {
   "cell_type": "code",
   "execution_count": 45,
   "id": "fa4bdaa7-f670-4873-8e75-bf817679c46c",
   "metadata": {},
   "outputs": [
    {
     "data": {
      "text/plain": [
       "grade 12                     47778\n",
       "4 years of college           33159\n",
       "1 year of college            22877\n",
       "5+ years of college          20985\n",
       "2 years of college           14066\n",
       "grade 11                      2744\n",
       "grade 5, 6, 7, or 8           2091\n",
       "grade 10                      1904\n",
       "n/a or no schooling           1290\n",
       "grade 9                       1290\n",
       "nursery school to grade 4      468\n",
       "Name: educ, dtype: int64"
      ]
     },
     "execution_count": 45,
     "metadata": {},
     "output_type": "execute_result"
    }
   ],
   "source": [
    "filtered_df['educ'].value_counts()"
   ]
  },
  {
   "cell_type": "markdown",
   "id": "cb4dbe45-1e90-4e43-aae4-eeed6b135fac",
   "metadata": {},
   "source": [
    "## What is the average value of inctot for people whose highest grade level is “grade 12” (in the US, that is someone who has graduated high school)?"
   ]
  },
  {
   "cell_type": "code",
   "execution_count": 57,
   "id": "d2cd6ce6-6b7a-4401-85af-2ebd4b83907c",
   "metadata": {},
   "outputs": [
    {
     "data": {
      "text/plain": [
       "educ\n",
       "False    71216.312668\n",
       "True     36827.339460\n",
       "Name: inctot, dtype: float64"
      ]
     },
     "execution_count": 57,
     "metadata": {},
     "output_type": "execute_result"
    }
   ],
   "source": [
    "cond1 = filtered_df['educ'] <= 'grade 12'\n",
    "filtered_df.groupby([cond1]).mean()['inctot']"
   ]
  },
  {
   "cell_type": "markdown",
   "id": "439eab5e-1ea2-4ede-bf12-8e8abd0cfacc",
   "metadata": {},
   "source": [
    "## What is the average income of someone who graduated college (“4 years of college”)? What does that suggest is the value of getting a college degree after graduating high school?"
   ]
  },
  {
   "cell_type": "code",
   "execution_count": 53,
   "id": "7fbbd74a-d244-48c4-bc62-e00ad43bd30c",
   "metadata": {},
   "outputs": [
    {
     "data": {
      "text/plain": [
       "educ\n",
       "False    40132.887756\n",
       "True     88910.444592\n",
       "Name: inctot, dtype: float64"
      ]
     },
     "execution_count": 53,
     "metadata": {},
     "output_type": "execute_result"
    }
   ],
   "source": [
    "cond1 = filtered_df['educ'] >= '4 years of college'\n",
    "filtered_df.groupby([cond1]).mean()['inctot']"
   ]
  },
  {
   "cell_type": "code",
   "execution_count": 55,
   "id": "2295a067-651e-4214-b40c-87650a000aff",
   "metadata": {},
   "outputs": [
    {
     "data": {
      "text/plain": [
       "2.414251094314593"
      ]
     },
     "execution_count": 55,
     "metadata": {},
     "output_type": "execute_result"
    }
   ],
   "source": [
    "88910.444592/36827.339460"
   ]
  },
  {
   "cell_type": "markdown",
   "id": "8bf7d2da-7ea4-4b49-b7ef-963317e75173",
   "metadata": {},
   "source": [
    "**~2.4 times the salary of someone who has up to Grade 12 level of education**"
   ]
  },
  {
   "cell_type": "markdown",
   "id": "bcdab6f9-2dc1-4552-9040-a360b2444983",
   "metadata": {},
   "source": [
    "## What is the average income for someone who has not finished high school? What does that suggest is the value of a high school diploma?"
   ]
  },
  {
   "cell_type": "code",
   "execution_count": 54,
   "id": "3359395a-464d-4f35-9d68-c7903123376c",
   "metadata": {},
   "outputs": [
    {
     "data": {
      "text/plain": [
       "educ\n",
       "False    60129.100486\n",
       "True     26261.216818\n",
       "Name: inctot, dtype: float64"
      ]
     },
     "execution_count": 54,
     "metadata": {},
     "output_type": "execute_result"
    }
   ],
   "source": [
    "cond1 = filtered_df['educ'] < 'grade 12'\n",
    "filtered_df.groupby([cond1]).mean()['inctot']"
   ]
  },
  {
   "cell_type": "code",
   "execution_count": 58,
   "id": "4313b881-ef98-427e-97a3-330c36da86a8",
   "metadata": {},
   "outputs": [
    {
     "data": {
      "text/plain": [
       "1.4023470319455174"
      ]
     },
     "execution_count": 58,
     "metadata": {},
     "output_type": "execute_result"
    }
   ],
   "source": [
    "36827.339460/26261.216818"
   ]
  },
  {
   "cell_type": "markdown",
   "id": "328d0195-7f96-47dc-bfb0-02a8a3c57f4d",
   "metadata": {},
   "source": [
    "**40% higher than someone who has up to Grade 12 level of education**"
   ]
  },
  {
   "cell_type": "markdown",
   "id": "784a3a4e-442f-4ef3-87c2-cd8d86727ab1",
   "metadata": {},
   "source": [
    "## Complete the following table:\n",
    "\n",
    "Average income for someone who has not finished high school: _________\n",
    "\n",
    "Average income for someone who only completed 9th grade: _________\n",
    "\n",
    "Average income for someone who only completed 10th grade: _________\n",
    "\n",
    "Average income for someone who only completed 11th grade: _________\n",
    "\n",
    "Average income for someone who finished high school (12th grade) but never started college: _________\n",
    "\n",
    "Average income for someone who completed 4 year of college (in the US, this means graduating college): _________"
   ]
  },
  {
   "cell_type": "code",
   "execution_count": 59,
   "id": "bf4acceb-b214-493f-bd23-3f2e6c0ac17a",
   "metadata": {},
   "outputs": [
    {
     "data": {
      "text/plain": [
       "26261.216818228262"
      ]
     },
     "execution_count": 59,
     "metadata": {},
     "output_type": "execute_result"
    }
   ],
   "source": [
    "cond1 = filtered_df['educ'] < 'grade 12'\n",
    "filtered_df[cond1]['inctot'].mean()"
   ]
  },
  {
   "cell_type": "code",
   "execution_count": 60,
   "id": "e545272f-0afe-4355-ab06-0993c08a4418",
   "metadata": {},
   "outputs": [
    {
     "data": {
      "text/plain": [
       "27171.907751937986"
      ]
     },
     "execution_count": 60,
     "metadata": {},
     "output_type": "execute_result"
    }
   ],
   "source": [
    "cond1 = filtered_df['educ'] == 'grade 9'\n",
    "filtered_df[cond1]['inctot'].mean()"
   ]
  },
  {
   "cell_type": "code",
   "execution_count": 61,
   "id": "d7a4d888-a287-4aa4-b260-209a4477c696",
   "metadata": {},
   "outputs": [
    {
     "data": {
      "text/plain": [
       "23105.201680672268"
      ]
     },
     "execution_count": 61,
     "metadata": {},
     "output_type": "execute_result"
    }
   ],
   "source": [
    "cond1 = filtered_df['educ'] == 'grade 10'\n",
    "filtered_df[cond1]['inctot'].mean()"
   ]
  },
  {
   "cell_type": "code",
   "execution_count": 62,
   "id": "f462c448-94d7-4bf7-a79d-44024d6dcacc",
   "metadata": {},
   "outputs": [
    {
     "data": {
      "text/plain": [
       "21570.194606413996"
      ]
     },
     "execution_count": 62,
     "metadata": {},
     "output_type": "execute_result"
    }
   ],
   "source": [
    "cond1 = filtered_df['educ'] == 'grade 11'\n",
    "filtered_df[cond1]['inctot'].mean()"
   ]
  },
  {
   "cell_type": "code",
   "execution_count": 63,
   "id": "c51e8c2b-71fe-46bf-8412-733ffbc221ab",
   "metadata": {},
   "outputs": [
    {
     "data": {
      "text/plain": [
       "38991.73818493867"
      ]
     },
     "execution_count": 63,
     "metadata": {},
     "output_type": "execute_result"
    }
   ],
   "source": [
    "cond1 = filtered_df['educ'] == 'grade 12'\n",
    "filtered_df[cond1]['inctot'].mean()"
   ]
  },
  {
   "cell_type": "code",
   "execution_count": 64,
   "id": "d97455d5-1211-4b5d-ac34-5d997f4cc908",
   "metadata": {},
   "outputs": [
    {
     "data": {
      "text/plain": [
       "88910.44459219858"
      ]
     },
     "execution_count": 64,
     "metadata": {},
     "output_type": "execute_result"
    }
   ],
   "source": [
    "cond1 = filtered_df['educ'] >= '4 years of college'\n",
    "filtered_df[cond1]['inctot'].mean()"
   ]
  },
  {
   "cell_type": "markdown",
   "id": "a7c38560-9c6d-437a-8f47-6a2c341a7cff",
   "metadata": {},
   "source": [
    "## Why do you think there is no benefit from moving from grade 9 to grade 10, or grade 10 to grade 11, but there is a huge benefit to moving from grade 11 to graduating high school (grade 12)?"
   ]
  },
  {
   "cell_type": "code",
   "execution_count": 83,
   "id": "011d2f14-0174-4bba-8370-fb59710ca3c2",
   "metadata": {},
   "outputs": [],
   "source": [
    "filtered_df['f_age'] = filtered_df['age'].cat.codes.astype('float', errors='ignore')"
   ]
  },
  {
   "cell_type": "code",
   "execution_count": 87,
   "id": "27d8e64d-3dd1-4a83-8b11-0dd062b27ad6",
   "metadata": {},
   "outputs": [
    {
     "data": {
      "text/html": [
       "<div>\n",
       "<style scoped>\n",
       "    .dataframe tbody tr th:only-of-type {\n",
       "        vertical-align: middle;\n",
       "    }\n",
       "\n",
       "    .dataframe tbody tr th {\n",
       "        vertical-align: top;\n",
       "    }\n",
       "\n",
       "    .dataframe thead th {\n",
       "        text-align: right;\n",
       "    }\n",
       "</style>\n",
       "<table border=\"1\" class=\"dataframe\">\n",
       "  <thead>\n",
       "    <tr style=\"text-align: right;\">\n",
       "      <th></th>\n",
       "      <th>inctot</th>\n",
       "      <th>f_age</th>\n",
       "    </tr>\n",
       "    <tr>\n",
       "      <th>educ</th>\n",
       "      <th></th>\n",
       "      <th></th>\n",
       "    </tr>\n",
       "  </thead>\n",
       "  <tbody>\n",
       "    <tr>\n",
       "      <th>n/a or no schooling</th>\n",
       "      <td>32306.627907</td>\n",
       "      <td>47.454264</td>\n",
       "    </tr>\n",
       "    <tr>\n",
       "      <th>nursery school to grade 4</th>\n",
       "      <td>27592.649573</td>\n",
       "      <td>48.852564</td>\n",
       "    </tr>\n",
       "    <tr>\n",
       "      <th>grade 5, 6, 7, or 8</th>\n",
       "      <td>30701.549498</td>\n",
       "      <td>46.530846</td>\n",
       "    </tr>\n",
       "    <tr>\n",
       "      <th>grade 9</th>\n",
       "      <td>27171.907752</td>\n",
       "      <td>41.777519</td>\n",
       "    </tr>\n",
       "    <tr>\n",
       "      <th>grade 10</th>\n",
       "      <td>23105.201681</td>\n",
       "      <td>36.514181</td>\n",
       "    </tr>\n",
       "    <tr>\n",
       "      <th>grade 11</th>\n",
       "      <td>21570.194606</td>\n",
       "      <td>33.462828</td>\n",
       "    </tr>\n",
       "    <tr>\n",
       "      <th>grade 12</th>\n",
       "      <td>38991.738185</td>\n",
       "      <td>43.871070</td>\n",
       "    </tr>\n",
       "    <tr>\n",
       "      <th>1 year of college</th>\n",
       "      <td>43169.370022</td>\n",
       "      <td>40.866460</td>\n",
       "    </tr>\n",
       "    <tr>\n",
       "      <th>2 years of college</th>\n",
       "      <td>48722.272288</td>\n",
       "      <td>44.148016</td>\n",
       "    </tr>\n",
       "    <tr>\n",
       "      <th>4 years of college</th>\n",
       "      <td>75520.718960</td>\n",
       "      <td>43.222383</td>\n",
       "    </tr>\n",
       "    <tr>\n",
       "      <th>5+ years of college</th>\n",
       "      <td>110067.933858</td>\n",
       "      <td>46.956016</td>\n",
       "    </tr>\n",
       "  </tbody>\n",
       "</table>\n",
       "</div>"
      ],
      "text/plain": [
       "                                  inctot      f_age\n",
       "educ                                               \n",
       "n/a or no schooling         32306.627907  47.454264\n",
       "nursery school to grade 4   27592.649573  48.852564\n",
       "grade 5, 6, 7, or 8         30701.549498  46.530846\n",
       "grade 9                     27171.907752  41.777519\n",
       "grade 10                    23105.201681  36.514181\n",
       "grade 11                    21570.194606  33.462828\n",
       "grade 12                    38991.738185  43.871070\n",
       "1 year of college           43169.370022  40.866460\n",
       "2 years of college          48722.272288  44.148016\n",
       "4 years of college          75520.718960  43.222383\n",
       "5+ years of college        110067.933858  46.956016"
      ]
     },
     "execution_count": 87,
     "metadata": {},
     "output_type": "execute_result"
    }
   ],
   "source": [
    "filtered_df.groupby('educ').mean()"
   ]
  },
  {
   "cell_type": "markdown",
   "id": "76842dd6-6403-4200-9fa2-c9cf1485d385",
   "metadata": {},
   "source": [
    "**It looks like moving from grade 9 to 10, 11 or 12 have little impact on income, in this case the age or years of experience is a better predictor of income.**"
   ]
  },
  {
   "cell_type": "code",
   "execution_count": null,
   "id": "ed4e12f8-1cfb-4749-9f75-0c4fa1f58245",
   "metadata": {},
   "outputs": [],
   "source": []
  }
 ],
 "metadata": {
  "kernelspec": {
   "display_name": "Python 3 (ipykernel)",
   "language": "python",
   "name": "python3"
  },
  "language_info": {
   "codemirror_mode": {
    "name": "ipython",
    "version": 3
   },
   "file_extension": ".py",
   "mimetype": "text/x-python",
   "name": "python",
   "nbconvert_exporter": "python",
   "pygments_lexer": "ipython3",
   "version": "3.9.2"
  }
 },
 "nbformat": 4,
 "nbformat_minor": 5
}

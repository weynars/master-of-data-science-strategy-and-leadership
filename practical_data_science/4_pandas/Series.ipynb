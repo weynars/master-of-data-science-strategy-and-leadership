{
 "cells": [
  {
   "cell_type": "markdown",
   "id": "4b4637bc-9078-4afa-98cf-9084bfe3caa8",
   "metadata": {},
   "source": [
    "# Exercise 1\n",
    "Use the code below to get started:"
   ]
  },
  {
   "cell_type": "code",
   "execution_count": 1,
   "id": "4c3a3e0c-be61-4592-89ae-6df4a33c733e",
   "metadata": {},
   "outputs": [],
   "source": [
    "import pandas as pd\n",
    "gdppercap = pd.Series([34605, 34493, 12393, 44200, 10041,\n",
    "                       58138, 4709, 49284, 10109, 42536],\n",
    "                      index=['Bahrain', 'Belgium', 'Bulgaria',\n",
    "                             'Ireland', 'Macedonia', 'Norway',\n",
    "                             'Paraguay', 'Singapore',\n",
    "                             'South Africa', 'Switzerland']\n",
    "                      )"
   ]
  },
  {
   "cell_type": "markdown",
   "id": "16755e1e-4d41-4055-91fd-fc812c986f4b",
   "metadata": {},
   "source": [
    "# Exercise 2\n",
    "Find the mean, median, minimum and maximum values of GDP per capita in this data."
   ]
  },
  {
   "cell_type": "code",
   "execution_count": 3,
   "id": "9e7a173a-d9d4-4485-846c-f01e46cd6964",
   "metadata": {},
   "outputs": [
    {
     "data": {
      "text/plain": [
       "count       10.000000\n",
       "mean     30050.800000\n",
       "std      19170.095217\n",
       "min       4709.000000\n",
       "25%      10680.000000\n",
       "50%      34549.000000\n",
       "75%      43784.000000\n",
       "max      58138.000000\n",
       "dtype: float64"
      ]
     },
     "execution_count": 3,
     "metadata": {},
     "output_type": "execute_result"
    }
   ],
   "source": [
    "gdppercap.describe()"
   ]
  },
  {
   "cell_type": "code",
   "execution_count": 7,
   "id": "0e307938-29b8-40d2-a5db-dacb4d595c48",
   "metadata": {},
   "outputs": [
    {
     "data": {
      "text/plain": [
       "34549.0"
      ]
     },
     "execution_count": 7,
     "metadata": {},
     "output_type": "execute_result"
    }
   ],
   "source": [
    "gdppercap.median()"
   ]
  },
  {
   "cell_type": "code",
   "execution_count": 15,
   "id": "c60327f6-607d-4e99-9a97-55a9e10ea883",
   "metadata": {},
   "outputs": [
    {
     "data": {
      "text/plain": [
       "34549.0"
      ]
     },
     "execution_count": 15,
     "metadata": {},
     "output_type": "execute_result"
    }
   ],
   "source": [
    "# (another option to get the median)\n",
    "import numpy as np\n",
    "np.percentile(gdppercap, 50)"
   ]
  },
  {
   "cell_type": "markdown",
   "id": "07af9367-40bb-4c23-bba0-c42021a60240",
   "metadata": {},
   "source": [
    "# Exercise 3\n",
    "Programmatically, determine which country in our data has the highest income per capita, and which has the lowest income per capita. <br>\n",
    "Hint: Country names form the index for this Series, so to get country names you’ll need to access the index."
   ]
  },
  {
   "cell_type": "code",
   "execution_count": 22,
   "id": "da49717b-8756-49b5-aa0c-0299b26da79d",
   "metadata": {},
   "outputs": [
    {
     "data": {
      "text/plain": [
       "Paraguay         4709\n",
       "Macedonia       10041\n",
       "South Africa    10109\n",
       "Bulgaria        12393\n",
       "Belgium         34493\n",
       "Bahrain         34605\n",
       "Switzerland     42536\n",
       "Ireland         44200\n",
       "Singapore       49284\n",
       "Norway          58138\n",
       "dtype: int64"
      ]
     },
     "execution_count": 22,
     "metadata": {},
     "output_type": "execute_result"
    }
   ],
   "source": [
    "gdppercap.sort_values()"
   ]
  },
  {
   "cell_type": "code",
   "execution_count": 20,
   "id": "f3733c0a-5a7e-4504-8b90-f3e54b91f3bc",
   "metadata": {},
   "outputs": [
    {
     "data": {
      "text/plain": [
       "Paraguay    4709\n",
       "dtype: int64"
      ]
     },
     "execution_count": 20,
     "metadata": {},
     "output_type": "execute_result"
    }
   ],
   "source": [
    "# Lowest GDP\n",
    "gdppercap.sort_values().iloc[:1]"
   ]
  },
  {
   "cell_type": "code",
   "execution_count": 21,
   "id": "13b8ab29-4372-47ff-80f0-ecc1f94f25a5",
   "metadata": {},
   "outputs": [
    {
     "data": {
      "text/plain": [
       "Norway    58138\n",
       "dtype: int64"
      ]
     },
     "execution_count": 21,
     "metadata": {},
     "output_type": "execute_result"
    }
   ],
   "source": [
    "# Highest DGP\n",
    "gdppercap.sort_values().iloc[-1:]"
   ]
  },
  {
   "cell_type": "markdown",
   "id": "4899e4bf-e7b1-4c9b-a4bd-c3c3d3cba1e8",
   "metadata": {},
   "source": [
    "# Exercise 4\n",
    "Get Python to print out the names of all the countries that have GDP per capitas less than $20,000."
   ]
  },
  {
   "cell_type": "code",
   "execution_count": 25,
   "id": "dddb6033-8548-44f8-a044-55ce20347d01",
   "metadata": {},
   "outputs": [
    {
     "data": {
      "text/plain": [
       "Paraguay         4709\n",
       "Macedonia       10041\n",
       "South Africa    10109\n",
       "Bulgaria        12393\n",
       "dtype: int64"
      ]
     },
     "execution_count": 25,
     "metadata": {},
     "output_type": "execute_result"
    }
   ],
   "source": [
    "cond = gdppercap < 20000\n",
    "gdppercap[cond].sort_values()"
   ]
  },
  {
   "cell_type": "markdown",
   "id": "4d52be8b-7f64-4271-aa5d-6e3bef3d3f91",
   "metadata": {},
   "source": [
    "# Exercise 5\n",
    "Get Python to print out the GDP per capita of Switzerland"
   ]
  },
  {
   "cell_type": "code",
   "execution_count": 26,
   "id": "4a598ca4-1879-422e-aa83-2fc58f027554",
   "metadata": {},
   "outputs": [
    {
     "data": {
      "text/plain": [
       "42536"
      ]
     },
     "execution_count": 26,
     "metadata": {},
     "output_type": "execute_result"
    }
   ],
   "source": [
    "gdppercap['Switzerland']"
   ]
  },
  {
   "cell_type": "markdown",
   "id": "e62c39e7-9864-4b0e-aea7-5affc3c52a1e",
   "metadata": {},
   "source": [
    "# Exercise 6"
   ]
  },
  {
   "cell_type": "markdown",
   "id": "f7c9c1cc-29b5-4f79-b15d-95fd7936dbd9",
   "metadata": {},
   "source": [
    "Calculate the Gini coefficient for our income data. (Formula provided in the exercise page)\n",
    "\n",
    "**HINT 1**: Be careful with 0-indexing! Python counts from 0, but mathematical formulas count from 1!\n",
    "\n",
    "**HINT 2**: I’m gonna make you calculate Gini coefficients again later, so maybe you should write a function to do this and make life easier later?"
   ]
  },
  {
   "attachments": {
    "e06ebada-d2d7-4e0c-9eee-98fa6d030735.png": {
     "image/png": "[encoded data removed]"
    }
   },
   "cell_type": "markdown",
   "id": "0162d644-d113-43ce-9380-90b78b5bc0a4",
   "metadata": {},
   "source": [
    "![image.png](attachment:e06ebada-d2d7-4e0c-9eee-98fa6d030735.png)"
   ]
  },
  {
   "cell_type": "code",
   "execution_count": 45,
   "id": "ea3e3841-7826-463e-94d4-a843339d0baf",
   "metadata": {},
   "outputs": [],
   "source": [
    "def calculate_gini(input_series):\n",
    "    input_copy = input_series.copy()\n",
    "    # Prepare the data\n",
    "    input_df = input_copy.sort_values().reset_index().reset_index()\n",
    "    n = len(input_copy)\n",
    "    input_df.columns = ['i','country','y']\n",
    "    input_df['i'] += 1\n",
    "    # Calculate Gini\n",
    "    parte1_num = 2*np.sum(input_df['i']*input_df['y'])\n",
    "    parte1_den = n*np.sum(input_df['y'])\n",
    "    part2 = (n+1)/n\n",
    "    gini = parte1_num/parte1_den - part2\n",
    "    \n",
    "    return gini"
   ]
  },
  {
   "cell_type": "code",
   "execution_count": 46,
   "id": "33daa937-6b77-48f9-a399-cda286661354",
   "metadata": {},
   "outputs": [
    {
     "data": {
      "text/plain": [
       "0.3382798461272245"
      ]
     },
     "execution_count": 46,
     "metadata": {},
     "output_type": "execute_result"
    }
   ],
   "source": [
    "gini = calculate_gini(gdppercap)\n",
    "gini"
   ]
  },
  {
   "cell_type": "markdown",
   "id": "e6a3fb54-f112-4d5b-80dc-7b6c310262e6",
   "metadata": {},
   "source": [
    "# Exercise 7\n",
    "Using this data on average growth rates in GDP per capita, and assuming growth rates from 2000 to 2018 continue into the future, estimate what our Gini Coefficient may look like in 2025 (remembering that income in our data is from 2008, so we’re extrapolating ahead 17 years)?"
   ]
  },
  {
   "cell_type": "code",
   "execution_count": 47,
   "id": "1808afaf-d7fc-47f5-b924-c3efccc940e9",
   "metadata": {},
   "outputs": [],
   "source": [
    "avg_growth = pd.Series([-0.29768835, 0.980299584, 4.52991925,\n",
    "                        3.686556736, 2.621416804, 0.775132075,\n",
    "                        2.015489468, 3.345793635, 1.349993318,\n",
    "                        0.982775018],\n",
    "                        index=['Bahrain', 'Belgium', 'Bulgaria',\n",
    "                               'Ireland', 'Macedonia', 'Norway',\n",
    "                               'Paraguay', 'Singapore',\n",
    "                               'South Africa', 'Switzerland']\n",
    "                      )"
   ]
  },
  {
   "attachments": {
    "b8836b5b-f7b9-4776-8d2a-38a002db53d7.png": {
     "image/png": "[encoded data removed]"
    }
   },
   "cell_type": "markdown",
   "id": "969656f4-35ff-4ef0-af43-56d9c1164253",
   "metadata": {},
   "source": [
    "![image.png](attachment:b8836b5b-f7b9-4776-8d2a-38a002db53d7.png)"
   ]
  },
  {
   "cell_type": "code",
   "execution_count": 55,
   "id": "efc44322-85a8-46f4-87c6-0b5511837f3c",
   "metadata": {},
   "outputs": [],
   "source": [
    "future_gdppercap = gdppercap * (1 + avg_growth/100)**17"
   ]
  },
  {
   "cell_type": "code",
   "execution_count": 56,
   "id": "d6d3459f-3a6a-4109-b705-aac2cd8a5c5b",
   "metadata": {},
   "outputs": [
    {
     "data": {
      "text/plain": [
       "Bahrain         32894.836013\n",
       "Belgium         40714.968220\n",
       "Bulgaria        26318.849643\n",
       "Ireland         81790.706907\n",
       "Macedonia       15589.172902\n",
       "Norway          66292.970514\n",
       "Paraguay         6610.779784\n",
       "Singapore       86235.012247\n",
       "South Africa    12697.303814\n",
       "Switzerland     50229.720787\n",
       "dtype: float64"
      ]
     },
     "execution_count": 56,
     "metadata": {},
     "output_type": "execute_result"
    }
   ],
   "source": [
    "future_gdppercap"
   ]
  },
  {
   "cell_type": "code",
   "execution_count": 57,
   "id": "5c96395b-0e15-4492-a89e-7991b3cdfba3",
   "metadata": {},
   "outputs": [
    {
     "data": {
      "text/plain": [
       "0.3656264991306193"
      ]
     },
     "execution_count": 57,
     "metadata": {},
     "output_type": "execute_result"
    }
   ],
   "source": [
    "future_gini = calculate_gini(future_gdppercap)\n",
    "future_gini"
   ]
  },
  {
   "cell_type": "code",
   "execution_count": 61,
   "id": "d3c4e2a2-c0b3-4535-9a2b-78772c76e75f",
   "metadata": {},
   "outputs": [
    {
     "data": {
      "text/plain": [
       "<AxesSubplot:>"
      ]
     },
     "execution_count": 61,
     "metadata": {},
     "output_type": "execute_result"
    },
    {
     "data": {
      "image/png": "[encoded data removed]",
      "text/plain": [
       "<Figure size 432x288 with 1 Axes>"
      ]
     },
     "metadata": {
      "needs_background": "light"
     },
     "output_type": "display_data"
    }
   ],
   "source": [
    "# EXTRA: Using the same growth numbers how would the next 50 years look like?\n",
    "gini_values = []\n",
    "for i in range(50):\n",
    "    gini_values.append(calculate_gini(gdppercap * (1 + avg_growth/100)**i))\n",
    "\n",
    "pd.Series(gini_values).plot()"
   ]
  },
  {
   "cell_type": "markdown",
   "id": "25ecefec-179b-4456-813b-8c29e0584510",
   "metadata": {},
   "source": [
    "# Exercise 8\n",
    "Interpret your result – does it seem to imply that we are seeing covergence or not?"
   ]
  },
  {
   "cell_type": "markdown",
   "id": "bef839b1-f633-464e-b7ba-a6ed98b6d439",
   "metadata": {},
   "source": [
    "A: Yes, the Gini score looks to be improving"
   ]
  },
  {
   "cell_type": "code",
   "execution_count": null,
   "id": "609b0b99-b6c9-48a3-ace5-5692ccd7999b",
   "metadata": {},
   "outputs": [],
   "source": []
  }
 ],
 "metadata": {
  "kernelspec": {
   "display_name": "Python 3 (ipykernel)",
   "language": "python",
   "name": "python3"
  },
  "language_info": {
   "codemirror_mode": {
    "name": "ipython",
    "version": 3
   },
   "file_extension": ".py",
   "mimetype": "text/x-python",
   "name": "python",
   "nbconvert_exporter": "python",
   "pygments_lexer": "ipython3",
   "version": "3.9.2"
  }
 },
 "nbformat": 4,
 "nbformat_minor": 5
}

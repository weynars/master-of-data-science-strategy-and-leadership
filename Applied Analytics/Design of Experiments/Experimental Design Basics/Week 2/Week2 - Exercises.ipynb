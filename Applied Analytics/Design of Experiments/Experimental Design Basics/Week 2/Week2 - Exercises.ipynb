{
 "cells": [
  {
   "cell_type": "code",
   "execution_count": 2,
   "id": "630db259",
   "metadata": {},
   "outputs": [],
   "source": [
    "import numpy as np\n",
    "from scipy import stats"
   ]
  },
  {
   "cell_type": "markdown",
   "id": "693f82ef",
   "metadata": {},
   "source": [
    "# Concept Questions"
   ]
  },
  {
   "cell_type": "markdown",
   "id": "3195950f",
   "metadata": {},
   "source": [
    "## Question 1"
   ]
  },
  {
   "cell_type": "code",
   "execution_count": 6,
   "id": "1f75f3bb",
   "metadata": {},
   "outputs": [
    {
     "data": {
      "text/plain": [
       "-1.255555340864671"
      ]
     },
     "execution_count": 6,
     "metadata": {},
     "output_type": "execute_result"
    }
   ],
   "source": [
    "n = 10\n",
    "m1 = 10.5\n",
    "s1 = 2\n",
    "m2 = 12.4\n",
    "s2 = 1.6\n",
    "pooled_var = ((n-1)*m1 + (n-1)*m2) / (n+n-2)\n",
    "pooled_std = np.sqrt(pooled_var)\n",
    "t = (m1-m2)/(pooled_std*np.sqrt(1/n+1/n))\n",
    "t"
   ]
  },
  {
   "cell_type": "code",
   "execution_count": 7,
   "id": "15a67210",
   "metadata": {},
   "outputs": [],
   "source": [
    "df = 2*n-2\n",
    "t_dist = stats.t(df)"
   ]
  },
  {
   "cell_type": "code",
   "execution_count": 8,
   "id": "d02e2060",
   "metadata": {},
   "outputs": [
    {
     "data": {
      "text/plain": [
       "0.2253320562448215"
      ]
     },
     "execution_count": 8,
     "metadata": {},
     "output_type": "execute_result"
    }
   ],
   "source": [
    "2*t_dist.cdf(t)"
   ]
  },
  {
   "cell_type": "markdown",
   "id": "846f17cc",
   "metadata": {},
   "source": [
    "## Question 2\n",
    "False, since p_value is smalled than 0.05 the 95% confidence interval shouldn't include the value zero."
   ]
  },
  {
   "cell_type": "markdown",
   "id": "2dffaa96",
   "metadata": {},
   "source": [
    "## Question 3\n",
    "False, the constant variance is more important than the normality assumption"
   ]
  },
  {
   "cell_type": "markdown",
   "id": "4625154d",
   "metadata": {},
   "source": [
    "# Graded Quiz"
   ]
  },
  {
   "cell_type": "code",
   "execution_count": 9,
   "id": "747bc5ad",
   "metadata": {},
   "outputs": [],
   "source": [
    "a = [2.7,4.6,2.6,3.0,3.2,3.8]\n",
    "b = [4.6,3.4,2.9,3.5,4.1,5.1]"
   ]
  },
  {
   "cell_type": "code",
   "execution_count": 24,
   "id": "de7e2652",
   "metadata": {},
   "outputs": [],
   "source": [
    "n = len(a)\n",
    "a_mean, b_mean = np.mean(a), np.mean(b)\n",
    "a_std, b_std = np.std(a, ddof=1), np.std(b, ddof=1)\n",
    "a_var, b_var = np.var(a, ddof=1), np.var(b, ddof=1)"
   ]
  },
  {
   "cell_type": "code",
   "execution_count": 35,
   "id": "483330ee",
   "metadata": {},
   "outputs": [],
   "source": [
    "# Assuming equal variance let's calculate pooled std\n",
    "pooled_var = ((n-1)*a_var + (n-1)*b_var) / (n+n-2)\n",
    "pooled_std = np.sqrt(pooled_var)"
   ]
  },
  {
   "cell_type": "code",
   "execution_count": 39,
   "id": "2c3a74f5",
   "metadata": {},
   "outputs": [
    {
     "data": {
      "text/plain": [
       "-1.3497897587649161"
      ]
     },
     "execution_count": 39,
     "metadata": {},
     "output_type": "execute_result"
    }
   ],
   "source": [
    "t = (a_mean-b_mean)/(pooled_std*np.sqrt(2/n))\n",
    "t"
   ]
  },
  {
   "cell_type": "code",
   "execution_count": 40,
   "id": "a75308d8",
   "metadata": {},
   "outputs": [
    {
     "data": {
      "text/plain": [
       "0.2068442715581864"
      ]
     },
     "execution_count": 40,
     "metadata": {},
     "output_type": "execute_result"
    }
   ],
   "source": [
    "df = (2*n)-2\n",
    "t_dist = stats.t(df)\n",
    "2*t_dist.cdf(t)"
   ]
  },
  {
   "cell_type": "code",
   "execution_count": 41,
   "id": "9b13883e",
   "metadata": {},
   "outputs": [
    {
     "data": {
      "text/plain": [
       "Ttest_indResult(statistic=-1.349789758764916, pvalue=0.20684427155818652)"
      ]
     },
     "execution_count": 41,
     "metadata": {},
     "output_type": "execute_result"
    }
   ],
   "source": [
    "from scipy.stats import ttest_ind\n",
    "ttest_ind(a, b, axis=0, equal_var=True)"
   ]
  },
  {
   "cell_type": "code",
   "execution_count": null,
   "id": "09bae369",
   "metadata": {},
   "outputs": [],
   "source": []
  }
 ],
 "metadata": {
  "kernelspec": {
   "display_name": "Python 3",
   "language": "python",
   "name": "python3"
  },
  "language_info": {
   "codemirror_mode": {
    "name": "ipython",
    "version": 3
   },
   "file_extension": ".py",
   "mimetype": "text/x-python",
   "name": "python",
   "nbconvert_exporter": "python",
   "pygments_lexer": "ipython3",
   "version": "3.7.10"
  },
  "toc": {
   "base_numbering": 1,
   "nav_menu": {},
   "number_sections": true,
   "sideBar": true,
   "skip_h1_title": false,
   "title_cell": "Table of Contents",
   "title_sidebar": "Contents",
   "toc_cell": false,
   "toc_position": {},
   "toc_section_display": true,
   "toc_window_display": false
  }
 },
 "nbformat": 4,
 "nbformat_minor": 5
}
